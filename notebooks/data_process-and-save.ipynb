{
 "cells": [
  {
   "cell_type": "markdown",
   "metadata": {},
   "source": [
    "The purpose of this notebook is to load all the loose txt files into a single dataframe saved in the \"data.csv\" file. \n",
    "\n",
    "This notebook:\n",
    "1. Loads all the texts (.txt) into a pandas DataFrame.\n",
    "2. Loads all the corresponding gold labels into the DataFrame.\n",
    "3. Encodes those labels and saves the encodings.\n",
    "4. Translates all non-english texts into english.\n",
    "\n",
    "Now that's all clear, let's import what we will need in the notebook."
   ]
  },
  {
   "cell_type": "code",
   "execution_count": 1,
   "metadata": {},
   "outputs": [
    {
     "name": "stderr",
     "output_type": "stream",
     "text": [
      "[nltk_data] Downloading package punkt_tab to\n",
      "[nltk_data]     /Users/jochem/nltk_data...\n",
      "[nltk_data]   Package punkt_tab is already up-to-date!\n"
     ]
    },
    {
     "data": {
      "text/plain": [
       "True"
      ]
     },
     "execution_count": 1,
     "metadata": {},
     "output_type": "execute_result"
    }
   ],
   "source": [
    "import os\n",
    "import pandas as pd\n",
    "import numpy as np\n",
    "import nltk\n",
    "import pickle\n",
    "\n",
    "from deep_translator import GoogleTranslator\n",
    "from sklearn.preprocessing import MultiLabelBinarizer\n",
    "from nltk.tokenize import sent_tokenize\n",
    "\n",
    "nltk.download('punkt_tab')"
   ]
  },
  {
   "cell_type": "markdown",
   "metadata": {},
   "source": [
    "Now that we have all the relevant packages, lets start of with point 1: loading all .txt files into a data frame. \n",
    "\n",
    "So, let's describe a function that loops through a directory, reads the text files and puts those text files into a DataFrame.\n",
    "\n",
    "Next, we load the data from all the directories."
   ]
  },
  {
   "cell_type": "code",
   "execution_count": 2,
   "metadata": {},
   "outputs": [],
   "source": [
    "def load_data(directory:str):\n",
    "    data = []\n",
    "\n",
    "    for file in os.listdir(directory):\n",
    "        file_path = os.path.join(directory,file)\n",
    "        \n",
    "        english = 0\n",
    "        if file[:2] == \"EN\":\n",
    "            english = 1\n",
    "\n",
    "        try:\n",
    "            with open(file_path, 'r') as f:\n",
    "                text = f.read()\n",
    "                data.append({\"id\":file, \"text\": text, \"english\": english})\n",
    "        except Exception as e:\n",
    "            print(f\"Error while reading:{file}\")\n",
    "    \n",
    "    print(\"Data length: \", len(data))\n",
    "    df_text = pd.DataFrame(data)\n",
    "    return df_text\n",
    "        \n"
   ]
  },
  {
   "cell_type": "code",
   "execution_count": 3,
   "metadata": {},
   "outputs": [
    {
     "name": "stdout",
     "output_type": "stream",
     "text": [
      "Data length:  200\n",
      "Data length:  211\n",
      "Data length:  200\n",
      "611\n"
     ]
    }
   ],
   "source": [
    "df_text_en = load_data(\"/Users/jochem/Documents/school/Uni KI jaar 4/Scriptie/Train Data/training_data_16_October_release/EN/raw-documents\")\n",
    "df_text_bg = load_data(\"/Users/jochem/Documents/school/Uni KI jaar 4/Scriptie/Train Data/training_data_16_October_release/BG/raw-documents\")\n",
    "#df_text_hi = load_data(\"/Users/jochem/Documents/school/Uni KI jaar 4/Scriptie/Train Data/training_data_16_October_release/HI/raw-documents\")\n",
    "df_text_pt = load_data(\"/Users/jochem/Documents/school/Uni KI jaar 4/Scriptie/Train Data/training_data_16_October_release/PT/raw-documents\")\n",
    "df_text = pd.concat([df_text_en, df_text_bg, df_text_pt]) #df_text_hi,\n",
    "print(len(df_text))"
   ]
  },
  {
   "cell_type": "markdown",
   "metadata": {},
   "source": [
    "We still need the correct labels for these files though. \n",
    "\n",
    "To get these we: \n",
    "1. Define a function that goes through the subtask 2 annotation file and loads all the appropriate labels into a DataFrame.\n",
    "2. Load in all different languages labels.\n",
    "3. Encode the labels with a MultiLabelBinarizer.\n",
    "4. Save these in the DF as well. "
   ]
  },
  {
   "cell_type": "code",
   "execution_count": 4,
   "metadata": {},
   "outputs": [],
   "source": [
    "def load_labels(file_path:str):\n",
    "    labels = []\n",
    "    with open(file_path, \"r\") as f:\n",
    "        for line in f:\n",
    "            tags = line.strip().split(\"\\t\")\n",
    "            \n",
    "            text_id = tags[0].strip()\n",
    "\n",
    "            dom_narrs = [narr.strip() for narr in tags[1].split(\";\")]\n",
    "            sub_narrs = [narr.strip() for narr in tags[2].split(\";\")]\n",
    "\n",
    "            labels.append({\"id\":text_id,\"dom_narr\": dom_narrs, \"sub_narr\": sub_narrs})\n",
    "    print(\"Labels length:\", len(labels))\n",
    "    df_labels = pd.DataFrame(labels)\n",
    "    return df_labels"
   ]
  },
  {
   "cell_type": "code",
   "execution_count": 5,
   "metadata": {},
   "outputs": [
    {
     "name": "stdout",
     "output_type": "stream",
     "text": [
      "Labels length: 200\n",
      "Labels length: 211\n",
      "Labels length: 200\n",
      "611\n"
     ]
    }
   ],
   "source": [
    "df_labels_en = load_labels(\"/Users/jochem/Documents/school/Uni KI jaar 4/Scriptie/Train Data/training_data_16_October_release/EN/subtask-2-annotations.txt\")\n",
    "df_labels_bg = load_labels(\"/Users/jochem/Documents/school/Uni KI jaar 4/Scriptie/Train Data/training_data_16_October_release/BG/subtask-2-annotations.txt\")\n",
    "#df_labels_hi = load_labels(\"/Users/jochem/Documents/school/Uni KI jaar 4/Scriptie/Train Data/training_data_16_October_release/HI/subtask-2-annotations.txt\")\n",
    "df_labels_pt = load_labels(\"/Users/jochem/Documents/school/Uni KI jaar 4/Scriptie/Train Data/training_data_16_October_release/PT/subtask-2-annotations.txt\")\n",
    "df_labels = pd.concat([df_labels_en, df_labels_bg, df_labels_pt]) #df_labels_hi,\n",
    "print(len(df_labels))"
   ]
  },
  {
   "cell_type": "markdown",
   "metadata": {},
   "source": [
    "Now for the encoding:\n",
    "1. Again, we define a function to do this for us.\n",
    "2. Encode the labels and save them in the DF.\n",
    "3. Save the MultiLabelBinarizer objects in a pickle (.pkl) file, so we can access them later, to revert predictions back into full classes."
   ]
  },
  {
   "cell_type": "code",
   "execution_count": 6,
   "metadata": {},
   "outputs": [],
   "source": [
    "# label preprocessing steps\n",
    "# one-hot encodes the dominant- and sub-narrative labels       \n",
    "# TODO: also make this function save the dom and sub mlbs       \n",
    "def encode_labels(df, save:bool=True):\n",
    "    dom_mlb = MultiLabelBinarizer()\n",
    "    sub_mlb = MultiLabelBinarizer()\n",
    "\n",
    "    dom_narr_enc = dom_mlb.fit_transform(df[\"dom_narr\"])\n",
    "    df = pd.concat([df, pd.DataFrame(dom_narr_enc, columns=dom_mlb.classes_)], axis=1)\n",
    "\n",
    "    sub_narr_enc = sub_mlb.fit_transform(df[\"sub_narr\"])\n",
    "    df = pd.concat([df, pd.DataFrame(sub_narr_enc, columns=sub_mlb.classes_)], axis=1)\n",
    "    \n",
    "    if(save):\n",
    "        with open(\"../pkl_files/dom_mlb.pkl\", \"wb\") as f:\n",
    "            pickle.dump(dom_mlb,f)\n",
    "        \n",
    "        with open(\"../pkl_files/sub_mlb.pkl\", \"wb\") as f:\n",
    "            pickle.dump(sub_mlb,f)\n",
    "\n",
    "    return df"
   ]
  },
  {
   "cell_type": "code",
   "execution_count": 7,
   "metadata": {},
   "outputs": [
    {
     "name": "stdout",
     "output_type": "stream",
     "text": [
      "611\n"
     ]
    }
   ],
   "source": [
    "df = encode_labels(pd.merge(df_text, df_labels, on=\"id\"))\n",
    "df.to_clipboard()\n",
    "print(len(df))"
   ]
  },
  {
   "cell_type": "markdown",
   "metadata": {},
   "source": [
    "Next, we would like to translate the non-english texts into english. So,\n",
    "\n",
    "1. Define a function to translate a list of strings into english.\n",
    "2. Apply this function to all non english texts.\n",
    "3. While applying the translation function, we call nltk's sent_tokenizer, to split the texts up into an array of sentence strings."
   ]
  },
  {
   "cell_type": "code",
   "execution_count": 8,
   "metadata": {},
   "outputs": [],
   "source": [
    "# source lang = \"auto\", target lang = \"en\"\n",
    "translator = GoogleTranslator()\n",
    "def translate_text(text:list[str]):\n",
    "    translation = []\n",
    "    \n",
    "    try:\n",
    "        translation = [translator.translate(t) for t in text]\n",
    "        translation = [t for t in translation if t is not None]\n",
    "        translation = \" \".join(translation)\n",
    "\n",
    "    except Exception as error:\n",
    "        print(\"translation failed\")\n",
    "        print(error)\n",
    "        \n",
    "    return translation"
   ]
  },
  {
   "cell_type": "code",
   "execution_count": 9,
   "metadata": {},
   "outputs": [],
   "source": [
    "# only using sent tokenize and translating each sentence individually had some serious performance issues,\n",
    "# so now lets chunk the text to a length thats doable.\n",
    "def chunk_text(text:str, chunk_size=3500) -> list[str]:\n",
    "    if(len(text) < chunk_size):\n",
    "        return [text]\n",
    "    \n",
    "    chunks = []\n",
    "    current_chunk = []\n",
    "    current_chunk_length = 0\n",
    "\n",
    "    sentence_tokens = sent_tokenize(text)\n",
    "    for sent in sentence_tokens:\n",
    "        sent_length = len(sent.encode('utf-8'))\n",
    "\n",
    "        if (sent_length + current_chunk_length) >= chunk_size:\n",
    "            chunks.append(\" \".join(current_chunk))\n",
    "            current_chunk = [sent]\n",
    "            current_chunk_length = sent_length + 1\n",
    "        \n",
    "        else:\n",
    "            current_chunk.append(sent)\n",
    "            current_chunk_length += sent_length + 1\n",
    "    \n",
    "    if current_chunk:\n",
    "        chunks.append(\" \".join(current_chunk))\n",
    "    \n",
    "    return chunks\n",
    "\n"
   ]
  },
  {
   "cell_type": "code",
   "execution_count": 10,
   "metadata": {},
   "outputs": [],
   "source": [
    "chunked_text = df.loc[(df[\"english\"] == 0), \"text\"].apply(lambda x: chunk_text(x))\n",
    "chunked_text.to_clipboard()"
   ]
  },
  {
   "cell_type": "markdown",
   "metadata": {},
   "source": [
    "BE AWARE THE FOLLOWING CELL TAKES A LONG TIME TO COMPLETE!\n",
    "\n",
    "It applies the translation to all the non english texts.\n",
    "Expect to wait at least 10 minutes for the result."
   ]
  },
  {
   "cell_type": "code",
   "execution_count": 11,
   "metadata": {},
   "outputs": [
    {
     "name": "stdout",
     "output_type": "stream",
     "text": [
      "translation failed\n",
      "Request exception can happen due to an api connection error. Please check your connection and try again\n",
      "translation failed\n",
      "Request exception can happen due to an api connection error. Please check your connection and try again\n",
      "translation failed\n",
      "Request exception can happen due to an api connection error. Please check your connection and try again\n",
      "translation failed\n",
      "Request exception can happen due to an api connection error. Please check your connection and try again\n",
      "translation failed\n",
      "Request exception can happen due to an api connection error. Please check your connection and try again\n"
     ]
    }
   ],
   "source": [
    "df.loc[(df[\"english\"] == 0), \"text\"] = df.loc[(df[\"english\"] == 0), \"text\"].apply(lambda x: translate_text(chunk_text(x)))"
   ]
  },
  {
   "cell_type": "code",
   "execution_count": 17,
   "metadata": {},
   "outputs": [
    {
     "name": "stdout",
     "output_type": "stream",
     "text": [
      "611\n"
     ]
    }
   ],
   "source": [
    "print(len(df))\n",
    "df.to_clipboard()"
   ]
  },
  {
   "cell_type": "markdown",
   "metadata": {},
   "source": [
    "The last thing we want to do is save our full data set to a csv file. "
   ]
  },
  {
   "cell_type": "code",
   "execution_count": 13,
   "metadata": {},
   "outputs": [],
   "source": [
    "df.to_csv(\"../data/newdata.csv\")"
   ]
  },
  {
   "cell_type": "code",
   "execution_count": 18,
   "metadata": {},
   "outputs": [
    {
     "name": "stdout",
     "output_type": "stream",
     "text": [
      "BG_971.txt\n",
      "BG_1249.txt\n",
      "BG_613.txt\n",
      "BG_561.txt\n",
      "BG_1637.txt\n",
      "5\n"
     ]
    }
   ],
   "source": [
    "amount =0 \n",
    "for i in range(len(df)):\n",
    "    if(df[\"text\"][i] == []):\n",
    "        print(df[\"id\"][i])\n",
    "        amount += 1\n",
    "\n",
    "print(amount)"
   ]
  },
  {
   "cell_type": "code",
   "execution_count": 15,
   "metadata": {},
   "outputs": [
    {
     "name": "stdout",
     "output_type": "stream",
     "text": [
      "181\n",
      "3107\n",
      "60\n",
      "1874\n"
     ]
    }
   ],
   "source": [
    "problematic_text = \"\"\"'पापा ने वॉर रुकवा दी' से लेकर ग्लोबल पीसमेकर तक, जानिए कैसे रूस और ...\n",
    "\n",
    "'पापा ने वॉर रुकवा दी' से लेकर ग्लोबल पीसमेकर तक, जानिए कैसे रूस और यूक्रेन के बीच संतुलन बना रहे पीएम मोदी?\n",
    "By मनाली रस्तोगी | Published: August 30, 2024 07:25 AM2024-08-30T07:25:07+5:302024-08-30T07:41:48+5:30\n",
    "रूस और यूक्रेन दोनों के साथ भारत के ऐतिहासिक संबंधों के साथ मिलकर इस संतुलन अधिनियम ने इन अशांत समय में शांतिदूत के रूप में पीएम मोदी की क्षमता के बारे में उम्मीदें जगाई हैं। वह सही तरीके से कार्ड खेल रहे हैं।\n",
    "रूस और यूक्रेन के बीच चल रहे संघर्ष के बीच प्रधानमंत्री नरेंद्र मोदी की कूटनीतिक चाल ने भारत को वैश्विक मंच पर एक महत्वपूर्ण खिलाड़ी के रूप में स्थापित किया है। मोदी की हालिया यूक्रेन यात्रा, जो तीन दशकों में किसी भारतीय प्रधान मंत्री की पहली यात्रा है, ने न केवल भारत में चर्चा को फिर से शुरू कर दिया है, बल्कि परस्पर विरोधी वैश्विक शक्तियों के बीच एक नाजुक संतुलन बनाए रखने की उनकी क्षमता का भी प्रदर्शन किया है।\n",
    "रूस और यूक्रेन दोनों के साथ भारत के ऐतिहासिक संबंधों के साथ मिलकर इस संतुलन अधिनियम ने इन अशांत समय में शांतिदूत के रूप में पीएम मोदी की क्षमता के बारे में उम्मीदें जगाई हैं। वह सही तरीके से कार्ड खेल रहे हैं। चाहे वह भारत द्वारा आयोजित जी20 शिखर सम्मेलन हो, या छह सप्ताह के अंतराल में रूस और यूक्रेन दोनों की लगभग बैक-टू-बैक यात्राएं हों।\n",
    "कूटनीतिक रणनीति\n",
    "रूस के साथ भारत के संबंध शीत युद्ध के युग से हैं जब सोवियत संघ एक दृढ़ सहयोगी था। 1971 में हस्ताक्षरित शांति, मित्रता और सहयोग की भारत-सोवियत संधि दोनों देशों के बीच गहरे संबंधों का प्रमाण है।\n",
    "रूस एक महत्वपूर्ण रक्षा भागीदार रहा है, जो दशकों से भारत को सैन्य उपकरण और प्रौद्योगिकी की आपूर्ति कर रहा है। दूसरी ओर, सोवियत संघ से स्वतंत्रता प्राप्त करने के बाद यूक्रेन भी भारत के लिए एक महत्वपूर्ण भागीदार रहा है, खासकर रक्षा, शिक्षा और कृषि जैसे क्षेत्रों में।\n",
    "रूस-यूक्रेन संघर्ष के दौरान इन रिश्तों को निभाना एक कठिन चुनौती रही है। जबकि अमेरिका के नेतृत्व में पश्चिम ने देशों पर रूस के खिलाफ रुख अपनाने के लिए दबाव डाला है, वहीं भारत ने बातचीत और शांति की वकालत करते हुए तटस्थ रुख बनाए रखा है।\n",
    "मोदी सरकार ने रूस और यूक्रेन दोनों के साथ बातचीत जारी रखी है और रूस को अलग-थलग करने के अंतरराष्ट्रीय दबाव के आगे झुकने से इनकार कर दिया है। इसका उदाहरण पश्चिमी प्रतिबंधों के बावजूद कच्चे तेल की खरीद सहित रूस के साथ भारत के चल रहे व्यापारिक सौदे हैं।\n",
    "मोदी की यूक्रेन यात्रा प्रतीकात्मक थी, जो शांति के प्रति भारत की प्रतिबद्धता और इसमें शामिल सभी पक्षों के साथ जुड़ने की इच्छा का संकेत देती है। रूस और यूक्रेन दोनों में उन्हें जो स्वागत मिला, वह एक ऐसे राष्ट्र के रूप में भारत की अद्वितीय स्थिति को उजागर करता है जो पूर्व और पश्चिम के बीच की खाई को पाट सकता है। यह तथ्य कि मोदी दोनों देशों में इतना गर्मजोशी से स्वागत करने में कामयाब रहे, यह अंतरराष्ट्रीय मंच पर उनके सम्मान को उजागर करता है।\n",
    "सोशल मीडिया पर वायरल हो रहा है 'पापा ने वार रुकवा दी'\n",
    "भारत में मोदी की यूक्रेन यात्रा से सोशल मीडिया पर टिप्पणियों की लहर दौड़ गई है। 'पापा ने वार रुकवा दी' वाक्यांश, जो लोकसभा चुनाव के दौरान उत्पन्न हुआ था, इस बार एक अलग स्वर के साथ फिर से सामने आया है।\n",
    "मोदी के समर्थकों ने उनके कूटनीतिक प्रयासों की प्रशंसा करने के लिए एक्स जैसे मंच का सहारा लिया है, ऐसी टिप्पणियों के साथ कि \"मोदी जी वास्तव में एक वैश्विक नेता हैं\" और \"शांतिदूत के रूप में भारत की स्थिति अब मजबूत हो गई है\"।\n",
    "हालांकि, आलोचक संशय में हैं। कुछ लोगों ने सवाल किया है कि क्या मोदी की यात्रा का ज़मीनी स्तर पर कोई ठोस प्रभाव पड़ेगा, \"क्या यह यात्रा सिर्फ एक पीआर अभ्यास है?\" और \"भारत शांति स्थापित करने के लिए क्या ठोस कदम उठा रहा है?\"\n",
    "लेकिन एक बात स्पष्ट है। पीएम मोदी ने जो कर दिखाया, कोई अन्य राष्ट्र प्रमुख नहीं कर पाया। और वो है- महज कुछ हफ्तों के अंतराल में पुतिन और ज़ेलेंस्की दोनों से मुलाकात। यह वैश्विक शांति निर्माता के रूप में भारत की भूमिका और स्थिति को मजबूत करता है।\n",
    "शांति करने वाला\n",
    "रूस और यूक्रेन दोनों के साथ जुड़ने के मोदी के प्रयास और बातचीत और शांति पर उनका जोर भारत को संघर्ष में संभावित मध्यस्थ के रूप में स्थापित कर सकता है। भारत की ऐतिहासिक गुटनिरपेक्ष नीति, तटस्थता के वर्तमान रुख के साथ मिलकर, इसे मध्यस्थ के रूप में कार्य करने के लिए आवश्यक विश्वसनीयता प्रदान करती है।\n",
    "इसके अलावा वैश्विक मंच पर भारत के बढ़ते प्रभाव और रूस और यूक्रेन दोनों के नेताओं के साथ मोदी के व्यक्तिगत तालमेल से भारत दोनों पक्षों को बातचीत की मेज पर लाने में रचनात्मक भूमिका निभा सकता है।\n",
    "भारत की सामरिक स्वतंत्रता\n",
    "मोदी के दृष्टिकोण में जो बात विशेष रूप से प्रभावशाली है वह रणनीतिक स्वतंत्रता बनाए रखने की उनकी क्षमता है। रूस के साथ भारत के घनिष्ठ संबंधों और उसकी आर्थिक व्यस्तताओं के बावजूद, मोदी संयुक्त राज्य अमेरिका की अच्छी किताबों में बने रहने में कामयाब रहे हैं।\n",
    "वर्तमान भू-राजनीतिक माहौल को देखते हुए, यह संतुलन कार्य कोई छोटी उपलब्धि नहीं है, जहां एक शक्ति के साथ बहुत निकटता से जुड़ना अक्सर दूसरों से अलगाव की ओर ले जाता है। मोदी की कूटनीति ने भारत को अपनी संप्रभुता का दावा करने और पूर्व बनाम पश्चिम के द्विआधारी संघर्ष में शामिल हुए बिना अपने राष्ट्रीय हितों को आगे बढ़ाने की अनुमति दी है।\n",
    "विपक्ष चुप हो गया\n",
    "दिलचस्प बात यह है कि जहां मोदी की यात्रा ने व्यापक ध्यान आकर्षित किया है, वहीं विपक्ष, विशेषकर कांग्रेस, काफी हद तक चुप रही है। यह चुप्पी उल्लेखनीय है, विशेषकर लोकसभा चुनाव के दौरान विपक्ष द्वारा \"पापा ने वार रुकवा दी\" तंज के साथ अपनाए गए आक्रामक रुख को देखते हुए।\n",
    "कांग्रेस की ओर से प्रतिक्रिया की कमी इस बात का संकेत हो सकती है कि मोदी जिस कूटनीतिक रस्सी पर चल रहे हैं, उसकी मान्यता है, जिसकी आलोचना भारत की वैश्विक स्थिति के प्रति गैर-देशभक्त या गैर-समर्थक दिखाई दिए बिना करना मुश्किल है।\"\"\"\n",
    "\n",
    "\n",
    "problematic_chunk = chunk_text(problematic_text)\n",
    "for chunk in problematic_chunk:\n",
    "    print (len(chunk))\n",
    "translated_chunk = translate_text(problematic_chunk[3])"
   ]
  },
  {
   "cell_type": "code",
   "execution_count": 16,
   "metadata": {},
   "outputs": [
    {
     "name": "stdout",
     "output_type": "stream",
     "text": [
      "L K No  A K  B so  S Fifth note of musical scale Sh T  H  Fifth note of musical scale A I  I The  No  J  K and  The b Y  K E  A No Y  and Sh T and  Fifth note of musical scale and I b  No H  K and  Fifth note of musical scale Y  Oh And  And  H  I H J  K is  H F so  K  A So And L  i  Fifth note of musical scale so No  Oh and  J L S K  The No  S  I L K so  Y H  And Sh And K  Sh so  No And I So  K  and Fifth note of musical scale  i  Bh and So  K  Bh I K  Oh And  S Th so  K  I J B so  K And So  H  Sh So  K And No  And L  And S  Oh And  Y K And No  The No  K  S Th  J D No  K  I The  K  Fifth note of musical scale And Y S  Oh And  B So f So  Oh and  Sh So  Fifth note of musical scale And  U No K  J and  Bh and so  K  S d and Sh  I  S Bh And So  I th Y S Th  K  and Fifth note of musical scale  I  S Th Fifth note of musical scale so  K And  S K So  H  Bh And so  K  Hey so H S K  C T No And Fifth note of musical scale K Sh  No So  so T S Th So  K  And And So I No  and b  K  S Th  i L K And  etc. S  I th Y S Th  K  and Fifth note of musical scale  I  K And Y  K and No  K  L A  Come And Sh Y K  And Sh And S No Y So  Fifth note of musical scale and The No  K And so  H  etc S K  A L And  And Sh And K  I f  Fifth note of musical scale And  Bh and So  K  B Dh so  Fifth note of musical scale and Bh And  Oh And  and S  Oh And  Y K And No  The No  K  No So O!  K  S Th  I The  K  And Y K so C so  so L I L  S  Bh and so  The No  Fifth note of musical scale K Sh  K  B So f so  K  I J  Fifth note of musical scale And  L No  I  and f No so I K  Bh I K  No Bh  S K So  H  Bh And so  K  S i and K  S And so so And So  i The  K  The Sh T K n  I  J  B So  And Sh Sh  and Fifth note of musical scale  S  Fifth note of musical scale And Bh And Sh L  H  And H  And n No So K  S And so So And So  B No A  and b No  K  U No K  K Sh I So  H  and S  K  S Th  Bh and so  K  d No Sh Th  S B th  Oh And  U S K  Come And Th K  And Y S So so O!  K  B And J The  i The  S Y K So  and J Y  A i And K  K  A f There is  K So B  I  B No  And H No  i  K I Y B  And H  H  And And so i No  Bh and J No So K  I H L  K  The B So  H A  Y H  S So L No  K And Y  K E  is T  U Fifth note of musical scale L B th  No H  H  J H  A K  Sh K so  K  S Th  B H so  No K T so  S  J D No  A K S and  The S And  S  A L c And  K  O! and  L  J So  H  i The  K  K T No so  No  Bh and so  K  A Fifth note of musical scale No  S Fifth note of musical scale and Bh So  K  The And  K And No  Oh And  Fifth note of musical scale and And  B No I  Fifth note of musical scale Sh f I  K  The And Come th And  S d and Sh  i  Sh i L  H A  B No  A Fifth note of musical scale No  And Sh T And Y  H So  K  Come c  B D No  K  A No I So  The  H  And Fifth note of musical scale K Sh  f Fifth note of musical scale  H  C Y  The L f S Fifth note of musical scale  B so  Y H  H  K  J H  I The  K  Y so and  No  And Y Fifth note of musical scale K  th Y No  Come K And Sh So  K Y  H  And H  And Fifth note of musical scale K Sh  And Sh Sh K And  K c and S  K F  H The  so K  f Fifth note of musical scale  And H  H  Y H  f Fifth note of musical scale Fifth note of musical scale  U L L B No Y  H  And Sh Sh K and  L K S Bh  f No And  K  The and No  And Fifth note of musical scale K Sh  The And and  Fifth note of musical scale Fifth note of musical scale  No  And And  and K And  The  So J  K  S Th  A Fifth note of musical scale No A  c A  Come K And I K  And b  K  The b so  H A  K C and S  K  O! and  S  Fifth note of musical scale And so K And Y  K  K I  etc. S  B So  K  S K so  H  S K so  H  K  I The  J S  K T No So K  and S S  Fifth note of musical scale and  f L  and H  H  U S K  I No Y So  H  J S K  Come L f No  Bh And So  K  And Sh And K  S Th So  K  Fifth note of musical scale And so  C And The Sh Bh K so  Y  c And S I And Th K  The b E  The A  B No  K And No  I Sh K L  H\n"
     ]
    }
   ],
   "source": [
    "print(translated_chunk)"
   ]
  },
  {
   "cell_type": "code",
   "execution_count": null,
   "metadata": {},
   "outputs": [],
   "source": []
  }
 ],
 "metadata": {
  "kernelspec": {
   "display_name": "base",
   "language": "python",
   "name": "python3"
  },
  "language_info": {
   "codemirror_mode": {
    "name": "ipython",
    "version": 3
   },
   "file_extension": ".py",
   "mimetype": "text/x-python",
   "name": "python",
   "nbconvert_exporter": "python",
   "pygments_lexer": "ipython3",
   "version": "3.12.7"
  }
 },
 "nbformat": 4,
 "nbformat_minor": 2
}
