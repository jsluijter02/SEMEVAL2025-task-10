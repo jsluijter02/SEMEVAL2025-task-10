{
 "cells": [
  {
   "cell_type": "markdown",
   "metadata": {},
   "source": [
    "The purpose of this notebook is to load all the loose txt files into a single dataframe saved in the \"data.csv\" file. \n",
    "\n",
    "This notebook:\n",
    "1. Loads all the texts (.txt) into a pandas DataFrame.\n",
    "2. Loads all the corresponding gold labels into the DataFrame.\n",
    "3. Encodes those labels and saves the encodings.\n",
    "4. Translates all non-english texts into english.\n",
    "\n",
    "Now that's all clear, let's import what we will need in the notebook."
   ]
  },
  {
   "cell_type": "code",
   "execution_count": 1,
   "metadata": {},
   "outputs": [
    {
     "name": "stderr",
     "output_type": "stream",
     "text": [
      "[nltk_data] Downloading package punkt_tab to\n",
      "[nltk_data]     /Users/jochem/nltk_data...\n",
      "[nltk_data]   Package punkt_tab is already up-to-date!\n"
     ]
    },
    {
     "data": {
      "text/plain": [
       "True"
      ]
     },
     "execution_count": 1,
     "metadata": {},
     "output_type": "execute_result"
    }
   ],
   "source": [
    "import os\n",
    "import pandas as pd\n",
    "import numpy as np\n",
    "import nltk\n",
    "import pickle\n",
    "\n",
    "from deep_translator import GoogleTranslator\n",
    "from sklearn.preprocessing import MultiLabelBinarizer\n",
    "from nltk.tokenize import sent_tokenize\n",
    "\n",
    "nltk.download('punkt_tab')"
   ]
  },
  {
   "cell_type": "markdown",
   "metadata": {},
   "source": [
    "Now that we have all the relevant packages, lets start of with point 1: loading all .txt files into a data frame. \n",
    "\n",
    "So, let's describe a function that loops through a directory, reads the text files and puts those text files into a DataFrame.\n",
    "\n",
    "Next, we load the data from all the directories."
   ]
  },
  {
   "cell_type": "code",
   "execution_count": 2,
   "metadata": {},
   "outputs": [],
   "source": [
    "def load_data(directory:str):\n",
    "    data = []\n",
    "\n",
    "    for file in os.listdir(directory):\n",
    "        file_path = os.path.join(directory,file)\n",
    "        \n",
    "        english = 0\n",
    "        if file[:2] == \"EN\":\n",
    "            english = 1\n",
    "\n",
    "        try:\n",
    "            with open(file_path, 'r') as f:\n",
    "                text = f.read()\n",
    "                data.append({\"id\":file, \"text\": text, \"english\": english})\n",
    "        except Exception as e:\n",
    "            print(f\"Error while reading:{file}\")\n",
    "    \n",
    "    print(\"Data length: \", len(data))\n",
    "    df_text = pd.DataFrame(data)\n",
    "    return df_text\n",
    "        \n"
   ]
  },
  {
   "cell_type": "code",
   "execution_count": 3,
   "metadata": {},
   "outputs": [
    {
     "name": "stdout",
     "output_type": "stream",
     "text": [
      "Data length:  200\n",
      "Data length:  211\n",
      "Data length:  200\n",
      "611\n"
     ]
    }
   ],
   "source": [
    "df_text_en = load_data(\"/Users/jochem/Documents/school/Uni KI jaar 4/Scriptie/Train Data/training_data_16_October_release/EN/raw-documents\")\n",
    "df_text_bg = load_data(\"/Users/jochem/Documents/school/Uni KI jaar 4/Scriptie/Train Data/training_data_16_October_release/BG/raw-documents\")\n",
    "#df_text_hi = load_data(\"/Users/jochem/Documents/school/Uni KI jaar 4/Scriptie/Train Data/training_data_16_October_release/HI/raw-documents\")\n",
    "df_text_pt = load_data(\"/Users/jochem/Documents/school/Uni KI jaar 4/Scriptie/Train Data/training_data_16_October_release/PT/raw-documents\")\n",
    "df_text = pd.concat([df_text_en, df_text_bg, df_text_pt]) #df_text_hi,\n",
    "print(len(df_text))"
   ]
  },
  {
   "cell_type": "markdown",
   "metadata": {},
   "source": [
    "We still need the correct labels for these files though. \n",
    "\n",
    "To get these we: \n",
    "1. Define a function that goes through the subtask 2 annotation file and loads all the appropriate labels into a DataFrame.\n",
    "2. Load in all different languages labels.\n",
    "3. Encode the labels with a MultiLabelBinarizer.\n",
    "4. Save these in the DF as well. "
   ]
  },
  {
   "cell_type": "code",
   "execution_count": 4,
   "metadata": {},
   "outputs": [],
   "source": [
    "def load_labels(file_path:str):\n",
    "    labels = []\n",
    "    with open(file_path, \"r\") as f:\n",
    "        for line in f:\n",
    "            tags = line.strip().split(\"\\t\")\n",
    "            \n",
    "            text_id = tags[0].strip()\n",
    "\n",
    "            dom_narrs = [narr.strip() for narr in tags[1].split(\";\")]\n",
    "            sub_narrs = [narr.strip() for narr in tags[2].split(\";\")]\n",
    "\n",
    "            labels.append({\"id\":text_id,\"dom_narr\": dom_narrs, \"sub_narr\": sub_narrs})\n",
    "    print(\"Labels length:\", len(labels))\n",
    "    df_labels = pd.DataFrame(labels)\n",
    "    return df_labels"
   ]
  },
  {
   "cell_type": "code",
   "execution_count": 5,
   "metadata": {},
   "outputs": [
    {
     "name": "stdout",
     "output_type": "stream",
     "text": [
      "Labels length: 200\n",
      "Labels length: 211\n",
      "Labels length: 200\n",
      "611\n"
     ]
    }
   ],
   "source": [
    "df_labels_en = load_labels(\"/Users/jochem/Documents/school/Uni KI jaar 4/Scriptie/Train Data/training_data_16_October_release/EN/subtask-2-annotations.txt\")\n",
    "df_labels_bg = load_labels(\"/Users/jochem/Documents/school/Uni KI jaar 4/Scriptie/Train Data/training_data_16_October_release/BG/subtask-2-annotations.txt\")\n",
    "#df_labels_hi = load_labels(\"/Users/jochem/Documents/school/Uni KI jaar 4/Scriptie/Train Data/training_data_16_October_release/HI/subtask-2-annotations.txt\")\n",
    "df_labels_pt = load_labels(\"/Users/jochem/Documents/school/Uni KI jaar 4/Scriptie/Train Data/training_data_16_October_release/PT/subtask-2-annotations.txt\")\n",
    "df_labels = pd.concat([df_labels_en, df_labels_bg, df_labels_pt]) #df_labels_hi,\n",
    "print(len(df_labels))"
   ]
  },
  {
   "cell_type": "markdown",
   "metadata": {},
   "source": [
    "Now for the encoding:\n",
    "1. Again, we define a function to do this for us.\n",
    "2. Encode the labels and save them in the DF.\n",
    "3. Save the MultiLabelBinarizer objects in a pickle (.pkl) file, so we can access them later, to revert predictions back into full classes."
   ]
  },
  {
   "cell_type": "code",
   "execution_count": 6,
   "metadata": {},
   "outputs": [],
   "source": [
    "# label preprocessing steps\n",
    "# one-hot encodes the dominant- and sub-narrative labels       \n",
    "# TODO: also make this function save the dom and sub mlbs       \n",
    "def encode_labels(df, save:bool=True):\n",
    "    dom_mlb = MultiLabelBinarizer()\n",
    "    sub_mlb = MultiLabelBinarizer()\n",
    "\n",
    "    dom_narr_enc = dom_mlb.fit_transform(df[\"dom_narr\"])\n",
    "    df = pd.concat([df, pd.DataFrame(dom_narr_enc, columns=dom_mlb.classes_)], axis=1)\n",
    "\n",
    "    sub_narr_enc = sub_mlb.fit_transform(df[\"sub_narr\"])\n",
    "    df = pd.concat([df, pd.DataFrame(sub_narr_enc, columns=sub_mlb.classes_)], axis=1)\n",
    "    \n",
    "    if(save):\n",
    "        with open(\"../pkl_files/dom_mlb.pkl\", \"wb\") as f:\n",
    "            pickle.dump(dom_mlb,f)\n",
    "        \n",
    "        with open(\"../pkl_files/sub_mlb.pkl\", \"wb\") as f:\n",
    "            pickle.dump(sub_mlb,f)\n",
    "\n",
    "    return df"
   ]
  },
  {
   "cell_type": "code",
   "execution_count": 7,
   "metadata": {},
   "outputs": [
    {
     "name": "stdout",
     "output_type": "stream",
     "text": [
      "611\n"
     ]
    }
   ],
   "source": [
    "df = encode_labels(pd.merge(df_text, df_labels, on=\"id\"))\n",
    "df.to_clipboard()\n",
    "print(len(df))"
   ]
  },
  {
   "cell_type": "markdown",
   "metadata": {},
   "source": [
    "Next, we would like to translate the non-english texts into english. So,\n",
    "\n",
    "1. Define a function to translate a list of strings into english.\n",
    "2. Apply this function to all non english texts.\n",
    "3. While applying the translation function, we call nltk's sent_tokenizer, to split the texts up into an array of sentence strings."
   ]
  },
  {
   "cell_type": "code",
   "execution_count": 8,
   "metadata": {},
   "outputs": [],
   "source": [
    "# source lang = \"auto\", target lang = \"en\"\n",
    "translator = GoogleTranslator()\n",
    "def translate_text(text:list[str]):\n",
    "    translation = []\n",
    "    \n",
    "    try:\n",
    "        translation = [translator.translate(t) for t in text]\n",
    "        translation = [t for t in translation if t is not None]\n",
    "        translation = \" \".join(translation)\n",
    "\n",
    "    except Exception as error:\n",
    "        print(\"translation failed\")\n",
    "        print(error)\n",
    "        \n",
    "    return translation"
   ]
  },
  {
   "cell_type": "code",
   "execution_count": 9,
   "metadata": {},
   "outputs": [],
   "source": [
    "# only using sent tokenize and translating each sentence individually had some serious performance issues,\n",
    "# so now lets chunk the text to a length thats doable.\n",
    "def chunk_text(text:str, chunk_size=1500) -> list[str]:\n",
    "    if(len(text) < chunk_size):\n",
    "        return [text]\n",
    "    \n",
    "    chunks = []\n",
    "    current_chunk = []\n",
    "    current_chunk_length = 0\n",
    "\n",
    "    sentence_tokens = sent_tokenize(text)\n",
    "    for sent in sentence_tokens:\n",
    "        sent_length = len(sent.encode('utf-8'))\n",
    "\n",
    "        if (sent_length + current_chunk_length) >= chunk_size:\n",
    "            chunks.append(\" \".join(current_chunk))\n",
    "            current_chunk = [sent]\n",
    "            current_chunk_length = sent_length + 1\n",
    "        \n",
    "        else:\n",
    "            current_chunk.append(sent)\n",
    "            current_chunk_length += sent_length + 1\n",
    "    \n",
    "    if current_chunk:\n",
    "        chunks.append(\" \".join(current_chunk))\n",
    "    \n",
    "    return chunks\n",
    "\n"
   ]
  },
  {
   "cell_type": "code",
   "execution_count": 10,
   "metadata": {},
   "outputs": [],
   "source": [
    "chunked_text = df.loc[(df[\"english\"] == 0), \"text\"].apply(lambda x: chunk_text(x))\n",
    "chunked_text.to_clipboard()"
   ]
  },
  {
   "cell_type": "markdown",
   "metadata": {},
   "source": [
    "BE AWARE THE FOLLOWING CELL TAKES A LONG TIME TO COMPLETE!\n",
    "\n",
    "It applies the translation to all the non english texts.\n",
    "Expect to wait at least 10 minutes for the result."
   ]
  },
  {
   "cell_type": "code",
   "execution_count": 11,
   "metadata": {},
   "outputs": [],
   "source": [
    "df.loc[(df[\"english\"] == 0), \"text\"] = df.loc[(df[\"english\"] == 0), \"text\"].apply(lambda x: translate_text(chunk_text(x)))"
   ]
  },
  {
   "cell_type": "code",
   "execution_count": 12,
   "metadata": {},
   "outputs": [
    {
     "name": "stdout",
     "output_type": "stream",
     "text": [
      "611\n"
     ]
    }
   ],
   "source": [
    "print(len(df))\n",
    "df.to_clipboard()"
   ]
  },
  {
   "cell_type": "markdown",
   "metadata": {},
   "source": [
    "The last thing we want to do is save our full data set to a csv file. "
   ]
  },
  {
   "cell_type": "code",
   "execution_count": 13,
   "metadata": {},
   "outputs": [],
   "source": [
    "df.to_csv(\"../data/newdata.csv\")"
   ]
  },
  {
   "cell_type": "code",
   "execution_count": 14,
   "metadata": {},
   "outputs": [
    {
     "name": "stdout",
     "output_type": "stream",
     "text": [
      "0\n"
     ]
    }
   ],
   "source": [
    "amount =0 \n",
    "for i in range(len(df)):\n",
    "    if(df[\"text\"][i] == []):\n",
    "        print(df[\"id\"][i])\n",
    "        amount += 1\n",
    "\n",
    "print(amount)"
   ]
  }
 ],
 "metadata": {
  "kernelspec": {
   "display_name": "base",
   "language": "python",
   "name": "python3"
  },
  "language_info": {
   "codemirror_mode": {
    "name": "ipython",
    "version": 3
   },
   "file_extension": ".py",
   "mimetype": "text/x-python",
   "name": "python",
   "nbconvert_exporter": "python",
   "pygments_lexer": "ipython3",
   "version": "3.12.7"
  }
 },
 "nbformat": 4,
 "nbformat_minor": 2
}
