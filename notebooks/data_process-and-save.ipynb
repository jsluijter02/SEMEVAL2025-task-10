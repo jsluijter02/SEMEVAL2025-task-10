{
 "cells": [
  {
   "cell_type": "code",
   "execution_count": null,
   "metadata": {
    "vscode": {
     "languageId": "plaintext"
    }
   },
   "outputs": [],
   "source": [
    "# label preprocessing steps\n",
    "# one-hot encodes the dominant- and sub-narrative labels       \n",
    "# TODO: also make this function save the dom and sub mlbs       \n",
    "def encode_labels(df):\n",
    "    dom_mlb = MultiLabelBinarizer()\n",
    "    sub_mlb = MultiLabelBinarizer()\n",
    "\n",
    "    dom_narr_enc = dom_mlb.fit_transform(df[\"dom_narr\"])\n",
    "    df = pd.concat([df, pd.DataFrame(dom_narr_enc, columns=dom_mlb.classes_)], axis=1)\n",
    "\n",
    "    sub_narr_enc = sub_mlb.fit_transform(df[\"sub_narr\"])\n",
    "    df = pd.concat([df, pd.DataFrame(sub_narr_enc, columns=sub_mlb.classes_)], axis=1)\n",
    "    \n",
    "    return dom_mlb, sub_mlb, df"
   ]
  }
 ],
 "metadata": {
  "language_info": {
   "name": "python"
  }
 },
 "nbformat": 4,
 "nbformat_minor": 2
}
