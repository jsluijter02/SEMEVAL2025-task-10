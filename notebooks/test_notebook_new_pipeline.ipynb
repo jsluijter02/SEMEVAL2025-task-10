{
 "cells": [
  {
   "cell_type": "code",
   "execution_count": 1,
   "metadata": {},
   "outputs": [],
   "source": [
    "import sys\n",
    "sys.path.append(\"../src\")\n",
    "\n",
    "from pipeline import Pipeline\n",
    "from model import LogisticRegression\n",
    "from preprocess import Preprocessor\n",
    "from postprocess import Postprocessor"
   ]
  },
  {
   "cell_type": "code",
   "execution_count": 2,
   "metadata": {},
   "outputs": [],
   "source": [
    "preprocessor = Preprocessor()\n",
    "preprocessor.set_embedding_directory()\n",
    "preprocessor.set_test_split(split=0.1)"
   ]
  },
  {
   "cell_type": "code",
   "execution_count": 3,
   "metadata": {},
   "outputs": [],
   "source": [
    "lr = LogisticRegression()"
   ]
  },
  {
   "cell_type": "code",
   "execution_count": 4,
   "metadata": {},
   "outputs": [],
   "source": [
    "pipeline = Pipeline(preprocessor, lr)"
   ]
  },
  {
   "cell_type": "code",
   "execution_count": 5,
   "metadata": {},
   "outputs": [],
   "source": [
    "pipeline.run()"
   ]
  },
  {
   "cell_type": "code",
   "execution_count": 6,
   "metadata": {},
   "outputs": [
    {
     "data": {
      "text/plain": [
       "{'micro avg': {'precision': 0.22916666666666666,\n",
       "  'recall': 0.4925373134328358,\n",
       "  'f1-score': 0.3127962085308057,\n",
       "  'support': 134.0},\n",
       " 'macro avg': {'precision': 0.11606514584042672,\n",
       "  'recall': 0.21182712785488728,\n",
       "  'f1-score': 0.13579379422076052,\n",
       "  'support': 134.0},\n",
       " 'weighted avg': {'precision': 0.354093439727768,\n",
       "  'recall': 0.4925373134328358,\n",
       "  'f1-score': 0.3842190562339816,\n",
       "  'support': 134.0},\n",
       " 'samples avg': {'precision': 0.2929048550016291,\n",
       "  'recall': 0.5411674347158218,\n",
       "  'f1-score': 0.3417949434078466,\n",
       "  'support': 134.0}}"
      ]
     },
     "execution_count": 6,
     "metadata": {},
     "output_type": "execute_result"
    }
   ],
   "source": [
    "pipeline.evaluation['classification_report']"
   ]
  },
  {
   "cell_type": "code",
   "execution_count": null,
   "metadata": {},
   "outputs": [],
   "source": []
  }
 ],
 "metadata": {
  "kernelspec": {
   "display_name": "base",
   "language": "python",
   "name": "python3"
  },
  "language_info": {
   "codemirror_mode": {
    "name": "ipython",
    "version": 3
   },
   "file_extension": ".py",
   "mimetype": "text/x-python",
   "name": "python",
   "nbconvert_exporter": "python",
   "pygments_lexer": "ipython3",
   "version": "3.12.7"
  }
 },
 "nbformat": 4,
 "nbformat_minor": 2
}
