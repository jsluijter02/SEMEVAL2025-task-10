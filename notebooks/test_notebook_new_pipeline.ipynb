{
 "cells": [
  {
   "cell_type": "code",
   "execution_count": 1,
   "metadata": {},
   "outputs": [],
   "source": [
    "import sys\n",
    "sys.path.append(\"../src\")\n",
    "\n",
    "from pipeline import Pipeline\n",
    "from model import GPT, GPT_ensemble\n",
    "from preprocess import Preprocessor\n",
    "from postprocess import Postprocessor"
   ]
  },
  {
   "cell_type": "code",
   "execution_count": 2,
   "metadata": {},
   "outputs": [],
   "source": [
    "#preprocessor = Preprocessor()\n",
    "#preprocessor.split(0.015)"
   ]
  },
  {
   "cell_type": "code",
   "execution_count": 3,
   "metadata": {},
   "outputs": [],
   "source": [
    "system_prompt = \"\"\"\n",
    "You are an AI model, tasked with the responsibility of classifying narratives in news articles. \n",
    "The news articles are either about Climate Change, or the Ukraine Russia War. \n",
    "You must find all relevant sub-narratives from the domain that are applicable to the news article.\n",
    "If none of the sub-narratives match, you must output \"Other\". \n",
    "\n",
    "The URW (Ukraine Russia War) sub-narratives are the following:\n",
    "'Other'\n",
    "'URW: Amplifying war-related fears: By continuing the war we risk WWIII'\n",
    "'URW: Amplifying war-related fears: NATO should/will directly intervene'\n",
    "'URW: Amplifying war-related fears: Other'\n",
    "'URW: Amplifying war-related fears: Russia will also attack other countries'\n",
    "'URW: Amplifying war-related fears: There is a real possibility that nuclear weapons will be employed'\n",
    "'URW: Blaming the war on others rather than the invader: Other'\n",
    " 'URW: Blaming the war on others rather than the invader: The West are the aggressors'\n",
    " 'URW: Blaming the war on others rather than the invader: Ukraine is the aggressor'\n",
    " 'URW: Discrediting Ukraine: Discrediting Ukrainian government and officials and policies'\n",
    " 'URW: Discrediting Ukraine: Discrediting Ukrainian military'\n",
    " 'URW: Discrediting Ukraine: Discrediting Ukrainian nation and society'\n",
    " 'URW: Discrediting Ukraine: Other'\n",
    " 'URW: Discrediting Ukraine: Rewriting Ukraine’s history'\n",
    " 'URW: Discrediting Ukraine: Situation in Ukraine is hopeless'\n",
    " 'URW: Discrediting Ukraine: Ukraine is a hub for criminal activities'\n",
    " 'URW: Discrediting Ukraine: Ukraine is a puppet of the West'\n",
    " 'URW: Discrediting Ukraine: Ukraine is associated with nazism'\n",
    " 'URW: Discrediting the West, Diplomacy: Diplomacy does/will not work'\n",
    " 'URW: Discrediting the West, Diplomacy: Other'\n",
    " 'URW: Discrediting the West, Diplomacy: The EU is divided'\n",
    " 'URW: Discrediting the West, Diplomacy: The West does not care about Ukraine, only about its interests'\n",
    " 'URW: Discrediting the West, Diplomacy: The West is overreacting'\n",
    " 'URW: Discrediting the West, Diplomacy: The West is weak'\n",
    " 'URW: Discrediting the West, Diplomacy: West is tired of Ukraine'\n",
    " 'URW: Distrust towards Media: Other'\n",
    " 'URW: Distrust towards Media: Ukrainian media cannot be trusted'\n",
    " 'URW: Distrust towards Media: Western media is an instrument of propaganda'\n",
    " 'URW: Hidden plots by secret schemes of powerful groups: Other'\n",
    " 'URW: Negative Consequences for the West: Other'\n",
    " 'URW: Negative Consequences for the West: Sanctions imposed by Western countries will backfire'\n",
    " 'URW: Negative Consequences for the West: The conflict will increase the Ukrainian refugee flows to Europe'\n",
    " 'URW: Overpraising the West: Other'\n",
    " 'URW: Overpraising the West: The West belongs in the right side of history'\n",
    " 'URW: Overpraising the West: The West has the strongest international support'\n",
    " 'URW: Praise of Russia: Other'\n",
    " 'URW: Praise of Russia: Praise of Russian President Vladimir Putin'\n",
    " 'URW: Praise of Russia: Praise of Russian military might'\n",
    " 'URW: Praise of Russia: Russia has international support from a number of countries and people'\n",
    " 'URW: Praise of Russia: Russia is a guarantor of peace and prosperity'\n",
    " 'URW: Praise of Russia: Russian invasion has strong national support'\n",
    " 'URW: Russia is the Victim: Other'\n",
    " 'URW: Russia is the Victim: Russia actions in Ukraine are only self-defence'\n",
    " 'URW: Russia is the Victim: The West is russophobic'\n",
    " 'URW: Russia is the Victim: UA is anti-RU extremists'\n",
    " 'URW: Speculating war outcomes: Other'\n",
    " 'URW: Speculating war outcomes: Russian army is collapsing'\n",
    " 'URW: Speculating war outcomes: Ukrainian army is collapsing'\n",
    "\n",
    " The (CC) climate change narratives are:\n",
    " 'CC: Amplifying Climate Fears: Amplifying existing fears of global warming'\n",
    " 'CC: Amplifying Climate Fears: Doomsday scenarios for humans'\n",
    " 'CC: Amplifying Climate Fears: Earth will be uninhabitable soon'\n",
    " 'CC: Amplifying Climate Fears: Other'\n",
    " 'CC: Amplifying Climate Fears: Whatever we do it is already too late'\n",
    " 'CC: Climate change is beneficial: CO2 is beneficial'\n",
    " 'CC: Controversy about green technologies: Other'\n",
    " 'CC: Controversy about green technologies: Renewable energy is costly'\n",
    " 'CC: Controversy about green technologies: Renewable energy is dangerous'\n",
    " 'CC: Controversy about green technologies: Renewable energy is unreliable'\n",
    " 'CC: Criticism of climate movement: Ad hominem attacks on key activists'\n",
    " 'CC: Criticism of climate movement: Climate movement is alarmist'\n",
    " 'CC: Criticism of climate movement: Climate movement is corrupt'\n",
    " 'CC: Criticism of climate movement: Other'\n",
    " 'CC: Criticism of climate policies: Climate policies are ineffective'\n",
    " 'CC: Criticism of climate policies: Climate policies are only for profit'\n",
    " 'CC: Criticism of climate policies: Climate policies have negative impact on the economy'\n",
    " 'CC: Criticism of climate policies: Other'\n",
    " 'CC: Criticism of institutions and authorities: Criticism of international entities'\n",
    " 'CC: Criticism of institutions and authorities: Criticism of national governments'\n",
    " 'CC: Criticism of institutions and authorities: Criticism of political organizations and figures'\n",
    " 'CC: Criticism of institutions and authorities: Criticism of the EU'\n",
    " 'CC: Criticism of institutions and authorities: Other'\n",
    " 'CC: Downplaying climate change: CO2 concentrations are too small to have an impact'\n",
    " 'CC: Downplaying climate change: Climate cycles are natural'\n",
    " 'CC: Downplaying climate change: Human activities do not impact climate change'\n",
    " 'CC: Downplaying climate change: Humans and nature will adapt to the changes'\n",
    " 'CC: Downplaying climate change: Ice is not melting'\n",
    " 'CC: Downplaying climate change: Other'\n",
    " 'CC: Downplaying climate change: Temperature increase does not have significant impact'\n",
    " 'CC: Downplaying climate change: Weather suggests the trend is global cooling'\n",
    " 'CC: Green policies are geopolitical instruments: Green activities are a form of neo-colonialism'\n",
    " 'CC: Green policies are geopolitical instruments: Other'\n",
    " 'CC: Hidden plots by secret schemes of powerful groups: Blaming global elites'\n",
    " 'CC: Hidden plots by secret schemes of powerful groups: Climate agenda has hidden motives'\n",
    " 'CC: Hidden plots by secret schemes of powerful groups: Other'\n",
    " 'CC: Questioning the measurements and science: Data shows no temperature increase'\n",
    " 'CC: Questioning the measurements and science: Greenhouse effect/carbon dioxide do not drive climate change'\n",
    " 'CC: Questioning the measurements and science: Methodologies/metrics used are unreliable/faulty'\n",
    " 'CC: Questioning the measurements and science: Other'\n",
    " 'CC: Questioning the measurements and science: Scientific community is unreliable'\n",
    "\"\"\"\n"
   ]
  },
  {
   "cell_type": "code",
   "execution_count": 4,
   "metadata": {},
   "outputs": [],
   "source": [
    "#gpt = GPT(system_prompt=system_prompt)"
   ]
  },
  {
   "cell_type": "code",
   "execution_count": 5,
   "metadata": {},
   "outputs": [],
   "source": [
    "#pipeline = Pipeline(preprocessor, gpt)"
   ]
  },
  {
   "cell_type": "code",
   "execution_count": 6,
   "metadata": {},
   "outputs": [],
   "source": [
    "#pipeline.run()"
   ]
  },
  {
   "cell_type": "code",
   "execution_count": 7,
   "metadata": {},
   "outputs": [],
   "source": [
    "##pipeline.evaluation['classification_report']"
   ]
  },
  {
   "cell_type": "code",
   "execution_count": 8,
   "metadata": {},
   "outputs": [],
   "source": [
    "#print(pipeline.y_pred)"
   ]
  },
  {
   "cell_type": "markdown",
   "metadata": {},
   "source": [
    "Now, lets try a gpt ensemble model:"
   ]
  },
  {
   "cell_type": "code",
   "execution_count": 9,
   "metadata": {},
   "outputs": [],
   "source": [
    "preprocessor = Preprocessor()\n",
    "preprocessor.split(0.015)\n",
    "\n",
    "system_prompts = [system_prompt,system_prompt]\n",
    "models = [\"gpt-4o-mini\",\"gpt-4o-mini\"]\n",
    "\n",
    "gpt_ensemble = GPT_ensemble(system_prompts=system_prompts, model_names=models)"
   ]
  },
  {
   "cell_type": "code",
   "execution_count": 10,
   "metadata": {},
   "outputs": [
    {
     "name": "stderr",
     "output_type": "stream",
     "text": [
      "/Users/jochem/opt/anaconda3/lib/python3.9/site-packages/sklearn/base.py:329: UserWarning: Trying to unpickle estimator MultiLabelBinarizer from version 1.5.1 when using version 1.1.1. This might lead to breaking code or invalid results. Use at your own risk. For more info please refer to:\n",
      "https://scikit-learn.org/stable/model_persistence.html#security-maintainability-limitations\n",
      "  warnings.warn(\n"
     ]
    },
    {
     "name": "stdout",
     "output_type": "stream",
     "text": [
      "PREPROCESSED THE DATA\n",
      "FIT THE DATA\n",
      "MAKING PREDICTIONS\n",
      "COMPLETED PREDICTIONS\n",
      "COMPLETED EVAL\n"
     ]
    }
   ],
   "source": [
    "pipeline = Pipeline(preprocessor, gpt_ensemble)\n",
    "pipeline.run()"
   ]
  },
  {
   "cell_type": "code",
   "execution_count": 11,
   "metadata": {},
   "outputs": [
    {
     "name": "stdout",
     "output_type": "stream",
     "text": [
      "[[False False False False False False False False False False False False\n",
      "  False False False False False False False False False False False False\n",
      "  False False False False False False False False False False False False\n",
      "  False False False False False False False False  True False False False\n",
      "  False False False  True False False False False False False False False\n",
      "  False False False False False False False False False False False False\n",
      "   True False False False False False False False False False False False\n",
      "  False False  True False False]\n",
      " [False False False False False False False False False False False False\n",
      "  False False False False False False False False False False False False\n",
      "  False False False False False False False False False False False False\n",
      "  False False False False False False  True False False False False False\n",
      "  False False False False False False False False False False False False\n",
      "  False False False False False False False False False False False False\n",
      "  False False False False False False False False False False False False\n",
      "  False False False False False]\n",
      " [False False False False False False False False False False  True  True\n",
      "  False False False False False False False  True  True False False False\n",
      "  False False False False False False False False False False False False\n",
      "  False False False  True False False False False False False False False\n",
      "  False False False False False False False False False False False False\n",
      "  False False False False False False False False False False False False\n",
      "  False False False False False False False False False False False False\n",
      "  False False False False False]\n",
      " [ True False  True  True False False False False False False False False\n",
      "  False False  True  True False  True  True  True False False False False\n",
      "  False False False False False False False False False False  True False\n",
      "  False False False False False False False False False False False False\n",
      "  False False False False False False False False False False False False\n",
      "  False False False False False False False False False False False False\n",
      "  False False False False False False False False False False False False\n",
      "  False False False False False]\n",
      " [False False False False False False False False False False False False\n",
      "  False False False False False False False False False False False False\n",
      "  False False False False False False False False False False False False\n",
      "  False False False False False False False False False False False False\n",
      "   True False False False  True  True False False False False False False\n",
      "  False False False False False False False False False False False False\n",
      "  False False False False  True  True False False False False False False\n",
      "  False  True  True False False]\n",
      " [False False False False False False False False False False False False\n",
      "  False False False False False False False False False False False False\n",
      "  False False False False False False False False False False False False\n",
      "  False False False False False False False False False False False False\n",
      "   True False False False  True False False False False False  True False\n",
      "  False False  True False False False False False False False  True False\n",
      "  False False False False False False False False False False False False\n",
      "  False False False False False]\n",
      " [False False False  True False False False False False False False False\n",
      "  False  True  True False False False False  True False False False False\n",
      "  False False False False False False False False False False False False\n",
      "  False False False False False False False False False False False False\n",
      "  False False False False False False False False False False False False\n",
      "  False False False False False False False False False False False False\n",
      "  False False False False False False False False False False False False\n",
      "  False False False False False]\n",
      " [False False False False False False False False False False False False\n",
      "  False False False False False False False False False False False False\n",
      "  False False False False False False False False False False False False\n",
      "  False False False False False False False False  True  True False  True\n",
      "  False False False False False False False False False False False False\n",
      "  False False  True False False False False False False False  True False\n",
      "   True False False False False False False False False False False False\n",
      "  False False False False False]\n",
      " [False False False False False False False False False False False False\n",
      "  False False False False False False False False False False False False\n",
      "  False False False False False False False False False False False False\n",
      "  False False False False False False  True  True False False  True False\n",
      "   True False False False False False False False False False False False\n",
      "  False False  True False  True False  True False False False False False\n",
      "  False False False False False False False False False False False False\n",
      "  False False False False False]\n",
      " [False False False False False False False False False False False  True\n",
      "  False  True  True  True  True False False False False False False False\n",
      "  False False False False  True False False False False False False False\n",
      "  False False False False False False False False False False False False\n",
      "  False False False False False False False False False False False False\n",
      "  False False False False False False False False False False False False\n",
      "  False False False False False False False False False False False False\n",
      "  False False False False False]]\n"
     ]
    }
   ],
   "source": [
    "print(pipeline.y_pred)"
   ]
  },
  {
   "cell_type": "code",
   "execution_count": 1,
   "metadata": {},
   "outputs": [
    {
     "ename": "NameError",
     "evalue": "name 'pipeline' is not defined",
     "output_type": "error",
     "traceback": [
      "\u001b[0;31m---------------------------------------------------------------------------\u001b[0m",
      "\u001b[0;31mNameError\u001b[0m                                 Traceback (most recent call last)",
      "Cell \u001b[0;32mIn[1], line 1\u001b[0m\n\u001b[0;32m----> 1\u001b[0m \u001b[43mpipeline\u001b[49m\u001b[38;5;241m.\u001b[39mevaluation[\u001b[38;5;124m'\u001b[39m\u001b[38;5;124mclassification_report\u001b[39m\u001b[38;5;124m'\u001b[39m]\n",
      "\u001b[0;31mNameError\u001b[0m: name 'pipeline' is not defined"
     ]
    }
   ],
   "source": [
    "pipeline.evaluation['classification_report']\n"
   ]
  },
  {
   "cell_type": "code",
   "execution_count": null,
   "metadata": {},
   "outputs": [],
   "source": []
  }
 ],
 "metadata": {
  "kernelspec": {
   "display_name": "base",
   "language": "python",
   "name": "python3"
  },
  "language_info": {
   "codemirror_mode": {
    "name": "ipython",
    "version": 3
   },
   "file_extension": ".py",
   "mimetype": "text/x-python",
   "name": "python",
   "nbconvert_exporter": "python",
   "pygments_lexer": "ipython3",
   "version": "3.9.20"
  }
 },
 "nbformat": 4,
 "nbformat_minor": 2
}
