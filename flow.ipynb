{
 "cells": [
  {
   "cell_type": "code",
   "execution_count": 1,
   "metadata": {},
   "outputs": [
    {
     "name": "stdout",
     "output_type": "stream",
     "text": [
      "Data length:  200\n",
      "Data length:  115\n",
      "Data length:  200\n",
      "Labels length: 200\n",
      "Labels length: 115\n",
      "Labels length: 200\n"
     ]
    },
    {
     "name": "stderr",
     "output_type": "stream",
     "text": [
      "/Users/jochem/opt/anaconda3/lib/python3.9/site-packages/scipy/__init__.py:146: UserWarning: A NumPy version >=1.16.5 and <1.23.0 is required for this version of SciPy (detected version 1.25.2\n",
      "  warnings.warn(f\"A NumPy version >={np_minversion} and <{np_maxversion}\"\n"
     ]
    }
   ],
   "source": [
    "import data\n",
    "import eval\n",
    "import model\n",
    "import preprocess\n",
    "import postprocess"
   ]
  },
  {
   "cell_type": "code",
   "execution_count": 2,
   "metadata": {},
   "outputs": [],
   "source": [
    "import numpy as np\n",
    "import pandas as pd\n",
    "from sklearn.metrics import classification_report\n",
    "from sklearn.feature_extraction.text import TfidfVectorizer"
   ]
  },
  {
   "cell_type": "markdown",
   "metadata": {},
   "source": [
    "first load the data set, and save it as a csv?"
   ]
  },
  {
   "cell_type": "code",
   "execution_count": 3,
   "metadata": {},
   "outputs": [
    {
     "name": "stdout",
     "output_type": "stream",
     "text": [
      "Data length:  200\n",
      "Data length:  115\n",
      "Data length:  200\n",
      "Labels length: 200\n",
      "Labels length: 115\n",
      "Labels length: 200\n",
      "                   id                                               text  \\\n",
      "0    EN_UA_104876.txt  Putin honours army unit blamed for Bucha massa...   \n",
      "1    EN_UA_023211.txt  Europe Putin thanks US journalist Tucker Carls...   \n",
      "2    EN_UA_011260.txt  Russia has a clear plan to resolve the conflic...   \n",
      "3    EN_UA_101067.txt  First war of TikTok era sees tragedy, humor an...   \n",
      "4    EN_UA_102963.txt  Ukraine's President Zelenskyy to address Mexic...   \n",
      "..                ...                                                ...   \n",
      "510        PT_157.txt  Reino Unido: o país foi invadido por uma nova ...   \n",
      "511        PT_143.txt  \"O combate às alterações climáticas não está n...   \n",
      "512         PT_89.txt  UE retira reunião de ministros dos Negócios Es...   \n",
      "513         PT_62.txt  As novas fogueiras da Inquisição\\n\\n1. O reito...   \n",
      "514         PT_76.txt  Rússia está a desistir de Kharkiv após “fracas...   \n",
      "\n",
      "                                              dom_narr  \\\n",
      "0                                              [Other]   \n",
      "1                                              [Other]   \n",
      "2    [URW: Russia is the Victim, URW: Discrediting ...   \n",
      "3                                              [Other]   \n",
      "4                                              [Other]   \n",
      "..                                                 ...   \n",
      "510                     [CC: Amplifying Climate Fears]   \n",
      "511    [CC: Criticism of institutions and authorities]   \n",
      "512  [URW: Russia is the Victim, URW: Discrediting ...   \n",
      "513  [URW: Russia is the Victim, URW: Discrediting ...   \n",
      "514                            [URW: Praise of Russia]   \n",
      "\n",
      "                                              sub_narr  \n",
      "0                                              [Other]  \n",
      "1                                              [Other]  \n",
      "2    [URW: Russia is the Victim: UA is anti-RU extr...  \n",
      "3                                              [Other]  \n",
      "4                                              [Other]  \n",
      "..                                                 ...  \n",
      "510              [CC: Amplifying Climate Fears: Other]  \n",
      "511  [CC: Criticism of institutions and authorities...  \n",
      "512  [URW: Russia is the Victim: Other, URW: Discre...  \n",
      "513  [URW: Russia is the Victim: The West is russop...  \n",
      "514  [URW: Praise of Russia: Praise of Russian mili...  \n",
      "\n",
      "[515 rows x 4 columns]\n"
     ]
    }
   ],
   "source": [
    "df = data.load_data()\n",
    "print(df)\n",
    "df.to_csv(\"./data.csv\")\n",
    "dom_mlb, sub_mlb, dom_narr_enc, sub_narr_enc = preprocess.encode_labels(df)"
   ]
  },
  {
   "cell_type": "markdown",
   "metadata": {},
   "source": [
    "Train it on the sub classes"
   ]
  },
  {
   "cell_type": "code",
   "execution_count": 4,
   "metadata": {},
   "outputs": [],
   "source": [
    "vec = TfidfVectorizer(min_df=0.02,max_df=0.8)\n",
    "X = vec.fit_transform(df.text)\n",
    "y = sub_narr_enc"
   ]
  },
  {
   "cell_type": "code",
   "execution_count": 5,
   "metadata": {},
   "outputs": [
    {
     "name": "stdout",
     "output_type": "stream",
     "text": [
      "Skipped fold 17, labels invalid\n",
      "Skipped fold 89, labels invalid\n",
      "Skipped fold 154, labels invalid\n",
      "Skipped fold 165, labels invalid\n",
      "Skipped fold 178, labels invalid\n",
      "Skipped fold 225, labels invalid\n",
      "Skipped fold 316, labels invalid\n",
      "Skipped fold 459, labels invalid\n",
      "Skipped fold 499, labels invalid\n",
      "Predicted Labels:  [[0 0 0 ... 0 0 0]\n",
      " [0 0 0 ... 0 0 1]\n",
      " [0 0 0 ... 0 0 0]\n",
      " ...\n",
      " [0 0 0 ... 0 0 0]\n",
      " [0 0 0 ... 0 0 0]\n",
      " [0 0 0 ... 0 0 0]]\n",
      "True Labels:  [[0 0 0 ... 0 0 0]\n",
      " [0 0 0 ... 0 0 0]\n",
      " [0 0 0 ... 0 0 0]\n",
      " ...\n",
      " [0 0 0 ... 0 0 0]\n",
      " [0 0 0 ... 0 0 0]\n",
      " [0 0 0 ... 0 0 0]]\n",
      "                                                                                                            precision    recall  f1-score   support\n",
      "\n",
      "                                 CC: Amplifying Climate Fears: Amplifying existing fears of global warming       0.49      0.93      0.64        41\n",
      "                                               CC: Amplifying Climate Fears: Doomsday scenarios for humans       0.22      0.64      0.33        11\n",
      "                                            CC: Amplifying Climate Fears: Earth will be uninhabitable soon       0.43      0.60      0.50         5\n",
      "                                                                       CC: Amplifying Climate Fears: Other       0.29      0.86      0.43        29\n",
      "                                       CC: Amplifying Climate Fears: Whatever we do it is already too late       0.00      0.00      0.00         0\n",
      "                                                       CC: Climate change is beneficial: CO2 is beneficial       0.00      0.00      0.00         1\n",
      "                                                           CC: Controversy about green technologies: Other       0.00      0.00      0.00         5\n",
      "                                      CC: Controversy about green technologies: Renewable energy is costly       0.00      0.00      0.00         1\n",
      "                                   CC: Controversy about green technologies: Renewable energy is dangerous       0.00      0.00      0.00         1\n",
      "                                  CC: Controversy about green technologies: Renewable energy is unreliable       0.00      0.00      0.00         2\n",
      "                                    CC: Criticism of climate movement: Ad hominem attacks on key activists       0.21      0.67      0.32         6\n",
      "                                           CC: Criticism of climate movement: Climate movement is alarmist       0.12      0.11      0.12         9\n",
      "                                            CC: Criticism of climate movement: Climate movement is corrupt       0.00      0.00      0.00         4\n",
      "                                                                  CC: Criticism of climate movement: Other       0.32      0.70      0.44        10\n",
      "                                       CC: Criticism of climate policies: Climate policies are ineffective       0.00      0.00      0.00         9\n",
      "                                   CC: Criticism of climate policies: Climate policies are only for profit       0.00      0.00      0.00         4\n",
      "                   CC: Criticism of climate policies: Climate policies have negative impact on the economy       0.00      0.00      0.00         9\n",
      "                                                                  CC: Criticism of climate policies: Other       0.00      0.00      0.00        11\n",
      "                        CC: Criticism of institutions and authorities: Criticism of international entities       0.00      0.00      0.00         5\n",
      "                          CC: Criticism of institutions and authorities: Criticism of national governments       0.27      0.71      0.39        28\n",
      "           CC: Criticism of institutions and authorities: Criticism of political organizations and figures       0.21      0.57      0.31        21\n",
      "                                        CC: Criticism of institutions and authorities: Criticism of the EU       0.00      0.00      0.00         0\n",
      "                                                      CC: Criticism of institutions and authorities: Other       0.00      0.00      0.00         7\n",
      "                        CC: Downplaying climate change: CO2 concentrations are too small to have an impact       0.00      0.00      0.00         0\n",
      "                                                CC: Downplaying climate change: Climate cycles are natural       0.00      0.00      0.00         3\n",
      "                             CC: Downplaying climate change: Human activities do not impact climate change       0.00      0.00      0.00         0\n",
      "                               CC: Downplaying climate change: Humans and nature will adapt to the changes       0.00      0.00      0.00         2\n",
      "                                                        CC: Downplaying climate change: Ice is not melting       0.00      0.00      0.00         0\n",
      "                                                                     CC: Downplaying climate change: Other       0.00      0.00      0.00         5\n",
      "           CC: Green policies are geopolitical instruments: Green activities are a form of neo-colonialism       0.00      0.00      0.00         0\n",
      "                              CC: Hidden plots by secret schemes of powerful groups: Blaming global elites       0.20      0.50      0.29         6\n",
      "                  CC: Hidden plots by secret schemes of powerful groups: Climate agenda has hidden motives       0.00      0.00      0.00         3\n",
      "                                              CC: Hidden plots by secret schemes of powerful groups: Other       0.00      0.00      0.00         2\n",
      "CC: Questioning the measurements and science: Greenhouse effect/carbon dioxide do not drive climate change       0.00      0.00      0.00         0\n",
      "            CC: Questioning the measurements and science: Methodologies/metrics used are unreliable/faulty       0.00      0.00      0.00         4\n",
      "                                                       CC: Questioning the measurements and science: Other       0.00      0.00      0.00         2\n",
      "                          CC: Questioning the measurements and science: Scientific community is unreliable       0.00      0.00      0.00         3\n",
      "                                                                                                     Other       0.51      0.77      0.62       137\n",
      "                                    URW: Amplifying war-related fears: By continuing the war we risk WWIII       0.17      0.11      0.13         9\n",
      "                                    URW: Amplifying war-related fears: NATO should/will directly intervene       0.00      0.00      0.00         9\n",
      "                                                                  URW: Amplifying war-related fears: Other       0.18      0.35      0.24        17\n",
      "                                URW: Amplifying war-related fears: Russia will also attack other countries       0.18      0.37      0.24        19\n",
      "      URW: Amplifying war-related fears: There is a real possibility that nuclear weapons will be employed       0.42      0.71      0.53        28\n",
      "                                             URW: Blaming the war on others rather than the invader: Other       0.00      0.00      0.00         2\n",
      "                       URW: Blaming the war on others rather than the invader: The West are the aggressors       0.23      0.50      0.32        36\n",
      "                          URW: Blaming the war on others rather than the invader: Ukraine is the aggressor       0.25      0.44      0.32        18\n",
      "                   URW: Discrediting Ukraine: Discrediting Ukrainian government and officials and policies       0.37      0.58      0.45        38\n",
      "                                                URW: Discrediting Ukraine: Discrediting Ukrainian military       0.29      0.53      0.38        17\n",
      "                                      URW: Discrediting Ukraine: Discrediting Ukrainian nation and society       0.00      0.00      0.00         0\n",
      "                                                                          URW: Discrediting Ukraine: Other       0.18      0.95      0.30        19\n",
      "                                                    URW: Discrediting Ukraine: Rewriting Ukraine’s history       0.18      0.67      0.29         3\n",
      "                                               URW: Discrediting Ukraine: Situation in Ukraine is hopeless       0.23      0.44      0.30        16\n",
      "                                       URW: Discrediting Ukraine: Ukraine is a hub for criminal activities       0.14      0.38      0.20        16\n",
      "                                                URW: Discrediting Ukraine: Ukraine is a puppet of the West       0.20      0.24      0.22        25\n",
      "                                              URW: Discrediting Ukraine: Ukraine is associated with nazism       0.00      0.00      0.00        10\n",
      "                                       URW: Discrediting the West, Diplomacy: Diplomacy does/will not work       0.12      0.10      0.11        20\n",
      "                                                              URW: Discrediting the West, Diplomacy: Other       0.43      0.71      0.53        58\n",
      "                                                  URW: Discrediting the West, Diplomacy: The EU is divided       1.00      0.22      0.36         9\n",
      "     URW: Discrediting the West, Diplomacy: The West does not care about Ukraine, only about its interests       0.13      0.24      0.17        29\n",
      "                                           URW: Discrediting the West, Diplomacy: The West is overreacting       0.00      0.00      0.00         5\n",
      "                                                   URW: Discrediting the West, Diplomacy: The West is weak       0.07      0.16      0.10        19\n",
      "                                           URW: Discrediting the West, Diplomacy: West is tired of Ukraine       0.42      0.45      0.43        11\n",
      "                                                                        URW: Distrust towards Media: Other       0.00      0.00      0.00         5\n",
      "                                            URW: Distrust towards Media: Ukrainian media cannot be trusted       0.00      0.00      0.00         2\n",
      "                                 URW: Distrust towards Media: Western media is an instrument of propaganda       0.28      0.40      0.33        20\n",
      "                                             URW: Hidden plots by secret schemes of powerful groups: Other       0.19      0.42      0.26        12\n",
      "                                                            URW: Negative Consequences for the West: Other       0.30      0.67      0.41        21\n",
      "             URW: Negative Consequences for the West: Sanctions imposed by Western countries will backfire       0.24      0.50      0.33        16\n",
      " URW: Negative Consequences for the West: The conflict will increase the Ukrainian refugee flows to Europe       0.21      0.60      0.32         5\n",
      "                                                      URW: Overpraising the West: NATO will destroy Russia       0.00      0.00      0.00         2\n",
      "                                                                         URW: Overpraising the West: Other       0.00      0.00      0.00         0\n",
      "                                 URW: Overpraising the West: The West belongs in the right side of history       0.06      0.15      0.08        13\n",
      "                              URW: Overpraising the West: The West has the strongest international support       0.04      0.12      0.06        16\n",
      "                                                                              URW: Praise of Russia: Other       0.12      0.33      0.18        12\n",
      "                                         URW: Praise of Russia: Praise of Russian President Vladimir Putin       0.12      0.55      0.20        11\n",
      "                                                   URW: Praise of Russia: Praise of Russian military might       0.34      0.65      0.44        34\n",
      "             URW: Praise of Russia: Russia has international support from a number of countries and people       0.19      0.57      0.29        23\n",
      "                                      URW: Praise of Russia: Russia is a guarantor of peace and prosperity       0.31      0.81      0.45        37\n",
      "                                       URW: Praise of Russia: Russian invasion has strong national support       0.00      0.00      0.00         2\n",
      "                                                                          URW: Russia is the Victim: Other       0.25      0.82      0.38        22\n",
      "                                URW: Russia is the Victim: Russia actions in Ukraine are only self-defence       0.34      0.67      0.45        27\n",
      "                                                        URW: Russia is the Victim: The West is russophobic       0.23      0.48      0.31        31\n",
      "                                                       URW: Russia is the Victim: UA is anti-RU extremists       0.00      0.00      0.00         5\n",
      "                                                                      URW: Speculating war outcomes: Other       0.18      0.17      0.17        18\n",
      "                                                 URW: Speculating war outcomes: Russian army is collapsing       0.00      0.00      0.00         7\n",
      "                        URW: Speculating war outcomes: Russian army will lose all the occupied territories       0.00      0.00      0.00         3\n",
      "                                               URW: Speculating war outcomes: Ukrainian army is collapsing       0.16      0.36      0.22        14\n",
      "\n",
      "                                                                                                 micro avg       0.26      0.50      0.34      1177\n",
      "                                                                                                 macro avg       0.14      0.27      0.17      1177\n",
      "                                                                                              weighted avg       0.27      0.50      0.34      1177\n",
      "                                                                                               samples avg       0.33      0.58      0.39      1177\n",
      "\n"
     ]
    },
    {
     "name": "stderr",
     "output_type": "stream",
     "text": [
      "/Users/jochem/opt/anaconda3/lib/python3.9/site-packages/sklearn/metrics/_classification.py:1327: UndefinedMetricWarning: Precision and F-score are ill-defined and being set to 0.0 in labels with no predicted samples. Use `zero_division` parameter to control this behavior.\n",
      "  _warn_prf(average, modifier, msg_start, len(result))\n",
      "/Users/jochem/opt/anaconda3/lib/python3.9/site-packages/sklearn/metrics/_classification.py:1327: UndefinedMetricWarning: Recall and F-score are ill-defined and being set to 0.0 in labels with no true samples. Use `zero_division` parameter to control this behavior.\n",
      "  _warn_prf(average, modifier, msg_start, len(result))\n"
     ]
    }
   ],
   "source": [
    "y_pred, y_true = model.logistic_regression_loocv(X,y,majority_ensemble=True)\n",
    "print(classification_report(y_true = y_true, y_pred=y_pred, target_names=sub_mlb.classes_))"
   ]
  },
  {
   "cell_type": "markdown",
   "metadata": {},
   "source": [
    "Trained on the dom classes:"
   ]
  },
  {
   "cell_type": "code",
   "execution_count": 6,
   "metadata": {},
   "outputs": [
    {
     "name": "stdout",
     "output_type": "stream",
     "text": [
      "Skipped fold 165, labels invalid\n",
      "Predicted Labels:  [[0 0 0 ... 0 0 0]\n",
      " [0 0 0 ... 0 0 1]\n",
      " [0 0 0 ... 0 0 0]\n",
      " ...\n",
      " [0 0 0 ... 1 1 0]\n",
      " [1 0 0 ... 0 0 0]\n",
      " [0 0 0 ... 1 1 0]]\n",
      "True Labels:  [[0 0 0 ... 0 0 0]\n",
      " [0 0 0 ... 0 0 0]\n",
      " [0 0 0 ... 0 1 0]\n",
      " ...\n",
      " [0 0 0 ... 0 1 0]\n",
      " [0 0 0 ... 0 1 0]\n",
      " [0 0 0 ... 1 0 0]]\n",
      "                                                        precision    recall  f1-score   support\n",
      "\n",
      "                          CC: Amplifying Climate Fears       0.60      0.92      0.72        64\n",
      "                      CC: Climate change is beneficial       0.00      0.00      0.00         2\n",
      "              CC: Controversy about green technologies       0.20      0.25      0.22         8\n",
      "                     CC: Criticism of climate movement       0.43      0.71      0.54        21\n",
      "                     CC: Criticism of climate policies       0.20      0.52      0.29        29\n",
      "         CC: Criticism of institutions and authorities       0.41      0.84      0.55        49\n",
      "                        CC: Downplaying climate change       0.20      0.20      0.20        10\n",
      "       CC: Green policies are geopolitical instruments       0.00      0.00      0.00         0\n",
      " CC: Hidden plots by secret schemes of powerful groups       0.17      0.22      0.19         9\n",
      "          CC: Questioning the measurements and science       0.14      0.17      0.15         6\n",
      "                                                 Other       0.50      0.77      0.61       137\n",
      "                     URW: Amplifying war-related fears       0.44      0.66      0.53        59\n",
      "URW: Blaming the war on others rather than the invader       0.29      0.51      0.37        49\n",
      "                             URW: Discrediting Ukraine       0.53      0.76      0.63        95\n",
      "                 URW: Discrediting the West, Diplomacy       0.55      0.66      0.60       113\n",
      "                           URW: Distrust towards Media       0.26      0.29      0.27        24\n",
      "URW: Hidden plots by secret schemes of powerful groups       0.19      0.42      0.26        12\n",
      "               URW: Negative Consequences for the West       0.28      0.61      0.39        38\n",
      "                            URW: Overpraising the West       0.14      0.28      0.19        29\n",
      "                                 URW: Praise of Russia       0.40      0.82      0.53        94\n",
      "                             URW: Russia is the Victim       0.33      0.69      0.44        75\n",
      "                         URW: Speculating war outcomes       0.25      0.62      0.36        37\n",
      "\n",
      "                                             micro avg       0.40      0.68      0.50       960\n",
      "                                             macro avg       0.30      0.50      0.37       960\n",
      "                                          weighted avg       0.41      0.68      0.51       960\n",
      "                                           samples avg       0.45      0.70      0.51       960\n",
      "\n"
     ]
    },
    {
     "name": "stderr",
     "output_type": "stream",
     "text": [
      "/Users/jochem/opt/anaconda3/lib/python3.9/site-packages/sklearn/metrics/_classification.py:1327: UndefinedMetricWarning: Precision and F-score are ill-defined and being set to 0.0 in labels with no predicted samples. Use `zero_division` parameter to control this behavior.\n",
      "  _warn_prf(average, modifier, msg_start, len(result))\n",
      "/Users/jochem/opt/anaconda3/lib/python3.9/site-packages/sklearn/metrics/_classification.py:1327: UndefinedMetricWarning: Recall and F-score are ill-defined and being set to 0.0 in labels with no true samples. Use `zero_division` parameter to control this behavior.\n",
      "  _warn_prf(average, modifier, msg_start, len(result))\n"
     ]
    }
   ],
   "source": [
    "y = dom_narr_enc\n",
    "y_pred, y_true = model.logistic_regression_loocv(X,y,majority_ensemble=True)\n",
    "print(classification_report(y_true = y_true, y_pred=y_pred, target_names=dom_mlb.classes_))"
   ]
  },
  {
   "cell_type": "markdown",
   "metadata": {},
   "source": []
  }
 ],
 "metadata": {
  "kernelspec": {
   "display_name": "base",
   "language": "python",
   "name": "python3"
  },
  "language_info": {
   "codemirror_mode": {
    "name": "ipython",
    "version": 3
   },
   "file_extension": ".py",
   "mimetype": "text/x-python",
   "name": "python",
   "nbconvert_exporter": "python",
   "pygments_lexer": "ipython3",
   "version": "3.9.7"
  }
 },
 "nbformat": 4,
 "nbformat_minor": 2
}
