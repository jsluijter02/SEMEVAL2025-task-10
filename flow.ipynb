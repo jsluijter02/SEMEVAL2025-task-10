{
 "cells": [
  {
   "cell_type": "code",
   "execution_count": 1,
   "metadata": {},
   "outputs": [
    {
     "name": "stderr",
     "output_type": "stream",
     "text": [
      "/Users/jochem/opt/anaconda3/lib/python3.9/site-packages/scipy/__init__.py:146: UserWarning: A NumPy version >=1.16.5 and <1.23.0 is required for this version of SciPy (detected version 1.25.2\n",
      "  warnings.warn(f\"A NumPy version >={np_minversion} and <{np_maxversion}\"\n"
     ]
    }
   ],
   "source": [
    "import data\n",
    "import eval\n",
    "import model\n",
    "import preprocess\n",
    "import postprocess"
   ]
  },
  {
   "cell_type": "code",
   "execution_count": 2,
   "metadata": {},
   "outputs": [],
   "source": [
    "import numpy as np\n",
    "import pandas as pd\n",
    "from sklearn.metrics import classification_report\n",
    "from sklearn.feature_extraction.text import TfidfVectorizer"
   ]
  },
  {
   "cell_type": "markdown",
   "metadata": {},
   "source": [
    "First off, the steps taken to fully load in the data set.\n",
    "\n",
    "Step 1: load the raw text files and their id's into a dataframe\n",
    "\n",
    "Step 2: if the texts are not in English, translate them\n",
    "\n",
    "Step 3: concatenate the text files into a single dataset\n",
    "\n",
    "Step 4: load in the labels\n",
    "\n",
    "Step 5: merge the text and labels data sets\n",
    "\n",
    "This can take quite a while, due to the translation step, skip this for the next cell, once we have all the data correctly saved as a csv, so we just load in that csv again. "
   ]
  },
  {
   "cell_type": "code",
   "execution_count": 3,
   "metadata": {},
   "outputs": [
    {
     "name": "stdout",
     "output_type": "stream",
     "text": [
      "Data length:  200\n",
      "Labels length: 200\n"
     ]
    }
   ],
   "source": [
    "# load english text data\n",
    "df_text_en = data.load_text_data(\"/Users/jochem/Documents/school/Uni KI jaar 4/Scriptie/Train Data/training_data_16_October_release/EN/raw-documents\")\n",
    "\n",
    "# load and translate hindi and portugese text\n",
    "# df_text_hi = data.load_text_data(\"/Users/jochem/Documents/school/Uni KI jaar 4/Scriptie/Train Data/training_data_16_October_release/HI/raw-documents\", True, source_lang=\"hi\")\n",
    "# df_text_pt = data.load_text_data(\"/Users/jochem/Documents/school/Uni KI jaar 4/Scriptie/Train Data/training_data_16_October_release/PT/raw-documents\", True, source_lang = \"pt\")\n",
    "# df_text = pd.concat([df_text_en, df_text_hi, df_text_pt])\n",
    "df_text = df_text_en\n",
    "\n",
    "# load all the labels, these are all in english\n",
    "df_labels_en = data.load_labels(\"/Users/jochem/Documents/school/Uni KI jaar 4/Scriptie/Train Data/training_data_16_October_release/EN/subtask-2-annotations.txt\")\n",
    "# df_labels_hi = data.load_labels(\"/Users/jochem/Documents/school/Uni KI jaar 4/Scriptie/Train Data/training_data_16_October_release/HI/subtask-2-annotations.txt\")\n",
    "# df_labels_pt = data.load_labels(\"/Users/jochem/Documents/school/Uni KI jaar 4/Scriptie/Train Data/training_data_16_October_release/PT/subtask-2-annotations.txt\")\n",
    "# df_labels = pd.concat([df_labels_en, df_labels_hi, df_labels_pt])\n",
    "df_labels = df_labels_en\n",
    "\n",
    "dom_mlb, sub_mlb, dom_narr_enc, sub_narr_enc, narr_df = preprocess.encode_labels(df_labels)\n",
    "\n",
    "df = pd.merge(df_text, narr_df, on=\"id\")\n",
    "\n",
    "df.to_csv(\"data.csv\")"
   ]
  },
  {
   "cell_type": "markdown",
   "metadata": {},
   "source": [
    "first load the data set, and save it as a csv?"
   ]
  },
  {
   "cell_type": "code",
   "execution_count": 4,
   "metadata": {},
   "outputs": [],
   "source": [
    "# df = pd.read_csv(\"data.csv\")\n",
    "# dom_mlb, sub_mlb, dom_narr_enc, sub_narr_enc = preprocess.encode_labels(df)\n",
    "# print(df.shape)"
   ]
  },
  {
   "cell_type": "markdown",
   "metadata": {},
   "source": [
    "Train it on the sub classes"
   ]
  },
  {
   "cell_type": "code",
   "execution_count": 8,
   "metadata": {},
   "outputs": [],
   "source": [
    "vec = TfidfVectorizer(min_df=0.02,max_df=0.75)\n",
    "X = vec.fit_transform(df.text)\n",
    "y = sub_narr_enc\n"
   ]
  },
  {
   "cell_type": "code",
   "execution_count": 6,
   "metadata": {},
   "outputs": [
    {
     "name": "stdout",
     "output_type": "stream",
     "text": [
      "Skipped fold 31, labels invalid\n",
      "Skipped fold 43, labels invalid\n",
      "Skipped fold 58, labels invalid\n",
      "Skipped fold 61, labels invalid\n",
      "Skipped fold 67, labels invalid\n",
      "Skipped fold 74, labels invalid\n",
      "Skipped fold 81, labels invalid\n",
      "Skipped fold 142, labels invalid\n",
      "Skipped fold 143, labels invalid\n",
      "Skipped fold 161, labels invalid\n",
      "Skipped fold 174, labels invalid\n",
      "Skipped fold 180, labels invalid\n",
      "Skipped fold 189, labels invalid\n",
      "Skipped fold 193, labels invalid\n",
      "                                                                                                            precision    recall  f1-score   support\n",
      "\n",
      "                                                       CC: Climate change is beneficial: CO2 is beneficial       0.00      0.00      0.00         0\n",
      "                                                           CC: Controversy about green technologies: Other       0.00      0.00      0.00         2\n",
      "                                      CC: Controversy about green technologies: Renewable energy is costly       0.00      0.00      0.00         1\n",
      "                                   CC: Controversy about green technologies: Renewable energy is dangerous       0.00      0.00      0.00         0\n",
      "                                  CC: Controversy about green technologies: Renewable energy is unreliable       0.00      0.00      0.00         1\n",
      "                                    CC: Criticism of climate movement: Ad hominem attacks on key activists       0.00      0.00      0.00         5\n",
      "                                           CC: Criticism of climate movement: Climate movement is alarmist       0.00      0.00      0.00         3\n",
      "                                            CC: Criticism of climate movement: Climate movement is corrupt       0.00      0.00      0.00         2\n",
      "                                                                  CC: Criticism of climate movement: Other       0.00      0.00      0.00         2\n",
      "                                       CC: Criticism of climate policies: Climate policies are ineffective       0.00      0.00      0.00         3\n",
      "                                   CC: Criticism of climate policies: Climate policies are only for profit       0.00      0.00      0.00         2\n",
      "                   CC: Criticism of climate policies: Climate policies have negative impact on the economy       0.00      0.00      0.00         3\n",
      "                                                                  CC: Criticism of climate policies: Other       0.00      0.00      0.00         4\n",
      "                        CC: Criticism of institutions and authorities: Criticism of international entities       0.00      0.00      0.00         1\n",
      "                          CC: Criticism of institutions and authorities: Criticism of national governments       0.00      0.00      0.00         8\n",
      "           CC: Criticism of institutions and authorities: Criticism of political organizations and figures       0.00      0.00      0.00         5\n",
      "                                        CC: Criticism of institutions and authorities: Criticism of the EU       0.00      0.00      0.00         0\n",
      "                                                      CC: Criticism of institutions and authorities: Other       0.00      0.00      0.00         0\n",
      "                        CC: Downplaying climate change: CO2 concentrations are too small to have an impact       0.00      0.00      0.00         0\n",
      "                                                CC: Downplaying climate change: Climate cycles are natural       0.00      0.00      0.00         0\n",
      "                                                        CC: Downplaying climate change: Ice is not melting       0.00      0.00      0.00         0\n",
      "           CC: Green policies are geopolitical instruments: Green activities are a form of neo-colonialism       0.00      0.00      0.00         0\n",
      "                              CC: Hidden plots by secret schemes of powerful groups: Blaming global elites       0.00      0.00      0.00         4\n",
      "                  CC: Hidden plots by secret schemes of powerful groups: Climate agenda has hidden motives       0.00      0.00      0.00         0\n",
      "                                              CC: Hidden plots by secret schemes of powerful groups: Other       0.00      0.00      0.00         0\n",
      "CC: Questioning the measurements and science: Greenhouse effect/carbon dioxide do not drive climate change       0.00      0.00      0.00         0\n",
      "            CC: Questioning the measurements and science: Methodologies/metrics used are unreliable/faulty       0.00      0.00      0.00         1\n",
      "                                                       CC: Questioning the measurements and science: Other       0.00      0.00      0.00         0\n",
      "                          CC: Questioning the measurements and science: Scientific community is unreliable       0.00      0.00      0.00         1\n",
      "                                                                                                     Other       0.51      0.93      0.65        97\n",
      "                                    URW: Amplifying war-related fears: By continuing the war we risk WWIII       0.00      0.00      0.00         5\n",
      "                                    URW: Amplifying war-related fears: NATO should/will directly intervene       0.00      0.00      0.00         5\n",
      "                                                                  URW: Amplifying war-related fears: Other       0.00      0.00      0.00         5\n",
      "                                URW: Amplifying war-related fears: Russia will also attack other countries       0.00      0.00      0.00        11\n",
      "      URW: Amplifying war-related fears: There is a real possibility that nuclear weapons will be employed       0.00      0.00      0.00        16\n",
      "                       URW: Blaming the war on others rather than the invader: The West are the aggressors       0.00      0.00      0.00        17\n",
      "                          URW: Blaming the war on others rather than the invader: Ukraine is the aggressor       0.00      0.00      0.00         3\n",
      "                   URW: Discrediting Ukraine: Discrediting Ukrainian government and officials and policies       0.00      0.00      0.00         7\n",
      "                                                URW: Discrediting Ukraine: Discrediting Ukrainian military       0.00      0.00      0.00         3\n",
      "                                               URW: Discrediting Ukraine: Situation in Ukraine is hopeless       0.00      0.00      0.00         4\n",
      "                                       URW: Discrediting Ukraine: Ukraine is a hub for criminal activities       0.00      0.00      0.00         2\n",
      "                                                URW: Discrediting Ukraine: Ukraine is a puppet of the West       0.00      0.00      0.00         8\n",
      "                                              URW: Discrediting Ukraine: Ukraine is associated with nazism       0.00      0.00      0.00         5\n",
      "                                       URW: Discrediting the West, Diplomacy: Diplomacy does/will not work       0.00      0.00      0.00         7\n",
      "                                                              URW: Discrediting the West, Diplomacy: Other       0.00      0.00      0.00        14\n",
      "                                                  URW: Discrediting the West, Diplomacy: The EU is divided       0.00      0.00      0.00         3\n",
      "     URW: Discrediting the West, Diplomacy: The West does not care about Ukraine, only about its interests       0.00      0.00      0.00         8\n",
      "                                           URW: Discrediting the West, Diplomacy: The West is overreacting       0.00      0.00      0.00         1\n",
      "                                                   URW: Discrediting the West, Diplomacy: The West is weak       0.00      0.00      0.00         6\n",
      "                                           URW: Discrediting the West, Diplomacy: West is tired of Ukraine       0.00      0.00      0.00         7\n",
      "                                            URW: Distrust towards Media: Ukrainian media cannot be trusted       0.00      0.00      0.00         0\n",
      "                                 URW: Distrust towards Media: Western media is an instrument of propaganda       0.00      0.00      0.00         7\n",
      "                                             URW: Hidden plots by secret schemes of powerful groups: Other       0.00      0.00      0.00         8\n",
      "                                                            URW: Negative Consequences for the West: Other       0.00      0.00      0.00         0\n",
      "             URW: Negative Consequences for the West: Sanctions imposed by Western countries will backfire       0.00      0.00      0.00         5\n",
      " URW: Negative Consequences for the West: The conflict will increase the Ukrainian refugee flows to Europe       0.00      0.00      0.00         0\n",
      "                                 URW: Overpraising the West: The West belongs in the right side of history       0.00      0.00      0.00         6\n",
      "                              URW: Overpraising the West: The West has the strongest international support       0.00      0.00      0.00         3\n",
      "                                                                              URW: Praise of Russia: Other       0.00      0.00      0.00         0\n",
      "                                         URW: Praise of Russia: Praise of Russian President Vladimir Putin       0.00      0.00      0.00         0\n",
      "                                                   URW: Praise of Russia: Praise of Russian military might       0.00      0.00      0.00         3\n",
      "             URW: Praise of Russia: Russia has international support from a number of countries and people       0.00      0.00      0.00         1\n",
      "                                      URW: Praise of Russia: Russia is a guarantor of peace and prosperity       0.00      0.00      0.00         2\n",
      "                                       URW: Praise of Russia: Russian invasion has strong national support       0.00      0.00      0.00         2\n",
      "                                                                          URW: Russia is the Victim: Other       0.00      0.00      0.00         2\n",
      "                                URW: Russia is the Victim: Russia actions in Ukraine are only self-defence       0.00      0.00      0.00         3\n",
      "                                                        URW: Russia is the Victim: The West is russophobic       0.00      0.00      0.00         5\n",
      "                                                       URW: Russia is the Victim: UA is anti-RU extremists       0.00      0.00      0.00         4\n",
      "                                                                      URW: Speculating war outcomes: Other       0.00      0.00      0.00         7\n",
      "                                                 URW: Speculating war outcomes: Russian army is collapsing       0.00      0.00      0.00         4\n",
      "                                               URW: Speculating war outcomes: Ukrainian army is collapsing       0.00      0.00      0.00         6\n",
      "\n",
      "                                                                                                 micro avg       0.45      0.26      0.33       350\n",
      "                                                                                                 macro avg       0.01      0.01      0.01       350\n",
      "                                                                                              weighted avg       0.14      0.26      0.18       350\n",
      "                                                                                               samples avg       0.48      0.48      0.48       350\n",
      "\n"
     ]
    },
    {
     "name": "stderr",
     "output_type": "stream",
     "text": [
      "/Users/jochem/opt/anaconda3/lib/python3.9/site-packages/sklearn/metrics/_classification.py:1327: UndefinedMetricWarning: Precision and F-score are ill-defined and being set to 0.0 in labels with no predicted samples. Use `zero_division` parameter to control this behavior.\n",
      "  _warn_prf(average, modifier, msg_start, len(result))\n",
      "/Users/jochem/opt/anaconda3/lib/python3.9/site-packages/sklearn/metrics/_classification.py:1327: UndefinedMetricWarning: Recall and F-score are ill-defined and being set to 0.0 in labels with no true samples. Use `zero_division` parameter to control this behavior.\n",
      "  _warn_prf(average, modifier, msg_start, len(result))\n"
     ]
    }
   ],
   "source": [
    "y_pred, y_true = model.logistic_regression_loocv(X,y,majority_ensemble=True)\n",
    "print(classification_report(y_true = y_true, y_pred=y_pred, target_names=sub_mlb.classes_))"
   ]
  },
  {
   "cell_type": "markdown",
   "metadata": {},
   "source": [
    "Trained on the dom classes:"
   ]
  },
  {
   "cell_type": "code",
   "execution_count": 7,
   "metadata": {},
   "outputs": [
    {
     "name": "stdout",
     "output_type": "stream",
     "text": [
      "Skipped fold 67, labels invalid\n",
      "Skipped fold 174, labels invalid\n",
      "                                                        precision    recall  f1-score   support\n",
      "\n",
      "                      CC: Climate change is beneficial       0.00      0.00      0.00         0\n",
      "              CC: Controversy about green technologies       0.00      0.00      0.00         3\n",
      "                     CC: Criticism of climate movement       0.00      0.00      0.00        10\n",
      "                     CC: Criticism of climate policies       0.00      0.00      0.00        10\n",
      "         CC: Criticism of institutions and authorities       0.00      0.00      0.00        19\n",
      "                        CC: Downplaying climate change       0.00      0.00      0.00         1\n",
      "       CC: Green policies are geopolitical instruments       0.00      0.00      0.00         0\n",
      " CC: Hidden plots by secret schemes of powerful groups       0.00      0.00      0.00         6\n",
      "          CC: Questioning the measurements and science       0.00      0.00      0.00         3\n",
      "                                                 Other       0.49      0.86      0.62        97\n",
      "                     URW: Amplifying war-related fears       0.00      0.00      0.00        26\n",
      "URW: Blaming the war on others rather than the invader       0.00      0.00      0.00        18\n",
      "                             URW: Discrediting Ukraine       0.00      0.00      0.00        19\n",
      "                 URW: Discrediting the West, Diplomacy       0.06      0.03      0.04        35\n",
      "                           URW: Distrust towards Media       0.00      0.00      0.00         9\n",
      "URW: Hidden plots by secret schemes of powerful groups       0.00      0.00      0.00         8\n",
      "               URW: Negative Consequences for the West       0.00      0.00      0.00         7\n",
      "                            URW: Overpraising the West       0.00      0.00      0.00         9\n",
      "                                 URW: Praise of Russia       0.00      0.00      0.00        10\n",
      "                             URW: Russia is the Victim       0.25      0.08      0.12        12\n",
      "                         URW: Speculating war outcomes       0.00      0.00      0.00        15\n",
      "\n",
      "                                             micro avg       0.39      0.27      0.32       317\n",
      "                                             macro avg       0.04      0.05      0.04       317\n",
      "                                          weighted avg       0.16      0.27      0.20       317\n",
      "                                           samples avg       0.42      0.43      0.42       317\n",
      "\n"
     ]
    },
    {
     "name": "stderr",
     "output_type": "stream",
     "text": [
      "/Users/jochem/opt/anaconda3/lib/python3.9/site-packages/sklearn/metrics/_classification.py:1327: UndefinedMetricWarning: Precision and F-score are ill-defined and being set to 0.0 in labels with no predicted samples. Use `zero_division` parameter to control this behavior.\n",
      "  _warn_prf(average, modifier, msg_start, len(result))\n",
      "/Users/jochem/opt/anaconda3/lib/python3.9/site-packages/sklearn/metrics/_classification.py:1327: UndefinedMetricWarning: Recall and F-score are ill-defined and being set to 0.0 in labels with no true samples. Use `zero_division` parameter to control this behavior.\n",
      "  _warn_prf(average, modifier, msg_start, len(result))\n"
     ]
    }
   ],
   "source": [
    "y = dom_narr_enc\n",
    "y_pred, y_true = model.logistic_regression_loocv(X,y,majority_ensemble=True)\n",
    "print(classification_report(y_true = y_true, y_pred=y_pred, target_names=dom_mlb.classes_))"
   ]
  },
  {
   "cell_type": "markdown",
   "metadata": {},
   "source": []
  }
 ],
 "metadata": {
  "kernelspec": {
   "display_name": "base",
   "language": "python",
   "name": "python3"
  },
  "language_info": {
   "codemirror_mode": {
    "name": "ipython",
    "version": 3
   },
   "file_extension": ".py",
   "mimetype": "text/x-python",
   "name": "python",
   "nbconvert_exporter": "python",
   "pygments_lexer": "ipython3",
   "version": "3.9.7"
  }
 },
 "nbformat": 4,
 "nbformat_minor": 2
}
