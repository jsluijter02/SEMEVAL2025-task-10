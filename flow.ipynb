{
 "cells": [
  {
   "cell_type": "code",
   "execution_count": 1,
   "metadata": {},
   "outputs": [
    {
     "name": "stderr",
     "output_type": "stream",
     "text": [
      "/Users/jochem/opt/anaconda3/lib/python3.9/site-packages/scipy/__init__.py:146: UserWarning: A NumPy version >=1.16.5 and <1.23.0 is required for this version of SciPy (detected version 1.25.2\n",
      "  warnings.warn(f\"A NumPy version >={np_minversion} and <{np_maxversion}\"\n"
     ]
    }
   ],
   "source": [
    "import data\n",
    "import eval\n",
    "import model\n",
    "import preprocess\n",
    "import postprocess"
   ]
  },
  {
   "cell_type": "code",
   "execution_count": 2,
   "metadata": {},
   "outputs": [],
   "source": [
    "import numpy as np\n",
    "import pandas as pd\n",
    "from sklearn.metrics import classification_report\n",
    "from sklearn.feature_extraction.text import TfidfVectorizer"
   ]
  },
  {
   "cell_type": "markdown",
   "metadata": {},
   "source": [
    "First off, the steps taken to fully load in the data set.\n",
    "\n",
    "Step 1: load the raw text files and their id's into a dataframe\n",
    "\n",
    "Step 2: if the texts are not in English, translate them\n",
    "\n",
    "Step 3: concatenate the text files into a single dataset\n",
    "\n",
    "Step 4: load in the labels\n",
    "\n",
    "Step 5: merge the text and labels data sets\n"
   ]
  },
  {
   "cell_type": "code",
   "execution_count": 3,
   "metadata": {},
   "outputs": [
    {
     "name": "stdout",
     "output_type": "stream",
     "text": [
      "Data length:  115\n"
     ]
    },
    {
     "ename": "NotValidLength",
     "evalue": "'पापा ने वॉर रुकवा दी' से लेकर ग्लोबल पीसमेकर तक, जानिए कैसे रूस और ...\n\n'पापा ने वॉर रुकवा दी' से लेकर ग्लोबल पीसमेकर तक, जानिए कैसे रूस और यूक्रेन के बीच संतुलन बना रहे पीएम मोदी?\nBy मनाली रस्तोगी | Published: August 30, 2024 07:25 AM2024-08-30T07:25:07+5:302024-08-30T07:41:48+5:30\nरूस और यूक्रेन दोनों के साथ भारत के ऐतिहासिक संबंधों के साथ मिलकर इस संतुलन अधिनियम ने इन अशांत समय में शांतिदूत के रूप में पीएम मोदी की क्षमता के बारे में उम्मीदें जगाई हैं। वह सही तरीके से कार्ड खेल रहे हैं।\nरूस और यूक्रेन के बीच चल रहे संघर्ष के बीच प्रधानमंत्री नरेंद्र मोदी की कूटनीतिक चाल ने भारत को वैश्विक मंच पर एक महत्वपूर्ण खिलाड़ी के रूप में स्थापित किया है। मोदी की हालिया यूक्रेन यात्रा, जो तीन दशकों में किसी भारतीय प्रधान मंत्री की पहली यात्रा है, ने न केवल भारत में चर्चा को फिर से शुरू कर दिया है, बल्कि परस्पर विरोधी वैश्विक शक्तियों के बीच एक नाजुक संतुलन बनाए रखने की उनकी क्षमता का भी प्रदर्शन किया है।\nरूस और यूक्रेन दोनों के साथ भारत के ऐतिहासिक संबंधों के साथ मिलकर इस संतुलन अधिनियम ने इन अशांत समय में शांतिदूत के रूप में पीएम मोदी की क्षमता के बारे में उम्मीदें जगाई हैं। वह सही तरीके से कार्ड खेल रहे हैं। चाहे वह भारत द्वारा आयोजित जी20 शिखर सम्मेलन हो, या छह सप्ताह के अंतराल में रूस और यूक्रेन दोनों की लगभग बैक-टू-बैक यात्राएं हों।\nकूटनीतिक रणनीति\nरूस के साथ भारत के संबंध शीत युद्ध के युग से हैं जब सोवियत संघ एक दृढ़ सहयोगी था। 1971 में हस्ताक्षरित शांति, मित्रता और सहयोग की भारत-सोवियत संधि दोनों देशों के बीच गहरे संबंधों का प्रमाण है।\nरूस एक महत्वपूर्ण रक्षा भागीदार रहा है, जो दशकों से भारत को सैन्य उपकरण और प्रौद्योगिकी की आपूर्ति कर रहा है। दूसरी ओर, सोवियत संघ से स्वतंत्रता प्राप्त करने के बाद यूक्रेन भी भारत के लिए एक महत्वपूर्ण भागीदार रहा है, खासकर रक्षा, शिक्षा और कृषि जैसे क्षेत्रों में।\nरूस-यूक्रेन संघर्ष के दौरान इन रिश्तों को निभाना एक कठिन चुनौती रही है। जबकि अमेरिका के नेतृत्व में पश्चिम ने देशों पर रूस के खिलाफ रुख अपनाने के लिए दबाव डाला है, वहीं भारत ने बातचीत और शांति की वकालत करते हुए तटस्थ रुख बनाए रखा है।\nमोदी सरकार ने रूस और यूक्रेन दोनों के साथ बातचीत जारी रखी है और रूस को अलग-थलग करने के अंतरराष्ट्रीय दबाव के आगे झुकने से इनकार कर दिया है। इसका उदाहरण पश्चिमी प्रतिबंधों के बावजूद कच्चे तेल की खरीद सहित रूस के साथ भारत के चल रहे व्यापारिक सौदे हैं।\nमोदी की यूक्रेन यात्रा प्रतीकात्मक थी, जो शांति के प्रति भारत की प्रतिबद्धता और इसमें शामिल सभी पक्षों के साथ जुड़ने की इच्छा का संकेत देती है। रूस और यूक्रेन दोनों में उन्हें जो स्वागत मिला, वह एक ऐसे राष्ट्र के रूप में भारत की अद्वितीय स्थिति को उजागर करता है जो पूर्व और पश्चिम के बीच की खाई को पाट सकता है। यह तथ्य कि मोदी दोनों देशों में इतना गर्मजोशी से स्वागत करने में कामयाब रहे, यह अंतरराष्ट्रीय मंच पर उनके सम्मान को उजागर करता है।\nसोशल मीडिया पर वायरल हो रहा है 'पापा ने वार रुकवा दी'\nभारत में मोदी की यूक्रेन यात्रा से सोशल मीडिया पर टिप्पणियों की लहर दौड़ गई है। 'पापा ने वार रुकवा दी' वाक्यांश, जो लोकसभा चुनाव के दौरान उत्पन्न हुआ था, इस बार एक अलग स्वर के साथ फिर से सामने आया है।\nमोदी के समर्थकों ने उनके कूटनीतिक प्रयासों की प्रशंसा करने के लिए एक्स जैसे मंच का सहारा लिया है, ऐसी टिप्पणियों के साथ कि \"मोदी जी वास्तव में एक वैश्विक नेता हैं\" और \"शांतिदूत के रूप में भारत की स्थिति अब मजबूत हो गई है\"।\nहालांकि, आलोचक संशय में हैं। कुछ लोगों ने सवाल किया है कि क्या मोदी की यात्रा का ज़मीनी स्तर पर कोई ठोस प्रभाव पड़ेगा, \"क्या यह यात्रा सिर्फ एक पीआर अभ्यास है?\" और \"भारत शांति स्थापित करने के लिए क्या ठोस कदम उठा रहा है?\"\nलेकिन एक बात स्पष्ट है। पीएम मोदी ने जो कर दिखाया, कोई अन्य राष्ट्र प्रमुख नहीं कर पाया। और वो है- महज कुछ हफ्तों के अंतराल में पुतिन और ज़ेलेंस्की दोनों से मुलाकात। यह वैश्विक शांति निर्माता के रूप में भारत की भूमिका और स्थिति को मजबूत करता है।\nशांति करने वाला\nरूस और यूक्रेन दोनों के साथ जुड़ने के मोदी के प्रयास और बातचीत और शांति पर उनका जोर भारत को संघर्ष में संभावित मध्यस्थ के रूप में स्थापित कर सकता है। भारत की ऐतिहासिक गुटनिरपेक्ष नीति, तटस्थता के वर्तमान रुख के साथ मिलकर, इसे मध्यस्थ के रूप में कार्य करने के लिए आवश्यक विश्वसनीयता प्रदान करती है।\nइसके अलावा वैश्विक मंच पर भारत के बढ़ते प्रभाव और रूस और यूक्रेन दोनों के नेताओं के साथ मोदी के व्यक्तिगत तालमेल से भारत दोनों पक्षों को बातचीत की मेज पर लाने में रचनात्मक भूमिका निभा सकता है।\nभारत की सामरिक स्वतंत्रता\nमोदी के दृष्टिकोण में जो बात विशेष रूप से प्रभावशाली है वह रणनीतिक स्वतंत्रता बनाए रखने की उनकी क्षमता है। रूस के साथ भारत के घनिष्ठ संबंधों और उसकी आर्थिक व्यस्तताओं के बावजूद, मोदी संयुक्त राज्य अमेरिका की अच्छी किताबों में बने रहने में कामयाब रहे हैं।\nवर्तमान भू-राजनीतिक माहौल को देखते हुए, यह संतुलन कार्य कोई छोटी उपलब्धि नहीं है, जहां एक शक्ति के साथ बहुत निकटता से जुड़ना अक्सर दूसरों से अलगाव की ओर ले जाता है। मोदी की कूटनीति ने भारत को अपनी संप्रभुता का दावा करने और पूर्व बनाम पश्चिम के द्विआधारी संघर्ष में शामिल हुए बिना अपने राष्ट्रीय हितों को आगे बढ़ाने की अनुमति दी है।\nविपक्ष चुप हो गया\nदिलचस्प बात यह है कि जहां मोदी की यात्रा ने व्यापक ध्यान आकर्षित किया है, वहीं विपक्ष, विशेषकर कांग्रेस, काफी हद तक चुप रही है। यह चुप्पी उल्लेखनीय है, विशेषकर लोकसभा चुनाव के दौरान विपक्ष द्वारा \"पापा ने वार रुकवा दी\" तंज के साथ अपनाए गए आक्रामक रुख को देखते हुए।\nकांग्रेस की ओर से प्रतिक्रिया की कमी इस बात का संकेत हो सकती है कि मोदी जिस कूटनीतिक रस्सी पर चल रहे हैं, उसकी मान्यता है, जिसकी आलोचना भारत की वैश्विक स्थिति के प्रति गैर-देशभक्त या गैर-समर्थक दिखाई दिए बिना करना मुश्किल है। --> Text length need to be between 0 and 5000 characters",
     "output_type": "error",
     "traceback": [
      "\u001b[0;31m---------------------------------------------------------------------------\u001b[0m",
      "\u001b[0;31mNotValidLength\u001b[0m                            Traceback (most recent call last)",
      "\u001b[0;32m/var/folders/ry/88hvy7l13p17fks1bzmydvrr0000gn/T/ipykernel_32042/31050087.py\u001b[0m in \u001b[0;36m<module>\u001b[0;34m\u001b[0m\n\u001b[1;32m      4\u001b[0m \u001b[0;31m# load and translate hindi text\u001b[0m\u001b[0;34m\u001b[0m\u001b[0;34m\u001b[0m\u001b[0m\n\u001b[1;32m      5\u001b[0m \u001b[0mdf_text_hi\u001b[0m \u001b[0;34m=\u001b[0m \u001b[0mdata\u001b[0m\u001b[0;34m.\u001b[0m\u001b[0mload_text_data\u001b[0m\u001b[0;34m(\u001b[0m\u001b[0;34m\"/Users/jochem/Documents/school/Uni KI jaar 4/Scriptie/Train Data/training_data_16_October_release/HI/raw-documents\"\u001b[0m\u001b[0;34m)\u001b[0m\u001b[0;34m\u001b[0m\u001b[0;34m\u001b[0m\u001b[0m\n\u001b[0;32m----> 6\u001b[0;31m \u001b[0mpreprocess\u001b[0m\u001b[0;34m.\u001b[0m\u001b[0mtranslate\u001b[0m\u001b[0;34m(\u001b[0m\u001b[0mdf_text_hi\u001b[0m\u001b[0;34m,\u001b[0m \u001b[0msource_lang\u001b[0m\u001b[0;34m=\u001b[0m\u001b[0;34m\"hi\"\u001b[0m\u001b[0;34m)\u001b[0m\u001b[0;34m\u001b[0m\u001b[0;34m\u001b[0m\u001b[0m\n\u001b[0m\u001b[1;32m      7\u001b[0m \u001b[0;34m\u001b[0m\u001b[0m\n\u001b[1;32m      8\u001b[0m \u001b[0;31m# df_text_pt = load_text_data(\"/Users/jochem/Documents/school/Uni KI jaar 4/Scriptie/Train Data/training_data_16_October_release/PT/raw-documents\")\u001b[0m\u001b[0;34m\u001b[0m\u001b[0;34m\u001b[0m\u001b[0m\n",
      "\u001b[0;32m~/Documents/school/Uni KI jaar 4/Scriptie/Code/SEMEVAL2025-task-10/preprocess.py\u001b[0m in \u001b[0;36mtranslate\u001b[0;34m(df, source_lang)\u001b[0m\n\u001b[1;32m     18\u001b[0m     \u001b[0;31m# get the texts to translate\u001b[0m\u001b[0;34m\u001b[0m\u001b[0;34m\u001b[0m\u001b[0m\n\u001b[1;32m     19\u001b[0m     \u001b[0mtexts\u001b[0m \u001b[0;34m=\u001b[0m \u001b[0mdf\u001b[0m\u001b[0;34m[\u001b[0m\u001b[0;34m\"text\"\u001b[0m\u001b[0;34m]\u001b[0m\u001b[0;34m.\u001b[0m\u001b[0mtolist\u001b[0m\u001b[0;34m(\u001b[0m\u001b[0;34m)\u001b[0m\u001b[0;34m\u001b[0m\u001b[0;34m\u001b[0m\u001b[0m\n\u001b[0;32m---> 20\u001b[0;31m     \u001b[0mtranslations\u001b[0m \u001b[0;34m=\u001b[0m \u001b[0mtranslator\u001b[0m\u001b[0;34m.\u001b[0m\u001b[0mtranslate\u001b[0m\u001b[0;34m(\u001b[0m\u001b[0mtexts\u001b[0m\u001b[0;34m[\u001b[0m\u001b[0;36m0\u001b[0m\u001b[0;34m]\u001b[0m\u001b[0;34m)\u001b[0m\u001b[0;34m\u001b[0m\u001b[0;34m\u001b[0m\u001b[0m\n\u001b[0m\u001b[1;32m     21\u001b[0m     \u001b[0mprint\u001b[0m\u001b[0;34m(\u001b[0m\u001b[0mtranslations\u001b[0m\u001b[0;34m)\u001b[0m\u001b[0;34m\u001b[0m\u001b[0;34m\u001b[0m\u001b[0m\n\u001b[1;32m     22\u001b[0m \u001b[0;34m\u001b[0m\u001b[0m\n",
      "\u001b[0;32m~/opt/anaconda3/lib/python3.9/site-packages/deep_translator/google.py\u001b[0m in \u001b[0;36mtranslate\u001b[0;34m(self, text, **kwargs)\u001b[0m\n\u001b[1;32m     55\u001b[0m         \u001b[0;34m@\u001b[0m\u001b[0;32mreturn\u001b[0m\u001b[0;34m:\u001b[0m \u001b[0mstr\u001b[0m\u001b[0;34m:\u001b[0m \u001b[0mtranslated\u001b[0m \u001b[0mtext\u001b[0m\u001b[0;34m\u001b[0m\u001b[0;34m\u001b[0m\u001b[0m\n\u001b[1;32m     56\u001b[0m         \"\"\"\n\u001b[0;32m---> 57\u001b[0;31m         \u001b[0;32mif\u001b[0m \u001b[0mis_input_valid\u001b[0m\u001b[0;34m(\u001b[0m\u001b[0mtext\u001b[0m\u001b[0;34m,\u001b[0m \u001b[0mmax_chars\u001b[0m\u001b[0;34m=\u001b[0m\u001b[0;36m5000\u001b[0m\u001b[0;34m)\u001b[0m\u001b[0;34m:\u001b[0m\u001b[0;34m\u001b[0m\u001b[0;34m\u001b[0m\u001b[0m\n\u001b[0m\u001b[1;32m     58\u001b[0m             \u001b[0mtext\u001b[0m \u001b[0;34m=\u001b[0m \u001b[0mtext\u001b[0m\u001b[0;34m.\u001b[0m\u001b[0mstrip\u001b[0m\u001b[0;34m(\u001b[0m\u001b[0;34m)\u001b[0m\u001b[0;34m\u001b[0m\u001b[0;34m\u001b[0m\u001b[0m\n\u001b[1;32m     59\u001b[0m             \u001b[0;32mif\u001b[0m \u001b[0mself\u001b[0m\u001b[0;34m.\u001b[0m\u001b[0m_same_source_target\u001b[0m\u001b[0;34m(\u001b[0m\u001b[0;34m)\u001b[0m \u001b[0;32mor\u001b[0m \u001b[0mis_empty\u001b[0m\u001b[0;34m(\u001b[0m\u001b[0mtext\u001b[0m\u001b[0;34m)\u001b[0m\u001b[0;34m:\u001b[0m\u001b[0;34m\u001b[0m\u001b[0;34m\u001b[0m\u001b[0m\n",
      "\u001b[0;32m~/opt/anaconda3/lib/python3.9/site-packages/deep_translator/validate.py\u001b[0m in \u001b[0;36mis_input_valid\u001b[0;34m(text, min_chars, max_chars)\u001b[0m\n\u001b[1;32m     39\u001b[0m         \u001b[0;32mraise\u001b[0m \u001b[0mNotValidPayload\u001b[0m\u001b[0;34m(\u001b[0m\u001b[0mtext\u001b[0m\u001b[0;34m)\u001b[0m\u001b[0;34m\u001b[0m\u001b[0;34m\u001b[0m\u001b[0m\n\u001b[1;32m     40\u001b[0m     \u001b[0;32mif\u001b[0m \u001b[0mmax_chars\u001b[0m \u001b[0;32mand\u001b[0m \u001b[0;34m(\u001b[0m\u001b[0;32mnot\u001b[0m \u001b[0mmin_chars\u001b[0m \u001b[0;34m<=\u001b[0m \u001b[0mlen\u001b[0m\u001b[0;34m(\u001b[0m\u001b[0mtext\u001b[0m\u001b[0;34m)\u001b[0m \u001b[0;34m<\u001b[0m \u001b[0mmax_chars\u001b[0m\u001b[0;34m)\u001b[0m\u001b[0;34m:\u001b[0m\u001b[0;34m\u001b[0m\u001b[0;34m\u001b[0m\u001b[0m\n\u001b[0;32m---> 41\u001b[0;31m         \u001b[0;32mraise\u001b[0m \u001b[0mNotValidLength\u001b[0m\u001b[0;34m(\u001b[0m\u001b[0mtext\u001b[0m\u001b[0;34m,\u001b[0m \u001b[0mmin_chars\u001b[0m\u001b[0;34m,\u001b[0m \u001b[0mmax_chars\u001b[0m\u001b[0;34m)\u001b[0m\u001b[0;34m\u001b[0m\u001b[0;34m\u001b[0m\u001b[0m\n\u001b[0m\u001b[1;32m     42\u001b[0m \u001b[0;34m\u001b[0m\u001b[0m\n\u001b[1;32m     43\u001b[0m     \u001b[0;32mreturn\u001b[0m \u001b[0;32mTrue\u001b[0m\u001b[0;34m\u001b[0m\u001b[0;34m\u001b[0m\u001b[0m\n",
      "\u001b[0;31mNotValidLength\u001b[0m: 'पापा ने वॉर रुकवा दी' से लेकर ग्लोबल पीसमेकर तक, जानिए कैसे रूस और ...\n\n'पापा ने वॉर रुकवा दी' से लेकर ग्लोबल पीसमेकर तक, जानिए कैसे रूस और यूक्रेन के बीच संतुलन बना रहे पीएम मोदी?\nBy मनाली रस्तोगी | Published: August 30, 2024 07:25 AM2024-08-30T07:25:07+5:302024-08-30T07:41:48+5:30\nरूस और यूक्रेन दोनों के साथ भारत के ऐतिहासिक संबंधों के साथ मिलकर इस संतुलन अधिनियम ने इन अशांत समय में शांतिदूत के रूप में पीएम मोदी की क्षमता के बारे में उम्मीदें जगाई हैं। वह सही तरीके से कार्ड खेल रहे हैं।\nरूस और यूक्रेन के बीच चल रहे संघर्ष के बीच प्रधानमंत्री नरेंद्र मोदी की कूटनीतिक चाल ने भारत को वैश्विक मंच पर एक महत्वपूर्ण खिलाड़ी के रूप में स्थापित किया है। मोदी की हालिया यूक्रेन यात्रा, जो तीन दशकों में किसी भारतीय प्रधान मंत्री की पहली यात्रा है, ने न केवल भारत में चर्चा को फिर से शुरू कर दिया है, बल्कि परस्पर विरोधी वैश्विक शक्तियों के बीच एक नाजुक संतुलन बनाए रखने की उनकी क्षमता का भी प्रदर्शन किया है।\nरूस और यूक्रेन दोनों के साथ भारत के ऐतिहासिक संबंधों के साथ मिलकर इस संतुलन अधिनियम ने इन अशांत समय में शांतिदूत के रूप में पीएम मोदी की क्षमता के बारे में उम्मीदें जगाई हैं। वह सही तरीके से कार्ड खेल रहे हैं। चाहे वह भारत द्वारा आयोजित जी20 शिखर सम्मेलन हो, या छह सप्ताह के अंतराल में रूस और यूक्रेन दोनों की लगभग बैक-टू-बैक यात्राएं हों।\nकूटनीतिक रणनीति\nरूस के साथ भारत के संबंध शीत युद्ध के युग से हैं जब सोवियत संघ एक दृढ़ सहयोगी था। 1971 में हस्ताक्षरित शांति, मित्रता और सहयोग की भारत-सोवियत संधि दोनों देशों के बीच गहरे संबंधों का प्रमाण है।\nरूस एक महत्वपूर्ण रक्षा भागीदार रहा है, जो दशकों से भारत को सैन्य उपकरण और प्रौद्योगिकी की आपूर्ति कर रहा है। दूसरी ओर, सोवियत संघ से स्वतंत्रता प्राप्त करने के बाद यूक्रेन भी भारत के लिए एक महत्वपूर्ण भागीदार रहा है, खासकर रक्षा, शिक्षा और कृषि जैसे क्षेत्रों में।\nरूस-यूक्रेन संघर्ष के दौरान इन रिश्तों को निभाना एक कठिन चुनौती रही है। जबकि अमेरिका के नेतृत्व में पश्चिम ने देशों पर रूस के खिलाफ रुख अपनाने के लिए दबाव डाला है, वहीं भारत ने बातचीत और शांति की वकालत करते हुए तटस्थ रुख बनाए रखा है।\nमोदी सरकार ने रूस और यूक्रेन दोनों के साथ बातचीत जारी रखी है और रूस को अलग-थलग करने के अंतरराष्ट्रीय दबाव के आगे झुकने से इनकार कर दिया है। इसका उदाहरण पश्चिमी प्रतिबंधों के बावजूद कच्चे तेल की खरीद सहित रूस के साथ भारत के चल रहे व्यापारिक सौदे हैं।\nमोदी की यूक्रेन यात्रा प्रतीकात्मक थी, जो शांति के प्रति भारत की प्रतिबद्धता और इसमें शामिल सभी पक्षों के साथ जुड़ने की इच्छा का संकेत देती है। रूस और यूक्रेन दोनों में उन्हें जो स्वागत मिला, वह एक ऐसे राष्ट्र के रूप में भारत की अद्वितीय स्थिति को उजागर करता है जो पूर्व और पश्चिम के बीच की खाई को पाट सकता है। यह तथ्य कि मोदी दोनों देशों में इतना गर्मजोशी से स्वागत करने में कामयाब रहे, यह अंतरराष्ट्रीय मंच पर उनके सम्मान को उजागर करता है।\nसोशल मीडिया पर वायरल हो रहा है 'पापा ने वार रुकवा दी'\nभारत में मोदी की यूक्रेन यात्रा से सोशल मीडिया पर टिप्पणियों की लहर दौड़ गई है। 'पापा ने वार रुकवा दी' वाक्यांश, जो लोकसभा चुनाव के दौरान उत्पन्न हुआ था, इस बार एक अलग स्वर के साथ फिर से सामने आया है।\nमोदी के समर्थकों ने उनके कूटनीतिक प्रयासों की प्रशंसा करने के लिए एक्स जैसे मंच का सहारा लिया है, ऐसी टिप्पणियों के साथ कि \"मोदी जी वास्तव में एक वैश्विक नेता हैं\" और \"शांतिदूत के रूप में भारत की स्थिति अब मजबूत हो गई है\"।\nहालांकि, आलोचक संशय में हैं। कुछ लोगों ने सवाल किया है कि क्या मोदी की यात्रा का ज़मीनी स्तर पर कोई ठोस प्रभाव पड़ेगा, \"क्या यह यात्रा सिर्फ एक पीआर अभ्यास है?\" और \"भारत शांति स्थापित करने के लिए क्या ठोस कदम उठा रहा है?\"\nलेकिन एक बात स्पष्ट है। पीएम मोदी ने जो कर दिखाया, कोई अन्य राष्ट्र प्रमुख नहीं कर पाया। और वो है- महज कुछ हफ्तों के अंतराल में पुतिन और ज़ेलेंस्की दोनों से मुलाकात। यह वैश्विक शांति निर्माता के रूप में भारत की भूमिका और स्थिति को मजबूत करता है।\nशांति करने वाला\nरूस और यूक्रेन दोनों के साथ जुड़ने के मोदी के प्रयास और बातचीत और शांति पर उनका जोर भारत को संघर्ष में संभावित मध्यस्थ के रूप में स्थापित कर सकता है। भारत की ऐतिहासिक गुटनिरपेक्ष नीति, तटस्थता के वर्तमान रुख के साथ मिलकर, इसे मध्यस्थ के रूप में कार्य करने के लिए आवश्यक विश्वसनीयता प्रदान करती है।\nइसके अलावा वैश्विक मंच पर भारत के बढ़ते प्रभाव और रूस और यूक्रेन दोनों के नेताओं के साथ मोदी के व्यक्तिगत तालमेल से भारत दोनों पक्षों को बातचीत की मेज पर लाने में रचनात्मक भूमिका निभा सकता है।\nभारत की सामरिक स्वतंत्रता\nमोदी के दृष्टिकोण में जो बात विशेष रूप से प्रभावशाली है वह रणनीतिक स्वतंत्रता बनाए रखने की उनकी क्षमता है। रूस के साथ भारत के घनिष्ठ संबंधों और उसकी आर्थिक व्यस्तताओं के बावजूद, मोदी संयुक्त राज्य अमेरिका की अच्छी किताबों में बने रहने में कामयाब रहे हैं।\nवर्तमान भू-राजनीतिक माहौल को देखते हुए, यह संतुलन कार्य कोई छोटी उपलब्धि नहीं है, जहां एक शक्ति के साथ बहुत निकटता से जुड़ना अक्सर दूसरों से अलगाव की ओर ले जाता है। मोदी की कूटनीति ने भारत को अपनी संप्रभुता का दावा करने और पूर्व बनाम पश्चिम के द्विआधारी संघर्ष में शामिल हुए बिना अपने राष्ट्रीय हितों को आगे बढ़ाने की अनुमति दी है।\nविपक्ष चुप हो गया\nदिलचस्प बात यह है कि जहां मोदी की यात्रा ने व्यापक ध्यान आकर्षित किया है, वहीं विपक्ष, विशेषकर कांग्रेस, काफी हद तक चुप रही है। यह चुप्पी उल्लेखनीय है, विशेषकर लोकसभा चुनाव के दौरान विपक्ष द्वारा \"पापा ने वार रुकवा दी\" तंज के साथ अपनाए गए आक्रामक रुख को देखते हुए।\nकांग्रेस की ओर से प्रतिक्रिया की कमी इस बात का संकेत हो सकती है कि मोदी जिस कूटनीतिक रस्सी पर चल रहे हैं, उसकी मान्यता है, जिसकी आलोचना भारत की वैश्विक स्थिति के प्रति गैर-देशभक्त या गैर-समर्थक दिखाई दिए बिना करना मुश्किल है। --> Text length need to be between 0 and 5000 characters"
     ]
    }
   ],
   "source": [
    "# load english text data\n",
    "# df_text_en = data.load_text_data(\"/Users/jochem/Documents/school/Uni KI jaar 4/Scriptie/Train Data/training_data_16_October_release/EN/raw-documents\")\n",
    "\n",
    "# load and translate hindi text\n",
    "df_text_hi = data.load_text_data(\"/Users/jochem/Documents/school/Uni KI jaar 4/Scriptie/Train Data/training_data_16_October_release/HI/raw-documents\")\n",
    "preprocess.translate(df_text_hi, source_lang=\"hi\")\n",
    "\n",
    "# df_text_pt = load_text_data(\"/Users/jochem/Documents/school/Uni KI jaar 4/Scriptie/Train Data/training_data_16_October_release/PT/raw-documents\")\n",
    "# df_text = pd.concat([df_text_en, df_text_hi, df_text_pt])\n",
    "\n",
    "# df_labels_en = load_labels(\"/Users/jochem/Documents/school/Uni KI jaar 4/Scriptie/Train Data/training_data_16_October_release/EN/subtask-2-annotations.txt\")\n",
    "# df_labels_hi = load_labels(\"/Users/jochem/Documents/school/Uni KI jaar 4/Scriptie/Train Data/training_data_16_October_release/HI/subtask-2-annotations.txt\")\n",
    "# df_labels_pt = load_labels(\"/Users/jochem/Documents/school/Uni KI jaar 4/Scriptie/Train Data/training_data_16_October_release/PT/subtask-2-annotations.txt\")\n",
    "# df_labels = pd.concat([df_labels_en, df_labels_hi, df_labels_pt])\n",
    "\n",
    "# df_merged = pd.merge(df_text, df_labels, on=\"id\")"
   ]
  },
  {
   "cell_type": "markdown",
   "metadata": {},
   "source": [
    "first load the data set, and save it as a csv?"
   ]
  },
  {
   "cell_type": "code",
   "execution_count": 3,
   "metadata": {},
   "outputs": [
    {
     "name": "stdout",
     "output_type": "stream",
     "text": [
      "Data length:  200\n",
      "Data length:  115\n",
      "Data length:  200\n",
      "Labels length: 200\n",
      "Labels length: 115\n",
      "Labels length: 200\n",
      "                   id                                               text  \\\n",
      "0    EN_UA_104876.txt  Putin honours army unit blamed for Bucha massa...   \n",
      "1    EN_UA_023211.txt  Europe Putin thanks US journalist Tucker Carls...   \n",
      "2    EN_UA_011260.txt  Russia has a clear plan to resolve the conflic...   \n",
      "3    EN_UA_101067.txt  First war of TikTok era sees tragedy, humor an...   \n",
      "4    EN_UA_102963.txt  Ukraine's President Zelenskyy to address Mexic...   \n",
      "..                ...                                                ...   \n",
      "510        PT_157.txt  Reino Unido: o país foi invadido por uma nova ...   \n",
      "511        PT_143.txt  \"O combate às alterações climáticas não está n...   \n",
      "512         PT_89.txt  UE retira reunião de ministros dos Negócios Es...   \n",
      "513         PT_62.txt  As novas fogueiras da Inquisição\\n\\n1. O reito...   \n",
      "514         PT_76.txt  Rússia está a desistir de Kharkiv após “fracas...   \n",
      "\n",
      "                                              dom_narr  \\\n",
      "0                                              [Other]   \n",
      "1                                              [Other]   \n",
      "2    [URW: Russia is the Victim, URW: Discrediting ...   \n",
      "3                                              [Other]   \n",
      "4                                              [Other]   \n",
      "..                                                 ...   \n",
      "510                     [CC: Amplifying Climate Fears]   \n",
      "511    [CC: Criticism of institutions and authorities]   \n",
      "512  [URW: Russia is the Victim, URW: Discrediting ...   \n",
      "513  [URW: Russia is the Victim, URW: Discrediting ...   \n",
      "514                            [URW: Praise of Russia]   \n",
      "\n",
      "                                              sub_narr  \n",
      "0                                              [Other]  \n",
      "1                                              [Other]  \n",
      "2    [URW: Russia is the Victim: UA is anti-RU extr...  \n",
      "3                                              [Other]  \n",
      "4                                              [Other]  \n",
      "..                                                 ...  \n",
      "510              [CC: Amplifying Climate Fears: Other]  \n",
      "511  [CC: Criticism of institutions and authorities...  \n",
      "512  [URW: Russia is the Victim: Other, URW: Discre...  \n",
      "513  [URW: Russia is the Victim: The West is russop...  \n",
      "514  [URW: Praise of Russia: Praise of Russian mili...  \n",
      "\n",
      "[515 rows x 4 columns]\n"
     ]
    }
   ],
   "source": [
    "df = data.load_data()\n",
    "print(df)\n",
    "df.to_csv(\"./data.csv\")\n",
    "dom_mlb, sub_mlb, dom_narr_enc, sub_narr_enc = preprocess.encode_labels(df)"
   ]
  },
  {
   "cell_type": "markdown",
   "metadata": {},
   "source": [
    "Train it on the sub classes"
   ]
  },
  {
   "cell_type": "code",
   "execution_count": 4,
   "metadata": {},
   "outputs": [],
   "source": [
    "vec = TfidfVectorizer(min_df=0.02,max_df=0.8)\n",
    "X = vec.fit_transform(df.text)\n",
    "y = sub_narr_enc"
   ]
  },
  {
   "cell_type": "code",
   "execution_count": 5,
   "metadata": {},
   "outputs": [
    {
     "name": "stdout",
     "output_type": "stream",
     "text": [
      "Skipped fold 17, labels invalid\n",
      "Skipped fold 89, labels invalid\n",
      "Skipped fold 154, labels invalid\n",
      "Skipped fold 165, labels invalid\n",
      "Skipped fold 178, labels invalid\n",
      "Skipped fold 225, labels invalid\n",
      "Skipped fold 316, labels invalid\n",
      "Skipped fold 459, labels invalid\n",
      "Skipped fold 499, labels invalid\n",
      "Predicted Labels:  [[0 0 0 ... 0 0 0]\n",
      " [0 0 0 ... 0 0 1]\n",
      " [0 0 0 ... 0 0 0]\n",
      " ...\n",
      " [0 0 0 ... 0 0 0]\n",
      " [0 0 0 ... 0 0 0]\n",
      " [0 0 0 ... 0 0 0]]\n",
      "True Labels:  [[0 0 0 ... 0 0 0]\n",
      " [0 0 0 ... 0 0 0]\n",
      " [0 0 0 ... 0 0 0]\n",
      " ...\n",
      " [0 0 0 ... 0 0 0]\n",
      " [0 0 0 ... 0 0 0]\n",
      " [0 0 0 ... 0 0 0]]\n",
      "                                                                                                            precision    recall  f1-score   support\n",
      "\n",
      "                                 CC: Amplifying Climate Fears: Amplifying existing fears of global warming       0.49      0.93      0.64        41\n",
      "                                               CC: Amplifying Climate Fears: Doomsday scenarios for humans       0.22      0.64      0.33        11\n",
      "                                            CC: Amplifying Climate Fears: Earth will be uninhabitable soon       0.43      0.60      0.50         5\n",
      "                                                                       CC: Amplifying Climate Fears: Other       0.29      0.86      0.43        29\n",
      "                                       CC: Amplifying Climate Fears: Whatever we do it is already too late       0.00      0.00      0.00         0\n",
      "                                                       CC: Climate change is beneficial: CO2 is beneficial       0.00      0.00      0.00         1\n",
      "                                                           CC: Controversy about green technologies: Other       0.00      0.00      0.00         5\n",
      "                                      CC: Controversy about green technologies: Renewable energy is costly       0.00      0.00      0.00         1\n",
      "                                   CC: Controversy about green technologies: Renewable energy is dangerous       0.00      0.00      0.00         1\n",
      "                                  CC: Controversy about green technologies: Renewable energy is unreliable       0.00      0.00      0.00         2\n",
      "                                    CC: Criticism of climate movement: Ad hominem attacks on key activists       0.21      0.67      0.32         6\n",
      "                                           CC: Criticism of climate movement: Climate movement is alarmist       0.12      0.11      0.12         9\n",
      "                                            CC: Criticism of climate movement: Climate movement is corrupt       0.00      0.00      0.00         4\n",
      "                                                                  CC: Criticism of climate movement: Other       0.32      0.70      0.44        10\n",
      "                                       CC: Criticism of climate policies: Climate policies are ineffective       0.00      0.00      0.00         9\n",
      "                                   CC: Criticism of climate policies: Climate policies are only for profit       0.00      0.00      0.00         4\n",
      "                   CC: Criticism of climate policies: Climate policies have negative impact on the economy       0.00      0.00      0.00         9\n",
      "                                                                  CC: Criticism of climate policies: Other       0.00      0.00      0.00        11\n",
      "                        CC: Criticism of institutions and authorities: Criticism of international entities       0.00      0.00      0.00         5\n",
      "                          CC: Criticism of institutions and authorities: Criticism of national governments       0.27      0.71      0.39        28\n",
      "           CC: Criticism of institutions and authorities: Criticism of political organizations and figures       0.21      0.57      0.31        21\n",
      "                                        CC: Criticism of institutions and authorities: Criticism of the EU       0.00      0.00      0.00         0\n",
      "                                                      CC: Criticism of institutions and authorities: Other       0.00      0.00      0.00         7\n",
      "                        CC: Downplaying climate change: CO2 concentrations are too small to have an impact       0.00      0.00      0.00         0\n",
      "                                                CC: Downplaying climate change: Climate cycles are natural       0.00      0.00      0.00         3\n",
      "                             CC: Downplaying climate change: Human activities do not impact climate change       0.00      0.00      0.00         0\n",
      "                               CC: Downplaying climate change: Humans and nature will adapt to the changes       0.00      0.00      0.00         2\n",
      "                                                        CC: Downplaying climate change: Ice is not melting       0.00      0.00      0.00         0\n",
      "                                                                     CC: Downplaying climate change: Other       0.00      0.00      0.00         5\n",
      "           CC: Green policies are geopolitical instruments: Green activities are a form of neo-colonialism       0.00      0.00      0.00         0\n",
      "                              CC: Hidden plots by secret schemes of powerful groups: Blaming global elites       0.20      0.50      0.29         6\n",
      "                  CC: Hidden plots by secret schemes of powerful groups: Climate agenda has hidden motives       0.00      0.00      0.00         3\n",
      "                                              CC: Hidden plots by secret schemes of powerful groups: Other       0.00      0.00      0.00         2\n",
      "CC: Questioning the measurements and science: Greenhouse effect/carbon dioxide do not drive climate change       0.00      0.00      0.00         0\n",
      "            CC: Questioning the measurements and science: Methodologies/metrics used are unreliable/faulty       0.00      0.00      0.00         4\n",
      "                                                       CC: Questioning the measurements and science: Other       0.00      0.00      0.00         2\n",
      "                          CC: Questioning the measurements and science: Scientific community is unreliable       0.00      0.00      0.00         3\n",
      "                                                                                                     Other       0.51      0.77      0.62       137\n",
      "                                    URW: Amplifying war-related fears: By continuing the war we risk WWIII       0.17      0.11      0.13         9\n",
      "                                    URW: Amplifying war-related fears: NATO should/will directly intervene       0.00      0.00      0.00         9\n",
      "                                                                  URW: Amplifying war-related fears: Other       0.18      0.35      0.24        17\n",
      "                                URW: Amplifying war-related fears: Russia will also attack other countries       0.18      0.37      0.24        19\n",
      "      URW: Amplifying war-related fears: There is a real possibility that nuclear weapons will be employed       0.42      0.71      0.53        28\n",
      "                                             URW: Blaming the war on others rather than the invader: Other       0.00      0.00      0.00         2\n",
      "                       URW: Blaming the war on others rather than the invader: The West are the aggressors       0.23      0.50      0.32        36\n",
      "                          URW: Blaming the war on others rather than the invader: Ukraine is the aggressor       0.25      0.44      0.32        18\n",
      "                   URW: Discrediting Ukraine: Discrediting Ukrainian government and officials and policies       0.37      0.58      0.45        38\n",
      "                                                URW: Discrediting Ukraine: Discrediting Ukrainian military       0.29      0.53      0.38        17\n",
      "                                      URW: Discrediting Ukraine: Discrediting Ukrainian nation and society       0.00      0.00      0.00         0\n",
      "                                                                          URW: Discrediting Ukraine: Other       0.18      0.95      0.30        19\n",
      "                                                    URW: Discrediting Ukraine: Rewriting Ukraine’s history       0.18      0.67      0.29         3\n",
      "                                               URW: Discrediting Ukraine: Situation in Ukraine is hopeless       0.23      0.44      0.30        16\n",
      "                                       URW: Discrediting Ukraine: Ukraine is a hub for criminal activities       0.14      0.38      0.20        16\n",
      "                                                URW: Discrediting Ukraine: Ukraine is a puppet of the West       0.20      0.24      0.22        25\n",
      "                                              URW: Discrediting Ukraine: Ukraine is associated with nazism       0.00      0.00      0.00        10\n",
      "                                       URW: Discrediting the West, Diplomacy: Diplomacy does/will not work       0.12      0.10      0.11        20\n",
      "                                                              URW: Discrediting the West, Diplomacy: Other       0.43      0.71      0.53        58\n",
      "                                                  URW: Discrediting the West, Diplomacy: The EU is divided       1.00      0.22      0.36         9\n",
      "     URW: Discrediting the West, Diplomacy: The West does not care about Ukraine, only about its interests       0.13      0.24      0.17        29\n",
      "                                           URW: Discrediting the West, Diplomacy: The West is overreacting       0.00      0.00      0.00         5\n",
      "                                                   URW: Discrediting the West, Diplomacy: The West is weak       0.07      0.16      0.10        19\n",
      "                                           URW: Discrediting the West, Diplomacy: West is tired of Ukraine       0.42      0.45      0.43        11\n",
      "                                                                        URW: Distrust towards Media: Other       0.00      0.00      0.00         5\n",
      "                                            URW: Distrust towards Media: Ukrainian media cannot be trusted       0.00      0.00      0.00         2\n",
      "                                 URW: Distrust towards Media: Western media is an instrument of propaganda       0.28      0.40      0.33        20\n",
      "                                             URW: Hidden plots by secret schemes of powerful groups: Other       0.19      0.42      0.26        12\n",
      "                                                            URW: Negative Consequences for the West: Other       0.30      0.67      0.41        21\n",
      "             URW: Negative Consequences for the West: Sanctions imposed by Western countries will backfire       0.24      0.50      0.33        16\n",
      " URW: Negative Consequences for the West: The conflict will increase the Ukrainian refugee flows to Europe       0.21      0.60      0.32         5\n",
      "                                                      URW: Overpraising the West: NATO will destroy Russia       0.00      0.00      0.00         2\n",
      "                                                                         URW: Overpraising the West: Other       0.00      0.00      0.00         0\n",
      "                                 URW: Overpraising the West: The West belongs in the right side of history       0.06      0.15      0.08        13\n",
      "                              URW: Overpraising the West: The West has the strongest international support       0.04      0.12      0.06        16\n",
      "                                                                              URW: Praise of Russia: Other       0.12      0.33      0.18        12\n",
      "                                         URW: Praise of Russia: Praise of Russian President Vladimir Putin       0.12      0.55      0.20        11\n",
      "                                                   URW: Praise of Russia: Praise of Russian military might       0.34      0.65      0.44        34\n",
      "             URW: Praise of Russia: Russia has international support from a number of countries and people       0.19      0.57      0.29        23\n",
      "                                      URW: Praise of Russia: Russia is a guarantor of peace and prosperity       0.31      0.81      0.45        37\n",
      "                                       URW: Praise of Russia: Russian invasion has strong national support       0.00      0.00      0.00         2\n",
      "                                                                          URW: Russia is the Victim: Other       0.25      0.82      0.38        22\n",
      "                                URW: Russia is the Victim: Russia actions in Ukraine are only self-defence       0.34      0.67      0.45        27\n",
      "                                                        URW: Russia is the Victim: The West is russophobic       0.23      0.48      0.31        31\n",
      "                                                       URW: Russia is the Victim: UA is anti-RU extremists       0.00      0.00      0.00         5\n",
      "                                                                      URW: Speculating war outcomes: Other       0.18      0.17      0.17        18\n",
      "                                                 URW: Speculating war outcomes: Russian army is collapsing       0.00      0.00      0.00         7\n",
      "                        URW: Speculating war outcomes: Russian army will lose all the occupied territories       0.00      0.00      0.00         3\n",
      "                                               URW: Speculating war outcomes: Ukrainian army is collapsing       0.16      0.36      0.22        14\n",
      "\n",
      "                                                                                                 micro avg       0.26      0.50      0.34      1177\n",
      "                                                                                                 macro avg       0.14      0.27      0.17      1177\n",
      "                                                                                              weighted avg       0.27      0.50      0.34      1177\n",
      "                                                                                               samples avg       0.33      0.58      0.39      1177\n",
      "\n"
     ]
    },
    {
     "name": "stderr",
     "output_type": "stream",
     "text": [
      "/Users/jochem/opt/anaconda3/lib/python3.9/site-packages/sklearn/metrics/_classification.py:1327: UndefinedMetricWarning: Precision and F-score are ill-defined and being set to 0.0 in labels with no predicted samples. Use `zero_division` parameter to control this behavior.\n",
      "  _warn_prf(average, modifier, msg_start, len(result))\n",
      "/Users/jochem/opt/anaconda3/lib/python3.9/site-packages/sklearn/metrics/_classification.py:1327: UndefinedMetricWarning: Recall and F-score are ill-defined and being set to 0.0 in labels with no true samples. Use `zero_division` parameter to control this behavior.\n",
      "  _warn_prf(average, modifier, msg_start, len(result))\n"
     ]
    }
   ],
   "source": [
    "y_pred, y_true = model.logistic_regression_loocv(X,y,majority_ensemble=True)\n",
    "print(classification_report(y_true = y_true, y_pred=y_pred, target_names=sub_mlb.classes_))"
   ]
  },
  {
   "cell_type": "markdown",
   "metadata": {},
   "source": [
    "Trained on the dom classes:"
   ]
  },
  {
   "cell_type": "code",
   "execution_count": 6,
   "metadata": {},
   "outputs": [
    {
     "name": "stdout",
     "output_type": "stream",
     "text": [
      "Skipped fold 165, labels invalid\n",
      "Predicted Labels:  [[0 0 0 ... 0 0 0]\n",
      " [0 0 0 ... 0 0 1]\n",
      " [0 0 0 ... 0 0 0]\n",
      " ...\n",
      " [0 0 0 ... 1 1 0]\n",
      " [1 0 0 ... 0 0 0]\n",
      " [0 0 0 ... 1 1 0]]\n",
      "True Labels:  [[0 0 0 ... 0 0 0]\n",
      " [0 0 0 ... 0 0 0]\n",
      " [0 0 0 ... 0 1 0]\n",
      " ...\n",
      " [0 0 0 ... 0 1 0]\n",
      " [0 0 0 ... 0 1 0]\n",
      " [0 0 0 ... 1 0 0]]\n",
      "                                                        precision    recall  f1-score   support\n",
      "\n",
      "                          CC: Amplifying Climate Fears       0.60      0.92      0.72        64\n",
      "                      CC: Climate change is beneficial       0.00      0.00      0.00         2\n",
      "              CC: Controversy about green technologies       0.20      0.25      0.22         8\n",
      "                     CC: Criticism of climate movement       0.43      0.71      0.54        21\n",
      "                     CC: Criticism of climate policies       0.20      0.52      0.29        29\n",
      "         CC: Criticism of institutions and authorities       0.41      0.84      0.55        49\n",
      "                        CC: Downplaying climate change       0.20      0.20      0.20        10\n",
      "       CC: Green policies are geopolitical instruments       0.00      0.00      0.00         0\n",
      " CC: Hidden plots by secret schemes of powerful groups       0.17      0.22      0.19         9\n",
      "          CC: Questioning the measurements and science       0.14      0.17      0.15         6\n",
      "                                                 Other       0.50      0.77      0.61       137\n",
      "                     URW: Amplifying war-related fears       0.44      0.66      0.53        59\n",
      "URW: Blaming the war on others rather than the invader       0.29      0.51      0.37        49\n",
      "                             URW: Discrediting Ukraine       0.53      0.76      0.63        95\n",
      "                 URW: Discrediting the West, Diplomacy       0.55      0.66      0.60       113\n",
      "                           URW: Distrust towards Media       0.26      0.29      0.27        24\n",
      "URW: Hidden plots by secret schemes of powerful groups       0.19      0.42      0.26        12\n",
      "               URW: Negative Consequences for the West       0.28      0.61      0.39        38\n",
      "                            URW: Overpraising the West       0.14      0.28      0.19        29\n",
      "                                 URW: Praise of Russia       0.40      0.82      0.53        94\n",
      "                             URW: Russia is the Victim       0.33      0.69      0.44        75\n",
      "                         URW: Speculating war outcomes       0.25      0.62      0.36        37\n",
      "\n",
      "                                             micro avg       0.40      0.68      0.50       960\n",
      "                                             macro avg       0.30      0.50      0.37       960\n",
      "                                          weighted avg       0.41      0.68      0.51       960\n",
      "                                           samples avg       0.45      0.70      0.51       960\n",
      "\n"
     ]
    },
    {
     "name": "stderr",
     "output_type": "stream",
     "text": [
      "/Users/jochem/opt/anaconda3/lib/python3.9/site-packages/sklearn/metrics/_classification.py:1327: UndefinedMetricWarning: Precision and F-score are ill-defined and being set to 0.0 in labels with no predicted samples. Use `zero_division` parameter to control this behavior.\n",
      "  _warn_prf(average, modifier, msg_start, len(result))\n",
      "/Users/jochem/opt/anaconda3/lib/python3.9/site-packages/sklearn/metrics/_classification.py:1327: UndefinedMetricWarning: Recall and F-score are ill-defined and being set to 0.0 in labels with no true samples. Use `zero_division` parameter to control this behavior.\n",
      "  _warn_prf(average, modifier, msg_start, len(result))\n"
     ]
    }
   ],
   "source": [
    "y = dom_narr_enc\n",
    "y_pred, y_true = model.logistic_regression_loocv(X,y,majority_ensemble=True)\n",
    "print(classification_report(y_true = y_true, y_pred=y_pred, target_names=dom_mlb.classes_))"
   ]
  },
  {
   "cell_type": "markdown",
   "metadata": {},
   "source": []
  }
 ],
 "metadata": {
  "kernelspec": {
   "display_name": "base",
   "language": "python",
   "name": "python3"
  },
  "language_info": {
   "codemirror_mode": {
    "name": "ipython",
    "version": 3
   },
   "file_extension": ".py",
   "mimetype": "text/x-python",
   "name": "python",
   "nbconvert_exporter": "python",
   "pygments_lexer": "ipython3",
   "version": "3.9.7"
  }
 },
 "nbformat": 4,
 "nbformat_minor": 2
}
