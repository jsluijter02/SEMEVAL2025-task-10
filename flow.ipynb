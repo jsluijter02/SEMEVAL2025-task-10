{
 "cells": [
  {
   "cell_type": "code",
   "execution_count": 16,
   "metadata": {},
   "outputs": [],
   "source": [
    "import data\n",
    "import eval\n",
    "import model\n",
    "import preprocess\n",
    "import postprocess"
   ]
  },
  {
   "cell_type": "code",
   "execution_count": 17,
   "metadata": {},
   "outputs": [],
   "source": [
    "import numpy as np\n",
    "import pandas as pd\n",
    "from sklearn.metrics import classification_report\n",
    "from sklearn.feature_extraction.text import TfidfVectorizer\n",
    "import pickle"
   ]
  },
  {
   "cell_type": "markdown",
   "metadata": {},
   "source": [
    "First off, the steps taken to fully load in the data set.\n",
    "\n",
    "Step 1: load the raw text files and their id's into a dataframe\n",
    "\n",
    "Step 2: if the texts are not in English, translate them\n",
    "\n",
    "Step 3: concatenate the text files into a single dataset\n",
    "\n",
    "Step 4: load in the labels\n",
    "\n",
    "Step 5: merge the text and labels data sets\n",
    "\n",
    "This can take quite a while, due to the translation step, skip this for the next cell, once we have all the data correctly saved as a csv, so we just load in that csv again. "
   ]
  },
  {
   "cell_type": "code",
   "execution_count": 18,
   "metadata": {},
   "outputs": [
    {
     "name": "stdout",
     "output_type": "stream",
     "text": [
      "Data length:  200\n",
      "Error while reading:HI_82.txt\n",
      "Error while reading:HI_55.txt\n",
      "Error while reading:HI_115.txt\n",
      "Error while reading:HI_128.txt\n",
      "Error while reading:HI_100.txt\n",
      "Error while reading:HI_40.txt\n",
      "Error while reading:HI_54.txt\n",
      "Error while reading:HI_81.txt\n",
      "Error while reading:HI_42.txt\n",
      "Error while reading:HI_116.txt\n",
      "Error while reading:HI_56.txt\n",
      "Error while reading:HI_117.txt\n",
      "Error while reading:HI_94.txt\n",
      "Error while reading:HI_80.txt\n",
      "Error while reading:HI_84.txt\n",
      "Error while reading:HI_113.txt\n",
      "Error while reading:HI_53.txt\n",
      "Error while reading:HI_112.txt\n",
      "Error while reading:HI_46.txt\n",
      "Error while reading:HI_91.txt\n",
      "Error while reading:HI_85.txt\n",
      "Error while reading:HI_93.txt\n",
      "Error while reading:HI_87.txt\n"
     ]
    },
    {
     "ename": "KeyboardInterrupt",
     "evalue": "",
     "output_type": "error",
     "traceback": [
      "\u001b[0;31m---------------------------------------------------------------------------\u001b[0m",
      "\u001b[0;31mKeyboardInterrupt\u001b[0m                         Traceback (most recent call last)",
      "\u001b[0;32m/var/folders/ry/88hvy7l13p17fks1bzmydvrr0000gn/T/ipykernel_26693/2191180198.py\u001b[0m in \u001b[0;36m<module>\u001b[0;34m\u001b[0m\n\u001b[1;32m      3\u001b[0m \u001b[0;34m\u001b[0m\u001b[0m\n\u001b[1;32m      4\u001b[0m \u001b[0;31m# load and translate hindi and portugese text\u001b[0m\u001b[0;34m\u001b[0m\u001b[0;34m\u001b[0m\u001b[0m\n\u001b[0;32m----> 5\u001b[0;31m \u001b[0mdf_text_hi\u001b[0m \u001b[0;34m=\u001b[0m \u001b[0mdata\u001b[0m\u001b[0;34m.\u001b[0m\u001b[0mload_text_data\u001b[0m\u001b[0;34m(\u001b[0m\u001b[0;34m\"/Users/jochem/Documents/school/Uni KI jaar 4/Scriptie/Train Data/training_data_16_October_release/HI/raw-documents\"\u001b[0m\u001b[0;34m,\u001b[0m \u001b[0;32mTrue\u001b[0m\u001b[0;34m,\u001b[0m \u001b[0msource_lang\u001b[0m\u001b[0;34m=\u001b[0m\u001b[0;34m\"hi\"\u001b[0m\u001b[0;34m)\u001b[0m\u001b[0;34m\u001b[0m\u001b[0;34m\u001b[0m\u001b[0m\n\u001b[0m\u001b[1;32m      6\u001b[0m \u001b[0mdf_text_pt\u001b[0m \u001b[0;34m=\u001b[0m \u001b[0mdata\u001b[0m\u001b[0;34m.\u001b[0m\u001b[0mload_text_data\u001b[0m\u001b[0;34m(\u001b[0m\u001b[0;34m\"/Users/jochem/Documents/school/Uni KI jaar 4/Scriptie/Train Data/training_data_16_October_release/PT/raw-documents\"\u001b[0m\u001b[0;34m,\u001b[0m \u001b[0;32mTrue\u001b[0m\u001b[0;34m,\u001b[0m \u001b[0msource_lang\u001b[0m \u001b[0;34m=\u001b[0m \u001b[0;34m\"pt\"\u001b[0m\u001b[0;34m)\u001b[0m\u001b[0;34m\u001b[0m\u001b[0;34m\u001b[0m\u001b[0m\n\u001b[1;32m      7\u001b[0m \u001b[0mdf_text\u001b[0m \u001b[0;34m=\u001b[0m \u001b[0mpd\u001b[0m\u001b[0;34m.\u001b[0m\u001b[0mconcat\u001b[0m\u001b[0;34m(\u001b[0m\u001b[0;34m[\u001b[0m\u001b[0mdf_text_en\u001b[0m\u001b[0;34m,\u001b[0m \u001b[0mdf_text_hi\u001b[0m\u001b[0;34m,\u001b[0m \u001b[0mdf_text_pt\u001b[0m\u001b[0;34m]\u001b[0m\u001b[0;34m)\u001b[0m\u001b[0;34m\u001b[0m\u001b[0;34m\u001b[0m\u001b[0m\n",
      "\u001b[0;32m~/Documents/school/Uni KI jaar 4/Scriptie/Code/SEMEVAL2025-task-10/data.py\u001b[0m in \u001b[0;36mload_text_data\u001b[0;34m(directory, translate, source_lang)\u001b[0m\n\u001b[1;32m     19\u001b[0m         \u001b[0;32mif\u001b[0m \u001b[0mtranslate\u001b[0m\u001b[0;34m:\u001b[0m\u001b[0;34m\u001b[0m\u001b[0;34m\u001b[0m\u001b[0m\n\u001b[1;32m     20\u001b[0m             \u001b[0;32mtry\u001b[0m\u001b[0;34m:\u001b[0m\u001b[0;34m\u001b[0m\u001b[0;34m\u001b[0m\u001b[0m\n\u001b[0;32m---> 21\u001b[0;31m                 \u001b[0mtext\u001b[0m \u001b[0;34m=\u001b[0m \u001b[0mtranslator\u001b[0m\u001b[0;34m.\u001b[0m\u001b[0mtranslate_file\u001b[0m\u001b[0;34m(\u001b[0m\u001b[0mfile_path\u001b[0m\u001b[0;34m)\u001b[0m\u001b[0;34m\u001b[0m\u001b[0;34m\u001b[0m\u001b[0m\n\u001b[0m\u001b[1;32m     22\u001b[0m                 \u001b[0mdata\u001b[0m\u001b[0;34m.\u001b[0m\u001b[0mappend\u001b[0m\u001b[0;34m(\u001b[0m\u001b[0;34m{\u001b[0m\u001b[0;34m\"id\"\u001b[0m\u001b[0;34m:\u001b[0m\u001b[0mfile\u001b[0m\u001b[0;34m,\u001b[0m \u001b[0;34m\"text\"\u001b[0m\u001b[0;34m:\u001b[0m \u001b[0mtext\u001b[0m\u001b[0;34m}\u001b[0m\u001b[0;34m)\u001b[0m\u001b[0;34m\u001b[0m\u001b[0;34m\u001b[0m\u001b[0m\n\u001b[1;32m     23\u001b[0m             \u001b[0;32mexcept\u001b[0m \u001b[0mException\u001b[0m \u001b[0;32mas\u001b[0m \u001b[0me\u001b[0m\u001b[0;34m:\u001b[0m\u001b[0;34m\u001b[0m\u001b[0;34m\u001b[0m\u001b[0m\n",
      "\u001b[0;32m~/opt/anaconda3/lib/python3.9/site-packages/deep_translator/google.py\u001b[0m in \u001b[0;36mtranslate_file\u001b[0;34m(self, path, **kwargs)\u001b[0m\n\u001b[1;32m    112\u001b[0m         \u001b[0;34m@\u001b[0m\u001b[0;32mreturn\u001b[0m\u001b[0;34m:\u001b[0m \u001b[0mstr\u001b[0m\u001b[0;34m\u001b[0m\u001b[0;34m\u001b[0m\u001b[0m\n\u001b[1;32m    113\u001b[0m         \"\"\"\n\u001b[0;32m--> 114\u001b[0;31m         \u001b[0;32mreturn\u001b[0m \u001b[0mself\u001b[0m\u001b[0;34m.\u001b[0m\u001b[0m_translate_file\u001b[0m\u001b[0;34m(\u001b[0m\u001b[0mpath\u001b[0m\u001b[0;34m,\u001b[0m \u001b[0;34m**\u001b[0m\u001b[0mkwargs\u001b[0m\u001b[0;34m)\u001b[0m\u001b[0;34m\u001b[0m\u001b[0;34m\u001b[0m\u001b[0m\n\u001b[0m\u001b[1;32m    115\u001b[0m \u001b[0;34m\u001b[0m\u001b[0m\n\u001b[1;32m    116\u001b[0m     \u001b[0;32mdef\u001b[0m \u001b[0mtranslate_batch\u001b[0m\u001b[0;34m(\u001b[0m\u001b[0mself\u001b[0m\u001b[0;34m,\u001b[0m \u001b[0mbatch\u001b[0m\u001b[0;34m:\u001b[0m \u001b[0mList\u001b[0m\u001b[0;34m[\u001b[0m\u001b[0mstr\u001b[0m\u001b[0;34m]\u001b[0m\u001b[0;34m,\u001b[0m \u001b[0;34m**\u001b[0m\u001b[0mkwargs\u001b[0m\u001b[0;34m)\u001b[0m \u001b[0;34m->\u001b[0m \u001b[0mList\u001b[0m\u001b[0;34m[\u001b[0m\u001b[0mstr\u001b[0m\u001b[0;34m]\u001b[0m\u001b[0;34m:\u001b[0m\u001b[0;34m\u001b[0m\u001b[0;34m\u001b[0m\u001b[0m\n",
      "\u001b[0;32m~/opt/anaconda3/lib/python3.9/site-packages/deep_translator/base.py\u001b[0m in \u001b[0;36m_translate_file\u001b[0;34m(self, path, **kwargs)\u001b[0m\n\u001b[1;32m    167\u001b[0m                 \u001b[0mtext\u001b[0m \u001b[0;34m=\u001b[0m \u001b[0mf\u001b[0m\u001b[0;34m.\u001b[0m\u001b[0mread\u001b[0m\u001b[0;34m(\u001b[0m\u001b[0;34m)\u001b[0m\u001b[0;34m.\u001b[0m\u001b[0mstrip\u001b[0m\u001b[0;34m(\u001b[0m\u001b[0;34m)\u001b[0m\u001b[0;34m\u001b[0m\u001b[0;34m\u001b[0m\u001b[0m\n\u001b[1;32m    168\u001b[0m \u001b[0;34m\u001b[0m\u001b[0m\n\u001b[0;32m--> 169\u001b[0;31m         \u001b[0;32mreturn\u001b[0m \u001b[0mself\u001b[0m\u001b[0;34m.\u001b[0m\u001b[0mtranslate\u001b[0m\u001b[0;34m(\u001b[0m\u001b[0mtext\u001b[0m\u001b[0;34m)\u001b[0m\u001b[0;34m\u001b[0m\u001b[0;34m\u001b[0m\u001b[0m\n\u001b[0m\u001b[1;32m    170\u001b[0m \u001b[0;34m\u001b[0m\u001b[0m\n\u001b[1;32m    171\u001b[0m     \u001b[0;32mdef\u001b[0m \u001b[0m_translate_batch\u001b[0m\u001b[0;34m(\u001b[0m\u001b[0mself\u001b[0m\u001b[0;34m,\u001b[0m \u001b[0mbatch\u001b[0m\u001b[0;34m:\u001b[0m \u001b[0mList\u001b[0m\u001b[0;34m[\u001b[0m\u001b[0mstr\u001b[0m\u001b[0;34m]\u001b[0m\u001b[0;34m,\u001b[0m \u001b[0;34m**\u001b[0m\u001b[0mkwargs\u001b[0m\u001b[0;34m)\u001b[0m \u001b[0;34m->\u001b[0m \u001b[0mList\u001b[0m\u001b[0;34m[\u001b[0m\u001b[0mstr\u001b[0m\u001b[0;34m]\u001b[0m\u001b[0;34m:\u001b[0m\u001b[0;34m\u001b[0m\u001b[0;34m\u001b[0m\u001b[0m\n",
      "\u001b[0;32m~/opt/anaconda3/lib/python3.9/site-packages/deep_translator/google.py\u001b[0m in \u001b[0;36mtranslate\u001b[0;34m(self, text, **kwargs)\u001b[0m\n\u001b[1;32m     65\u001b[0m                 \u001b[0mself\u001b[0m\u001b[0;34m.\u001b[0m\u001b[0m_url_params\u001b[0m\u001b[0;34m[\u001b[0m\u001b[0mself\u001b[0m\u001b[0;34m.\u001b[0m\u001b[0mpayload_key\u001b[0m\u001b[0;34m]\u001b[0m \u001b[0;34m=\u001b[0m \u001b[0mtext\u001b[0m\u001b[0;34m\u001b[0m\u001b[0;34m\u001b[0m\u001b[0m\n\u001b[1;32m     66\u001b[0m \u001b[0;34m\u001b[0m\u001b[0m\n\u001b[0;32m---> 67\u001b[0;31m             response = requests.get(\n\u001b[0m\u001b[1;32m     68\u001b[0m                 \u001b[0mself\u001b[0m\u001b[0;34m.\u001b[0m\u001b[0m_base_url\u001b[0m\u001b[0;34m,\u001b[0m \u001b[0mparams\u001b[0m\u001b[0;34m=\u001b[0m\u001b[0mself\u001b[0m\u001b[0;34m.\u001b[0m\u001b[0m_url_params\u001b[0m\u001b[0;34m,\u001b[0m \u001b[0mproxies\u001b[0m\u001b[0;34m=\u001b[0m\u001b[0mself\u001b[0m\u001b[0;34m.\u001b[0m\u001b[0mproxies\u001b[0m\u001b[0;34m\u001b[0m\u001b[0;34m\u001b[0m\u001b[0m\n\u001b[1;32m     69\u001b[0m             )\n",
      "\u001b[0;32m~/opt/anaconda3/lib/python3.9/site-packages/requests/api.py\u001b[0m in \u001b[0;36mget\u001b[0;34m(url, params, **kwargs)\u001b[0m\n\u001b[1;32m     73\u001b[0m     \"\"\"\n\u001b[1;32m     74\u001b[0m \u001b[0;34m\u001b[0m\u001b[0m\n\u001b[0;32m---> 75\u001b[0;31m     \u001b[0;32mreturn\u001b[0m \u001b[0mrequest\u001b[0m\u001b[0;34m(\u001b[0m\u001b[0;34m'get'\u001b[0m\u001b[0;34m,\u001b[0m \u001b[0murl\u001b[0m\u001b[0;34m,\u001b[0m \u001b[0mparams\u001b[0m\u001b[0;34m=\u001b[0m\u001b[0mparams\u001b[0m\u001b[0;34m,\u001b[0m \u001b[0;34m**\u001b[0m\u001b[0mkwargs\u001b[0m\u001b[0;34m)\u001b[0m\u001b[0;34m\u001b[0m\u001b[0;34m\u001b[0m\u001b[0m\n\u001b[0m\u001b[1;32m     76\u001b[0m \u001b[0;34m\u001b[0m\u001b[0m\n\u001b[1;32m     77\u001b[0m \u001b[0;34m\u001b[0m\u001b[0m\n",
      "\u001b[0;32m~/opt/anaconda3/lib/python3.9/site-packages/requests/api.py\u001b[0m in \u001b[0;36mrequest\u001b[0;34m(method, url, **kwargs)\u001b[0m\n\u001b[1;32m     59\u001b[0m     \u001b[0;31m# cases, and look like a memory leak in others.\u001b[0m\u001b[0;34m\u001b[0m\u001b[0;34m\u001b[0m\u001b[0m\n\u001b[1;32m     60\u001b[0m     \u001b[0;32mwith\u001b[0m \u001b[0msessions\u001b[0m\u001b[0;34m.\u001b[0m\u001b[0mSession\u001b[0m\u001b[0;34m(\u001b[0m\u001b[0;34m)\u001b[0m \u001b[0;32mas\u001b[0m \u001b[0msession\u001b[0m\u001b[0;34m:\u001b[0m\u001b[0;34m\u001b[0m\u001b[0;34m\u001b[0m\u001b[0m\n\u001b[0;32m---> 61\u001b[0;31m         \u001b[0;32mreturn\u001b[0m \u001b[0msession\u001b[0m\u001b[0;34m.\u001b[0m\u001b[0mrequest\u001b[0m\u001b[0;34m(\u001b[0m\u001b[0mmethod\u001b[0m\u001b[0;34m=\u001b[0m\u001b[0mmethod\u001b[0m\u001b[0;34m,\u001b[0m \u001b[0murl\u001b[0m\u001b[0;34m=\u001b[0m\u001b[0murl\u001b[0m\u001b[0;34m,\u001b[0m \u001b[0;34m**\u001b[0m\u001b[0mkwargs\u001b[0m\u001b[0;34m)\u001b[0m\u001b[0;34m\u001b[0m\u001b[0;34m\u001b[0m\u001b[0m\n\u001b[0m\u001b[1;32m     62\u001b[0m \u001b[0;34m\u001b[0m\u001b[0m\n\u001b[1;32m     63\u001b[0m \u001b[0;34m\u001b[0m\u001b[0m\n",
      "\u001b[0;32m~/opt/anaconda3/lib/python3.9/site-packages/requests/sessions.py\u001b[0m in \u001b[0;36mrequest\u001b[0;34m(self, method, url, params, data, headers, cookies, files, auth, timeout, allow_redirects, proxies, hooks, stream, verify, cert, json)\u001b[0m\n\u001b[1;32m    540\u001b[0m         }\n\u001b[1;32m    541\u001b[0m         \u001b[0msend_kwargs\u001b[0m\u001b[0;34m.\u001b[0m\u001b[0mupdate\u001b[0m\u001b[0;34m(\u001b[0m\u001b[0msettings\u001b[0m\u001b[0;34m)\u001b[0m\u001b[0;34m\u001b[0m\u001b[0;34m\u001b[0m\u001b[0m\n\u001b[0;32m--> 542\u001b[0;31m         \u001b[0mresp\u001b[0m \u001b[0;34m=\u001b[0m \u001b[0mself\u001b[0m\u001b[0;34m.\u001b[0m\u001b[0msend\u001b[0m\u001b[0;34m(\u001b[0m\u001b[0mprep\u001b[0m\u001b[0;34m,\u001b[0m \u001b[0;34m**\u001b[0m\u001b[0msend_kwargs\u001b[0m\u001b[0;34m)\u001b[0m\u001b[0;34m\u001b[0m\u001b[0;34m\u001b[0m\u001b[0m\n\u001b[0m\u001b[1;32m    543\u001b[0m \u001b[0;34m\u001b[0m\u001b[0m\n\u001b[1;32m    544\u001b[0m         \u001b[0;32mreturn\u001b[0m \u001b[0mresp\u001b[0m\u001b[0;34m\u001b[0m\u001b[0;34m\u001b[0m\u001b[0m\n",
      "\u001b[0;32m~/opt/anaconda3/lib/python3.9/site-packages/requests/sessions.py\u001b[0m in \u001b[0;36msend\u001b[0;34m(self, request, **kwargs)\u001b[0m\n\u001b[1;32m    695\u001b[0m \u001b[0;34m\u001b[0m\u001b[0m\n\u001b[1;32m    696\u001b[0m         \u001b[0;32mif\u001b[0m \u001b[0;32mnot\u001b[0m \u001b[0mstream\u001b[0m\u001b[0;34m:\u001b[0m\u001b[0;34m\u001b[0m\u001b[0;34m\u001b[0m\u001b[0m\n\u001b[0;32m--> 697\u001b[0;31m             \u001b[0mr\u001b[0m\u001b[0;34m.\u001b[0m\u001b[0mcontent\u001b[0m\u001b[0;34m\u001b[0m\u001b[0;34m\u001b[0m\u001b[0m\n\u001b[0m\u001b[1;32m    698\u001b[0m \u001b[0;34m\u001b[0m\u001b[0m\n\u001b[1;32m    699\u001b[0m         \u001b[0;32mreturn\u001b[0m \u001b[0mr\u001b[0m\u001b[0;34m\u001b[0m\u001b[0;34m\u001b[0m\u001b[0m\n",
      "\u001b[0;32m~/opt/anaconda3/lib/python3.9/site-packages/requests/models.py\u001b[0m in \u001b[0;36mcontent\u001b[0;34m(self)\u001b[0m\n\u001b[1;32m    834\u001b[0m                 \u001b[0mself\u001b[0m\u001b[0;34m.\u001b[0m\u001b[0m_content\u001b[0m \u001b[0;34m=\u001b[0m \u001b[0;32mNone\u001b[0m\u001b[0;34m\u001b[0m\u001b[0;34m\u001b[0m\u001b[0m\n\u001b[1;32m    835\u001b[0m             \u001b[0;32melse\u001b[0m\u001b[0;34m:\u001b[0m\u001b[0;34m\u001b[0m\u001b[0;34m\u001b[0m\u001b[0m\n\u001b[0;32m--> 836\u001b[0;31m                 \u001b[0mself\u001b[0m\u001b[0;34m.\u001b[0m\u001b[0m_content\u001b[0m \u001b[0;34m=\u001b[0m \u001b[0;34mb''\u001b[0m\u001b[0;34m.\u001b[0m\u001b[0mjoin\u001b[0m\u001b[0;34m(\u001b[0m\u001b[0mself\u001b[0m\u001b[0;34m.\u001b[0m\u001b[0miter_content\u001b[0m\u001b[0;34m(\u001b[0m\u001b[0mCONTENT_CHUNK_SIZE\u001b[0m\u001b[0;34m)\u001b[0m\u001b[0;34m)\u001b[0m \u001b[0;32mor\u001b[0m \u001b[0;34mb''\u001b[0m\u001b[0;34m\u001b[0m\u001b[0;34m\u001b[0m\u001b[0m\n\u001b[0m\u001b[1;32m    837\u001b[0m \u001b[0;34m\u001b[0m\u001b[0m\n\u001b[1;32m    838\u001b[0m         \u001b[0mself\u001b[0m\u001b[0;34m.\u001b[0m\u001b[0m_content_consumed\u001b[0m \u001b[0;34m=\u001b[0m \u001b[0;32mTrue\u001b[0m\u001b[0;34m\u001b[0m\u001b[0;34m\u001b[0m\u001b[0m\n",
      "\u001b[0;32m~/opt/anaconda3/lib/python3.9/site-packages/requests/models.py\u001b[0m in \u001b[0;36mgenerate\u001b[0;34m()\u001b[0m\n\u001b[1;32m    756\u001b[0m             \u001b[0;32mif\u001b[0m \u001b[0mhasattr\u001b[0m\u001b[0;34m(\u001b[0m\u001b[0mself\u001b[0m\u001b[0;34m.\u001b[0m\u001b[0mraw\u001b[0m\u001b[0;34m,\u001b[0m \u001b[0;34m'stream'\u001b[0m\u001b[0;34m)\u001b[0m\u001b[0;34m:\u001b[0m\u001b[0;34m\u001b[0m\u001b[0;34m\u001b[0m\u001b[0m\n\u001b[1;32m    757\u001b[0m                 \u001b[0;32mtry\u001b[0m\u001b[0;34m:\u001b[0m\u001b[0;34m\u001b[0m\u001b[0;34m\u001b[0m\u001b[0m\n\u001b[0;32m--> 758\u001b[0;31m                     \u001b[0;32mfor\u001b[0m \u001b[0mchunk\u001b[0m \u001b[0;32min\u001b[0m \u001b[0mself\u001b[0m\u001b[0;34m.\u001b[0m\u001b[0mraw\u001b[0m\u001b[0;34m.\u001b[0m\u001b[0mstream\u001b[0m\u001b[0;34m(\u001b[0m\u001b[0mchunk_size\u001b[0m\u001b[0;34m,\u001b[0m \u001b[0mdecode_content\u001b[0m\u001b[0;34m=\u001b[0m\u001b[0;32mTrue\u001b[0m\u001b[0;34m)\u001b[0m\u001b[0;34m:\u001b[0m\u001b[0;34m\u001b[0m\u001b[0;34m\u001b[0m\u001b[0m\n\u001b[0m\u001b[1;32m    759\u001b[0m                         \u001b[0;32myield\u001b[0m \u001b[0mchunk\u001b[0m\u001b[0;34m\u001b[0m\u001b[0;34m\u001b[0m\u001b[0m\n\u001b[1;32m    760\u001b[0m                 \u001b[0;32mexcept\u001b[0m \u001b[0mProtocolError\u001b[0m \u001b[0;32mas\u001b[0m \u001b[0me\u001b[0m\u001b[0;34m:\u001b[0m\u001b[0;34m\u001b[0m\u001b[0;34m\u001b[0m\u001b[0m\n",
      "\u001b[0;32m~/opt/anaconda3/lib/python3.9/site-packages/urllib3/response.py\u001b[0m in \u001b[0;36mstream\u001b[0;34m(self, amt, decode_content)\u001b[0m\n\u001b[1;32m    570\u001b[0m         \"\"\"\n\u001b[1;32m    571\u001b[0m         \u001b[0;32mif\u001b[0m \u001b[0mself\u001b[0m\u001b[0;34m.\u001b[0m\u001b[0mchunked\u001b[0m \u001b[0;32mand\u001b[0m \u001b[0mself\u001b[0m\u001b[0;34m.\u001b[0m\u001b[0msupports_chunked_reads\u001b[0m\u001b[0;34m(\u001b[0m\u001b[0;34m)\u001b[0m\u001b[0;34m:\u001b[0m\u001b[0;34m\u001b[0m\u001b[0;34m\u001b[0m\u001b[0m\n\u001b[0;32m--> 572\u001b[0;31m             \u001b[0;32mfor\u001b[0m \u001b[0mline\u001b[0m \u001b[0;32min\u001b[0m \u001b[0mself\u001b[0m\u001b[0;34m.\u001b[0m\u001b[0mread_chunked\u001b[0m\u001b[0;34m(\u001b[0m\u001b[0mamt\u001b[0m\u001b[0;34m,\u001b[0m \u001b[0mdecode_content\u001b[0m\u001b[0;34m=\u001b[0m\u001b[0mdecode_content\u001b[0m\u001b[0;34m)\u001b[0m\u001b[0;34m:\u001b[0m\u001b[0;34m\u001b[0m\u001b[0;34m\u001b[0m\u001b[0m\n\u001b[0m\u001b[1;32m    573\u001b[0m                 \u001b[0;32myield\u001b[0m \u001b[0mline\u001b[0m\u001b[0;34m\u001b[0m\u001b[0;34m\u001b[0m\u001b[0m\n\u001b[1;32m    574\u001b[0m         \u001b[0;32melse\u001b[0m\u001b[0;34m:\u001b[0m\u001b[0;34m\u001b[0m\u001b[0;34m\u001b[0m\u001b[0m\n",
      "\u001b[0;32m~/opt/anaconda3/lib/python3.9/site-packages/urllib3/response.py\u001b[0m in \u001b[0;36mread_chunked\u001b[0;34m(self, amt, decode_content)\u001b[0m\n\u001b[1;32m    762\u001b[0m \u001b[0;34m\u001b[0m\u001b[0m\n\u001b[1;32m    763\u001b[0m             \u001b[0;32mwhile\u001b[0m \u001b[0;32mTrue\u001b[0m\u001b[0;34m:\u001b[0m\u001b[0;34m\u001b[0m\u001b[0;34m\u001b[0m\u001b[0m\n\u001b[0;32m--> 764\u001b[0;31m                 \u001b[0mself\u001b[0m\u001b[0;34m.\u001b[0m\u001b[0m_update_chunk_length\u001b[0m\u001b[0;34m(\u001b[0m\u001b[0;34m)\u001b[0m\u001b[0;34m\u001b[0m\u001b[0;34m\u001b[0m\u001b[0m\n\u001b[0m\u001b[1;32m    765\u001b[0m                 \u001b[0;32mif\u001b[0m \u001b[0mself\u001b[0m\u001b[0;34m.\u001b[0m\u001b[0mchunk_left\u001b[0m \u001b[0;34m==\u001b[0m \u001b[0;36m0\u001b[0m\u001b[0;34m:\u001b[0m\u001b[0;34m\u001b[0m\u001b[0;34m\u001b[0m\u001b[0m\n\u001b[1;32m    766\u001b[0m                     \u001b[0;32mbreak\u001b[0m\u001b[0;34m\u001b[0m\u001b[0;34m\u001b[0m\u001b[0m\n",
      "\u001b[0;32m~/opt/anaconda3/lib/python3.9/site-packages/urllib3/response.py\u001b[0m in \u001b[0;36m_update_chunk_length\u001b[0;34m(self)\u001b[0m\n\u001b[1;32m    692\u001b[0m         \u001b[0;32mif\u001b[0m \u001b[0mself\u001b[0m\u001b[0;34m.\u001b[0m\u001b[0mchunk_left\u001b[0m \u001b[0;32mis\u001b[0m \u001b[0;32mnot\u001b[0m \u001b[0;32mNone\u001b[0m\u001b[0;34m:\u001b[0m\u001b[0;34m\u001b[0m\u001b[0;34m\u001b[0m\u001b[0m\n\u001b[1;32m    693\u001b[0m             \u001b[0;32mreturn\u001b[0m\u001b[0;34m\u001b[0m\u001b[0;34m\u001b[0m\u001b[0m\n\u001b[0;32m--> 694\u001b[0;31m         \u001b[0mline\u001b[0m \u001b[0;34m=\u001b[0m \u001b[0mself\u001b[0m\u001b[0;34m.\u001b[0m\u001b[0m_fp\u001b[0m\u001b[0;34m.\u001b[0m\u001b[0mfp\u001b[0m\u001b[0;34m.\u001b[0m\u001b[0mreadline\u001b[0m\u001b[0;34m(\u001b[0m\u001b[0;34m)\u001b[0m\u001b[0;34m\u001b[0m\u001b[0;34m\u001b[0m\u001b[0m\n\u001b[0m\u001b[1;32m    695\u001b[0m         \u001b[0mline\u001b[0m \u001b[0;34m=\u001b[0m \u001b[0mline\u001b[0m\u001b[0;34m.\u001b[0m\u001b[0msplit\u001b[0m\u001b[0;34m(\u001b[0m\u001b[0;34mb\";\"\u001b[0m\u001b[0;34m,\u001b[0m \u001b[0;36m1\u001b[0m\u001b[0;34m)\u001b[0m\u001b[0;34m[\u001b[0m\u001b[0;36m0\u001b[0m\u001b[0;34m]\u001b[0m\u001b[0;34m\u001b[0m\u001b[0;34m\u001b[0m\u001b[0m\n\u001b[1;32m    696\u001b[0m         \u001b[0;32mtry\u001b[0m\u001b[0;34m:\u001b[0m\u001b[0;34m\u001b[0m\u001b[0;34m\u001b[0m\u001b[0m\n",
      "\u001b[0;32m~/opt/anaconda3/lib/python3.9/socket.py\u001b[0m in \u001b[0;36mreadinto\u001b[0;34m(self, b)\u001b[0m\n\u001b[1;32m    702\u001b[0m         \u001b[0;32mwhile\u001b[0m \u001b[0;32mTrue\u001b[0m\u001b[0;34m:\u001b[0m\u001b[0;34m\u001b[0m\u001b[0;34m\u001b[0m\u001b[0m\n\u001b[1;32m    703\u001b[0m             \u001b[0;32mtry\u001b[0m\u001b[0;34m:\u001b[0m\u001b[0;34m\u001b[0m\u001b[0;34m\u001b[0m\u001b[0m\n\u001b[0;32m--> 704\u001b[0;31m                 \u001b[0;32mreturn\u001b[0m \u001b[0mself\u001b[0m\u001b[0;34m.\u001b[0m\u001b[0m_sock\u001b[0m\u001b[0;34m.\u001b[0m\u001b[0mrecv_into\u001b[0m\u001b[0;34m(\u001b[0m\u001b[0mb\u001b[0m\u001b[0;34m)\u001b[0m\u001b[0;34m\u001b[0m\u001b[0;34m\u001b[0m\u001b[0m\n\u001b[0m\u001b[1;32m    705\u001b[0m             \u001b[0;32mexcept\u001b[0m \u001b[0mtimeout\u001b[0m\u001b[0;34m:\u001b[0m\u001b[0;34m\u001b[0m\u001b[0;34m\u001b[0m\u001b[0m\n\u001b[1;32m    706\u001b[0m                 \u001b[0mself\u001b[0m\u001b[0;34m.\u001b[0m\u001b[0m_timeout_occurred\u001b[0m \u001b[0;34m=\u001b[0m \u001b[0;32mTrue\u001b[0m\u001b[0;34m\u001b[0m\u001b[0;34m\u001b[0m\u001b[0m\n",
      "\u001b[0;32m~/opt/anaconda3/lib/python3.9/ssl.py\u001b[0m in \u001b[0;36mrecv_into\u001b[0;34m(self, buffer, nbytes, flags)\u001b[0m\n\u001b[1;32m   1239\u001b[0m                   \u001b[0;34m\"non-zero flags not allowed in calls to recv_into() on %s\"\u001b[0m \u001b[0;34m%\u001b[0m\u001b[0;34m\u001b[0m\u001b[0;34m\u001b[0m\u001b[0m\n\u001b[1;32m   1240\u001b[0m                   self.__class__)\n\u001b[0;32m-> 1241\u001b[0;31m             \u001b[0;32mreturn\u001b[0m \u001b[0mself\u001b[0m\u001b[0;34m.\u001b[0m\u001b[0mread\u001b[0m\u001b[0;34m(\u001b[0m\u001b[0mnbytes\u001b[0m\u001b[0;34m,\u001b[0m \u001b[0mbuffer\u001b[0m\u001b[0;34m)\u001b[0m\u001b[0;34m\u001b[0m\u001b[0;34m\u001b[0m\u001b[0m\n\u001b[0m\u001b[1;32m   1242\u001b[0m         \u001b[0;32melse\u001b[0m\u001b[0;34m:\u001b[0m\u001b[0;34m\u001b[0m\u001b[0;34m\u001b[0m\u001b[0m\n\u001b[1;32m   1243\u001b[0m             \u001b[0;32mreturn\u001b[0m \u001b[0msuper\u001b[0m\u001b[0;34m(\u001b[0m\u001b[0;34m)\u001b[0m\u001b[0;34m.\u001b[0m\u001b[0mrecv_into\u001b[0m\u001b[0;34m(\u001b[0m\u001b[0mbuffer\u001b[0m\u001b[0;34m,\u001b[0m \u001b[0mnbytes\u001b[0m\u001b[0;34m,\u001b[0m \u001b[0mflags\u001b[0m\u001b[0;34m)\u001b[0m\u001b[0;34m\u001b[0m\u001b[0;34m\u001b[0m\u001b[0m\n",
      "\u001b[0;32m~/opt/anaconda3/lib/python3.9/ssl.py\u001b[0m in \u001b[0;36mread\u001b[0;34m(self, len, buffer)\u001b[0m\n\u001b[1;32m   1097\u001b[0m         \u001b[0;32mtry\u001b[0m\u001b[0;34m:\u001b[0m\u001b[0;34m\u001b[0m\u001b[0;34m\u001b[0m\u001b[0m\n\u001b[1;32m   1098\u001b[0m             \u001b[0;32mif\u001b[0m \u001b[0mbuffer\u001b[0m \u001b[0;32mis\u001b[0m \u001b[0;32mnot\u001b[0m \u001b[0;32mNone\u001b[0m\u001b[0;34m:\u001b[0m\u001b[0;34m\u001b[0m\u001b[0;34m\u001b[0m\u001b[0m\n\u001b[0;32m-> 1099\u001b[0;31m                 \u001b[0;32mreturn\u001b[0m \u001b[0mself\u001b[0m\u001b[0;34m.\u001b[0m\u001b[0m_sslobj\u001b[0m\u001b[0;34m.\u001b[0m\u001b[0mread\u001b[0m\u001b[0;34m(\u001b[0m\u001b[0mlen\u001b[0m\u001b[0;34m,\u001b[0m \u001b[0mbuffer\u001b[0m\u001b[0;34m)\u001b[0m\u001b[0;34m\u001b[0m\u001b[0;34m\u001b[0m\u001b[0m\n\u001b[0m\u001b[1;32m   1100\u001b[0m             \u001b[0;32melse\u001b[0m\u001b[0;34m:\u001b[0m\u001b[0;34m\u001b[0m\u001b[0;34m\u001b[0m\u001b[0m\n\u001b[1;32m   1101\u001b[0m                 \u001b[0;32mreturn\u001b[0m \u001b[0mself\u001b[0m\u001b[0;34m.\u001b[0m\u001b[0m_sslobj\u001b[0m\u001b[0;34m.\u001b[0m\u001b[0mread\u001b[0m\u001b[0;34m(\u001b[0m\u001b[0mlen\u001b[0m\u001b[0;34m)\u001b[0m\u001b[0;34m\u001b[0m\u001b[0;34m\u001b[0m\u001b[0m\n",
      "\u001b[0;31mKeyboardInterrupt\u001b[0m: "
     ]
    }
   ],
   "source": [
    "# load english text data\n",
    "df_text_en = data.load_text_data(\"/Users/jochem/Documents/school/Uni KI jaar 4/Scriptie/Train Data/training_data_16_October_release/EN/raw-documents\")\n",
    "\n",
    "# load and translate hindi and portugese text\n",
    "df_text_hi = data.load_text_data(\"/Users/jochem/Documents/school/Uni KI jaar 4/Scriptie/Train Data/training_data_16_October_release/HI/raw-documents\", True, source_lang=\"hi\")\n",
    "df_text_pt = data.load_text_data(\"/Users/jochem/Documents/school/Uni KI jaar 4/Scriptie/Train Data/training_data_16_October_release/PT/raw-documents\", True, source_lang = \"pt\")\n",
    "df_text = pd.concat([df_text_en, df_text_hi, df_text_pt])\n",
    "\n",
    "# load all the labels, these are all in english\n",
    "df_labels_en = data.load_labels(\"/Users/jochem/Documents/school/Uni KI jaar 4/Scriptie/Train Data/training_data_16_October_release/EN/subtask-2-annotations.txt\")\n",
    "df_labels_hi = data.load_labels(\"/Users/jochem/Documents/school/Uni KI jaar 4/Scriptie/Train Data/training_data_16_October_release/HI/subtask-2-annotations.txt\")\n",
    "df_labels_pt = data.load_labels(\"/Users/jochem/Documents/school/Uni KI jaar 4/Scriptie/Train Data/training_data_16_October_release/PT/subtask-2-annotations.txt\")\n",
    "df_labels = pd.concat([df_labels_en, df_labels_hi, df_labels_pt])\n",
    "\n",
    "\n",
    "dom_mlb, sub_mlb, dom_narr_enc, sub_narr_enc, df = preprocess.encode_labels(pd.merge(df_text, df_labels, on=\"id\"))\n",
    "\n",
    "# save the mlb's, and the dataframe, so we can read them instead of processing the entire data again\n",
    "with open(\"dom_mlb.pkl\", \"wb\") as f:\n",
    "    pickle.dump(dom_mlb,f)\n",
    "\n",
    "with open(\"sub_mlb.pkl\", \"wb\") as f:\n",
    "    pickle.dump(sub_mlb,f)\n",
    "\n",
    "df.to_csv(\"data.csv\")"
   ]
  },
  {
   "cell_type": "markdown",
   "metadata": {},
   "source": [
    "first load the data set, and save it as a csv?"
   ]
  },
  {
   "cell_type": "code",
   "execution_count": 3,
   "metadata": {},
   "outputs": [
    {
     "name": "stdout",
     "output_type": "stream",
     "text": [
      "['CC: Climate change is beneficial'\n",
      " 'CC: Controversy about green technologies'\n",
      " 'CC: Criticism of climate movement' 'CC: Criticism of climate policies'\n",
      " 'CC: Criticism of institutions and authorities'\n",
      " 'CC: Downplaying climate change'\n",
      " 'CC: Green policies are geopolitical instruments'\n",
      " 'CC: Hidden plots by secret schemes of powerful groups'\n",
      " 'CC: Questioning the measurements and science' 'Other'\n",
      " 'URW: Amplifying war-related fears'\n",
      " 'URW: Blaming the war on others rather than the invader'\n",
      " 'URW: Discrediting Ukraine' 'URW: Discrediting the West, Diplomacy'\n",
      " 'URW: Distrust towards Media'\n",
      " 'URW: Hidden plots by secret schemes of powerful groups'\n",
      " 'URW: Negative Consequences for the West' 'URW: Overpraising the West'\n",
      " 'URW: Praise of Russia' 'URW: Russia is the Victim'\n",
      " 'URW: Speculating war outcomes']\n",
      "['CC: Climate change is beneficial: CO2 is beneficial'\n",
      " 'CC: Controversy about green technologies: Other'\n",
      " 'CC: Controversy about green technologies: Renewable energy is costly'\n",
      " 'CC: Controversy about green technologies: Renewable energy is dangerous'\n",
      " 'CC: Controversy about green technologies: Renewable energy is unreliable'\n",
      " 'CC: Criticism of climate movement: Ad hominem attacks on key activists'\n",
      " 'CC: Criticism of climate movement: Climate movement is alarmist'\n",
      " 'CC: Criticism of climate movement: Climate movement is corrupt'\n",
      " 'CC: Criticism of climate movement: Other'\n",
      " 'CC: Criticism of climate policies: Climate policies are ineffective'\n",
      " 'CC: Criticism of climate policies: Climate policies are only for profit'\n",
      " 'CC: Criticism of climate policies: Climate policies have negative impact on the economy'\n",
      " 'CC: Criticism of climate policies: Other'\n",
      " 'CC: Criticism of institutions and authorities: Criticism of international entities'\n",
      " 'CC: Criticism of institutions and authorities: Criticism of national governments'\n",
      " 'CC: Criticism of institutions and authorities: Criticism of political organizations and figures'\n",
      " 'CC: Criticism of institutions and authorities: Criticism of the EU'\n",
      " 'CC: Criticism of institutions and authorities: Other'\n",
      " 'CC: Downplaying climate change: CO2 concentrations are too small to have an impact'\n",
      " 'CC: Downplaying climate change: Climate cycles are natural'\n",
      " 'CC: Downplaying climate change: Ice is not melting'\n",
      " 'CC: Green policies are geopolitical instruments: Green activities are a form of neo-colonialism'\n",
      " 'CC: Hidden plots by secret schemes of powerful groups: Blaming global elites'\n",
      " 'CC: Hidden plots by secret schemes of powerful groups: Climate agenda has hidden motives'\n",
      " 'CC: Hidden plots by secret schemes of powerful groups: Other'\n",
      " 'CC: Questioning the measurements and science: Greenhouse effect/carbon dioxide do not drive climate change'\n",
      " 'CC: Questioning the measurements and science: Methodologies/metrics used are unreliable/faulty'\n",
      " 'CC: Questioning the measurements and science: Other'\n",
      " 'CC: Questioning the measurements and science: Scientific community is unreliable'\n",
      " 'Other'\n",
      " 'URW: Amplifying war-related fears: By continuing the war we risk WWIII'\n",
      " 'URW: Amplifying war-related fears: NATO should/will directly intervene'\n",
      " 'URW: Amplifying war-related fears: Other'\n",
      " 'URW: Amplifying war-related fears: Russia will also attack other countries'\n",
      " 'URW: Amplifying war-related fears: There is a real possibility that nuclear weapons will be employed'\n",
      " 'URW: Blaming the war on others rather than the invader: The West are the aggressors'\n",
      " 'URW: Blaming the war on others rather than the invader: Ukraine is the aggressor'\n",
      " 'URW: Discrediting Ukraine: Discrediting Ukrainian government and officials and policies'\n",
      " 'URW: Discrediting Ukraine: Discrediting Ukrainian military'\n",
      " 'URW: Discrediting Ukraine: Situation in Ukraine is hopeless'\n",
      " 'URW: Discrediting Ukraine: Ukraine is a hub for criminal activities'\n",
      " 'URW: Discrediting Ukraine: Ukraine is a puppet of the West'\n",
      " 'URW: Discrediting Ukraine: Ukraine is associated with nazism'\n",
      " 'URW: Discrediting the West, Diplomacy: Diplomacy does/will not work'\n",
      " 'URW: Discrediting the West, Diplomacy: Other'\n",
      " 'URW: Discrediting the West, Diplomacy: The EU is divided'\n",
      " 'URW: Discrediting the West, Diplomacy: The West does not care about Ukraine, only about its interests'\n",
      " 'URW: Discrediting the West, Diplomacy: The West is overreacting'\n",
      " 'URW: Discrediting the West, Diplomacy: The West is weak'\n",
      " 'URW: Discrediting the West, Diplomacy: West is tired of Ukraine'\n",
      " 'URW: Distrust towards Media: Ukrainian media cannot be trusted'\n",
      " 'URW: Distrust towards Media: Western media is an instrument of propaganda'\n",
      " 'URW: Hidden plots by secret schemes of powerful groups: Other'\n",
      " 'URW: Negative Consequences for the West: Other'\n",
      " 'URW: Negative Consequences for the West: Sanctions imposed by Western countries will backfire'\n",
      " 'URW: Negative Consequences for the West: The conflict will increase the Ukrainian refugee flows to Europe'\n",
      " 'URW: Overpraising the West: The West belongs in the right side of history'\n",
      " 'URW: Overpraising the West: The West has the strongest international support'\n",
      " 'URW: Praise of Russia: Other'\n",
      " 'URW: Praise of Russia: Praise of Russian President Vladimir Putin'\n",
      " 'URW: Praise of Russia: Praise of Russian military might'\n",
      " 'URW: Praise of Russia: Russia has international support from a number of countries and people'\n",
      " 'URW: Praise of Russia: Russia is a guarantor of peace and prosperity'\n",
      " 'URW: Praise of Russia: Russian invasion has strong national support'\n",
      " 'URW: Russia is the Victim: Other'\n",
      " 'URW: Russia is the Victim: Russia actions in Ukraine are only self-defence'\n",
      " 'URW: Russia is the Victim: The West is russophobic'\n",
      " 'URW: Russia is the Victim: UA is anti-RU extremists'\n",
      " 'URW: Speculating war outcomes: Other'\n",
      " 'URW: Speculating war outcomes: Russian army is collapsing'\n",
      " 'URW: Speculating war outcomes: Ukrainian army is collapsing']\n"
     ]
    }
   ],
   "source": [
    "df = pd.read_csv(\"data.csv\")\n",
    "\n",
    "# load the mlb files back in, to get the classes\n",
    "with open(\"dom_mlb.pkl\", \"rb\") as f:\n",
    "    dom_mlb = pickle.load(f)\n",
    "\n",
    "with open(\"sub_mlb.pkl\", \"rb\") as f:\n",
    "    sub_mlb = pickle.load(f)\n",
    "\n",
    "print(dom_mlb.classes_)\n",
    "print(sub_mlb.classes_)\n",
    "# dom_mlb, sub_mlb, dom_narr_enc, sub_narr_enc = preprocess.encode_labels(df)\n",
    "# print(df.shape)"
   ]
  },
  {
   "cell_type": "markdown",
   "metadata": {},
   "source": [
    "Train it on the sub classes"
   ]
  },
  {
   "cell_type": "code",
   "execution_count": 13,
   "metadata": {},
   "outputs": [
    {
     "name": "stdout",
     "output_type": "stream",
     "text": [
      "[[0 0 0 ... 0 0 0]\n",
      " [0 0 0 ... 0 0 0]\n",
      " [0 0 0 ... 0 0 0]\n",
      " ...\n",
      " [0 0 0 ... 0 0 0]\n",
      " [0 0 0 ... 0 0 0]\n",
      " [0 0 0 ... 0 1 0]]\n"
     ]
    }
   ],
   "source": [
    "vec = TfidfVectorizer(min_df=0.02,max_df=0.75)\n",
    "X = vec.fit_transform(df.text)\n",
    "y = df[sub_mlb.classes_].values # omg this works\n",
    "print(y)"
   ]
  },
  {
   "cell_type": "code",
   "execution_count": 14,
   "metadata": {},
   "outputs": [
    {
     "name": "stdout",
     "output_type": "stream",
     "text": [
      "Skipped fold 17, labels invalid\n",
      "Skipped fold 51, labels invalid\n",
      "Skipped fold 66, labels invalid\n",
      "Skipped fold 80, labels invalid\n",
      "Skipped fold 89, labels invalid\n",
      "Skipped fold 133, labels invalid\n",
      "Skipped fold 143, labels invalid\n",
      "Skipped fold 145, labels invalid\n",
      "Skipped fold 152, labels invalid\n",
      "Skipped fold 154, labels invalid\n",
      "Skipped fold 165, labels invalid\n",
      "Skipped fold 178, labels invalid\n",
      "Skipped fold 183, labels invalid\n",
      "Skipped fold 195, labels invalid\n",
      "                                                                                                            precision    recall  f1-score   support\n",
      "\n",
      "                                                       CC: Climate change is beneficial: CO2 is beneficial       0.00      0.00      0.00         0\n",
      "                                                           CC: Controversy about green technologies: Other       0.00      0.00      0.00         2\n",
      "                                      CC: Controversy about green technologies: Renewable energy is costly       0.00      0.00      0.00         1\n",
      "                                   CC: Controversy about green technologies: Renewable energy is dangerous       0.00      0.00      0.00         0\n",
      "                                  CC: Controversy about green technologies: Renewable energy is unreliable       0.00      0.00      0.00         1\n",
      "                                    CC: Criticism of climate movement: Ad hominem attacks on key activists       0.50      0.20      0.29         5\n",
      "                                           CC: Criticism of climate movement: Climate movement is alarmist       0.00      0.00      0.00         3\n",
      "                                            CC: Criticism of climate movement: Climate movement is corrupt       0.00      0.00      0.00         2\n",
      "                                                                  CC: Criticism of climate movement: Other       0.00      0.00      0.00         2\n",
      "                                       CC: Criticism of climate policies: Climate policies are ineffective       0.00      0.00      0.00         3\n",
      "                                   CC: Criticism of climate policies: Climate policies are only for profit       0.00      0.00      0.00         2\n",
      "                   CC: Criticism of climate policies: Climate policies have negative impact on the economy       0.00      0.00      0.00         3\n",
      "                                                                  CC: Criticism of climate policies: Other       0.00      0.00      0.00         4\n",
      "                        CC: Criticism of institutions and authorities: Criticism of international entities       0.00      0.00      0.00         1\n",
      "                          CC: Criticism of institutions and authorities: Criticism of national governments       0.00      0.00      0.00         8\n",
      "           CC: Criticism of institutions and authorities: Criticism of political organizations and figures       0.00      0.00      0.00         5\n",
      "                                        CC: Criticism of institutions and authorities: Criticism of the EU       0.00      0.00      0.00         0\n",
      "                                                      CC: Criticism of institutions and authorities: Other       0.00      0.00      0.00         0\n",
      "                        CC: Downplaying climate change: CO2 concentrations are too small to have an impact       0.00      0.00      0.00         0\n",
      "                                                CC: Downplaying climate change: Climate cycles are natural       0.00      0.00      0.00         0\n",
      "                                                        CC: Downplaying climate change: Ice is not melting       0.00      0.00      0.00         0\n",
      "           CC: Green policies are geopolitical instruments: Green activities are a form of neo-colonialism       0.00      0.00      0.00         0\n",
      "                              CC: Hidden plots by secret schemes of powerful groups: Blaming global elites       0.00      0.00      0.00         4\n",
      "                  CC: Hidden plots by secret schemes of powerful groups: Climate agenda has hidden motives       0.00      0.00      0.00         0\n",
      "                                              CC: Hidden plots by secret schemes of powerful groups: Other       0.00      0.00      0.00         0\n",
      "CC: Questioning the measurements and science: Greenhouse effect/carbon dioxide do not drive climate change       0.00      0.00      0.00         0\n",
      "            CC: Questioning the measurements and science: Methodologies/metrics used are unreliable/faulty       0.00      0.00      0.00         1\n",
      "                                                       CC: Questioning the measurements and science: Other       0.00      0.00      0.00         0\n",
      "                          CC: Questioning the measurements and science: Scientific community is unreliable       0.00      0.00      0.00         1\n",
      "                                                                                                     Other       0.60      0.91      0.72        97\n",
      "                                    URW: Amplifying war-related fears: By continuing the war we risk WWIII       0.00      0.00      0.00         5\n",
      "                                    URW: Amplifying war-related fears: NATO should/will directly intervene       0.00      0.00      0.00         5\n",
      "                                                                  URW: Amplifying war-related fears: Other       0.00      0.00      0.00         5\n",
      "                                URW: Amplifying war-related fears: Russia will also attack other countries       0.25      0.18      0.21        11\n",
      "      URW: Amplifying war-related fears: There is a real possibility that nuclear weapons will be employed       0.78      0.44      0.56        16\n",
      "                       URW: Blaming the war on others rather than the invader: The West are the aggressors       0.20      0.24      0.22        17\n",
      "                          URW: Blaming the war on others rather than the invader: Ukraine is the aggressor       0.00      0.00      0.00         3\n",
      "                   URW: Discrediting Ukraine: Discrediting Ukrainian government and officials and policies       0.17      0.14      0.15         7\n",
      "                                                URW: Discrediting Ukraine: Discrediting Ukrainian military       0.00      0.00      0.00         3\n",
      "                                               URW: Discrediting Ukraine: Situation in Ukraine is hopeless       0.00      0.00      0.00         4\n",
      "                                       URW: Discrediting Ukraine: Ukraine is a hub for criminal activities       0.00      0.00      0.00         2\n",
      "                                                URW: Discrediting Ukraine: Ukraine is a puppet of the West       0.00      0.00      0.00         8\n",
      "                                              URW: Discrediting Ukraine: Ukraine is associated with nazism       0.00      0.00      0.00         5\n",
      "                                       URW: Discrediting the West, Diplomacy: Diplomacy does/will not work       0.40      0.29      0.33         7\n",
      "                                                              URW: Discrediting the West, Diplomacy: Other       0.22      0.14      0.17        14\n",
      "                                                  URW: Discrediting the West, Diplomacy: The EU is divided       1.00      0.67      0.80         3\n",
      "     URW: Discrediting the West, Diplomacy: The West does not care about Ukraine, only about its interests       0.50      0.25      0.33         8\n",
      "                                           URW: Discrediting the West, Diplomacy: The West is overreacting       0.00      0.00      0.00         1\n",
      "                                                   URW: Discrediting the West, Diplomacy: The West is weak       0.00      0.00      0.00         6\n",
      "                                           URW: Discrediting the West, Diplomacy: West is tired of Ukraine       0.60      0.43      0.50         7\n",
      "                                            URW: Distrust towards Media: Ukrainian media cannot be trusted       0.00      0.00      0.00         0\n",
      "                                 URW: Distrust towards Media: Western media is an instrument of propaganda       0.33      0.14      0.20         7\n",
      "                                             URW: Hidden plots by secret schemes of powerful groups: Other       0.00      0.00      0.00         8\n",
      "                                                            URW: Negative Consequences for the West: Other       0.00      0.00      0.00         0\n",
      "             URW: Negative Consequences for the West: Sanctions imposed by Western countries will backfire       1.00      0.20      0.33         5\n",
      " URW: Negative Consequences for the West: The conflict will increase the Ukrainian refugee flows to Europe       0.00      0.00      0.00         0\n",
      "                                 URW: Overpraising the West: The West belongs in the right side of history       0.00      0.00      0.00         6\n",
      "                              URW: Overpraising the West: The West has the strongest international support       0.00      0.00      0.00         3\n",
      "                                                                              URW: Praise of Russia: Other       0.00      0.00      0.00         0\n",
      "                                         URW: Praise of Russia: Praise of Russian President Vladimir Putin       0.00      0.00      0.00         0\n",
      "                                                   URW: Praise of Russia: Praise of Russian military might       0.00      0.00      0.00         3\n",
      "             URW: Praise of Russia: Russia has international support from a number of countries and people       0.00      0.00      0.00         1\n",
      "                                      URW: Praise of Russia: Russia is a guarantor of peace and prosperity       0.00      0.00      0.00         2\n",
      "                                       URW: Praise of Russia: Russian invasion has strong national support       0.00      0.00      0.00         2\n",
      "                                                                          URW: Russia is the Victim: Other       0.00      0.00      0.00         2\n",
      "                                URW: Russia is the Victim: Russia actions in Ukraine are only self-defence       0.00      0.00      0.00         3\n",
      "                                                        URW: Russia is the Victim: The West is russophobic       0.00      0.00      0.00         5\n",
      "                                                       URW: Russia is the Victim: UA is anti-RU extremists       0.00      0.00      0.00         4\n",
      "                                                                      URW: Speculating war outcomes: Other       1.00      0.29      0.44         7\n",
      "                                                 URW: Speculating war outcomes: Russian army is collapsing       0.00      0.00      0.00         4\n",
      "                                               URW: Speculating war outcomes: Ukrainian army is collapsing       0.00      0.00      0.00         6\n",
      "\n",
      "                                                                                                 micro avg       0.47      0.34      0.39       350\n",
      "                                                                                                 macro avg       0.11      0.06      0.07       350\n",
      "                                                                                              weighted avg       0.32      0.34      0.31       350\n",
      "                                                                                               samples avg       0.55      0.54      0.53       350\n",
      "\n"
     ]
    },
    {
     "name": "stderr",
     "output_type": "stream",
     "text": [
      "/Users/jochem/opt/anaconda3/lib/python3.9/site-packages/sklearn/metrics/_classification.py:1327: UndefinedMetricWarning: Precision and F-score are ill-defined and being set to 0.0 in labels with no predicted samples. Use `zero_division` parameter to control this behavior.\n",
      "  _warn_prf(average, modifier, msg_start, len(result))\n",
      "/Users/jochem/opt/anaconda3/lib/python3.9/site-packages/sklearn/metrics/_classification.py:1327: UndefinedMetricWarning: Recall and F-score are ill-defined and being set to 0.0 in labels with no true samples. Use `zero_division` parameter to control this behavior.\n",
      "  _warn_prf(average, modifier, msg_start, len(result))\n"
     ]
    }
   ],
   "source": [
    "y_pred, y_true = model.logistic_regression_loocv(X,y,majority_ensemble=True)\n",
    "print(classification_report(y_true = y_true, y_pred=y_pred, target_names=sub_mlb.classes_))"
   ]
  },
  {
   "cell_type": "markdown",
   "metadata": {},
   "source": [
    "Trained on the dom classes:"
   ]
  },
  {
   "cell_type": "code",
   "execution_count": 15,
   "metadata": {},
   "outputs": [
    {
     "name": "stdout",
     "output_type": "stream",
     "text": [
      "Skipped fold 89, labels invalid\n",
      "Skipped fold 165, labels invalid\n",
      "                                                        precision    recall  f1-score   support\n",
      "\n",
      "                      CC: Climate change is beneficial       0.00      0.00      0.00         0\n",
      "              CC: Controversy about green technologies       0.00      0.00      0.00         3\n",
      "                     CC: Criticism of climate movement       0.50      0.30      0.37        10\n",
      "                     CC: Criticism of climate policies       0.60      0.30      0.40        10\n",
      "         CC: Criticism of institutions and authorities       0.33      0.26      0.29        19\n",
      "                        CC: Downplaying climate change       0.00      0.00      0.00         1\n",
      "       CC: Green policies are geopolitical instruments       0.00      0.00      0.00         0\n",
      " CC: Hidden plots by secret schemes of powerful groups       0.00      0.00      0.00         6\n",
      "          CC: Questioning the measurements and science       0.00      0.00      0.00         3\n",
      "                                                 Other       0.65      0.88      0.75        97\n",
      "                     URW: Amplifying war-related fears       0.63      0.65      0.64        26\n",
      "URW: Blaming the war on others rather than the invader       0.24      0.28      0.26        18\n",
      "                             URW: Discrediting Ukraine       0.62      0.53      0.57        19\n",
      "                 URW: Discrediting the West, Diplomacy       0.52      0.69      0.59        35\n",
      "                           URW: Distrust towards Media       0.33      0.11      0.17         9\n",
      "URW: Hidden plots by secret schemes of powerful groups       0.00      0.00      0.00         8\n",
      "               URW: Negative Consequences for the West       1.00      0.14      0.25         7\n",
      "                            URW: Overpraising the West       0.00      0.00      0.00         9\n",
      "                                 URW: Praise of Russia       0.00      0.00      0.00        10\n",
      "                             URW: Russia is the Victim       0.50      0.08      0.14        12\n",
      "                         URW: Speculating war outcomes       0.39      0.47      0.42        15\n",
      "\n",
      "                                             micro avg       0.53      0.51      0.52       317\n",
      "                                             macro avg       0.30      0.22      0.23       317\n",
      "                                          weighted avg       0.48      0.51      0.47       317\n",
      "                                           samples avg       0.61      0.62      0.58       317\n",
      "\n"
     ]
    },
    {
     "name": "stderr",
     "output_type": "stream",
     "text": [
      "/Users/jochem/opt/anaconda3/lib/python3.9/site-packages/sklearn/metrics/_classification.py:1327: UndefinedMetricWarning: Precision and F-score are ill-defined and being set to 0.0 in labels with no predicted samples. Use `zero_division` parameter to control this behavior.\n",
      "  _warn_prf(average, modifier, msg_start, len(result))\n",
      "/Users/jochem/opt/anaconda3/lib/python3.9/site-packages/sklearn/metrics/_classification.py:1327: UndefinedMetricWarning: Recall and F-score are ill-defined and being set to 0.0 in labels with no true samples. Use `zero_division` parameter to control this behavior.\n",
      "  _warn_prf(average, modifier, msg_start, len(result))\n"
     ]
    }
   ],
   "source": [
    "y = df[dom_mlb.classes_].values\n",
    "y_pred, y_true = model.logistic_regression_loocv(X,y,majority_ensemble=True)\n",
    "print(classification_report(y_true = y_true, y_pred=y_pred, target_names=dom_mlb.classes_))"
   ]
  },
  {
   "cell_type": "markdown",
   "metadata": {},
   "source": []
  }
 ],
 "metadata": {
  "kernelspec": {
   "display_name": "base",
   "language": "python",
   "name": "python3"
  },
  "language_info": {
   "codemirror_mode": {
    "name": "ipython",
    "version": 3
   },
   "file_extension": ".py",
   "mimetype": "text/x-python",
   "name": "python",
   "nbconvert_exporter": "python",
   "pygments_lexer": "ipython3",
   "version": "3.9.7"
  }
 },
 "nbformat": 4,
 "nbformat_minor": 2
}
